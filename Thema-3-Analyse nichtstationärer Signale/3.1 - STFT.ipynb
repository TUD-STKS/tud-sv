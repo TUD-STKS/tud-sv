{
 "cells": [
  {
   "cell_type": "markdown",
   "metadata": {
    "editable": false
   },
   "source": [
    "# 3.1 - Short Time Fourier Transformation"
   ]
  },
  {
   "cell_type": "markdown",
   "metadata": {
    "editable": false
   },
   "source": [
    "<img style=\"float: right; margin:5px 0px 0px 10px\" src=\"img/1-Titel.png\" width=\"400\">\n",
    "\n",
    "Die Kurzzeit-Fourier-Transformation (Englisch: \"short-time-fourier-tranform\", kurz: STFT) ist eine Fourier-bezogene Transformation, mit der die Frequenzanteile und deren Phasenlage einzelner Zeitabschnitte eines Signals bestimmt werden. In der Praxis besteht das Verfahren zum Berechnen von STFTs darin, ein längeres Zeitsignal in kürzere Segmente gleicher Länge zu unterteilen und dann die Fourier-Transformation für jedes Segment separat zu berechnen. Die erzeugten Einzelspektren werden dann zur Analyse der spektralen Zusammensetzung über die Zeit in einem sog. __Spektrogramm__ aneinandergefügt.\n",
    "\n",
    "Dieses Notebook soll Ihnen die Theorie hinter der STFT näher bringen und mit Anwendungsbeispielen zeigen, wann diese Analysetechnik genutzt werden kann. \n",
    "\n",
    "---\n",
    "\n",
    "Die Gliederung des Notebooks ist wie folgt aufgebaut:\n",
    "- In *Abschnitt 1* werden einige Limitationen einer normalen Fouriertransformation bei instationären Signalen gezeigt.\n",
    "- In *Abschnitt 2* wird die Fensterung und dadurch Segmentierung von instationären Signalen durchgeführt und dessen Frequenzänge berechnet.\n",
    "- In *Abschnitt 3* werden diese einzelnen Frequenzgänge grafisch zusammengefügt und somit das besagte Spektrogram erzeugt.\n",
    "- Im letzten *Abschnitt 4* wird die STFT auf verschiedene Audio-Beispiele angewendet.\n",
    "\n",
    "\n",
    "## Inhalt  \n",
    "<table style=\"width:256px; border: 1px solid black; display: inline-block\">\n",
    "    <tr>\n",
    "        <td  style=\"text-align:right\" width=64px><img src=\"img/1-1.png\" style=\"float:left\"></td>\n",
    "        <td style=\"text-align:left\" width=256px>\n",
    "            <a style=\"color:black; font-size:12px; font-weight:bold; text-decoration:none\" href='#1'>\n",
    "                1. Nichtstationäre Signale\n",
    "            </a>\n",
    "        </td>\n",
    "    </tr>  \n",
    "    <tr>\n",
    "        <td style=\"text-align:right\"><img src=\"img/1-2.jpg\" style=\"float:left\"></td>\n",
    "        <td style=\"text-align:left\" width=128px>\n",
    "            <a style=\"color:black; font-size:12px; font-weight:bold; text-decoration:none\" href='#2'>\n",
    "                2. Fensterung\n",
    "            </a>\n",
    "        </td>\n",
    "    </tr>\n",
    "    <tr>\n",
    "        <td style=\"text-align:right\"><img src=\"img/1-3.jpg\" style=\"float:left\"></td>\n",
    "        <td style=\"text-align:left\" width=128px>\n",
    "            <a style=\"color:black; font-size:12px; font-weight:bold; text-decoration:none\" href='#3'>\n",
    "                3. Kurzzeitspektrum\n",
    "            </a>\n",
    "        </td>\n",
    "    </tr>\n",
    "    <tr>\n",
    "        <td style=\"text-align:right\"><img src=\"img/1-4.jpg\" style=\"float:left\"></td>\n",
    "        <td style=\"text-align:left\" width=128px>\n",
    "            <a style=\"color:black; font-size:12px; font-weight:bold; text-decoration:none\" href='#4'>\n",
    "                4. Anwendungsbeispiele\n",
    "            </a>\n",
    "        </td>\n",
    "    </tr>\n",
    "</table>\n",
    "\n",
    "---"
   ]
  },
  {
   "cell_type": "markdown",
   "metadata": {
    "editable": false
   },
   "source": [
    "<a id='1'></a>\n",
    "<div>\n",
    "    <img src=\"img/1-1.png\" style=\"float:left\">\n",
    "    <h2 style=\"position: relative; top: 6px; left: 6px\">\n",
    "        1. Nichtstationäre Signale \n",
    "    </h2>\n",
    "</div>\n",
    "<br>\n",
    "<br>\n",
    "Signale, die sich mit der Zeit ändern, werden als nichtstationäre Signale bezeichnet.\n",
    "\n",
    "Die Fourier-Transformation ist v.a. für stationäre Signale geeignet ist, deren spektrale Zusammensetzung (Frequenz und Phasenlage) sich zeitlich nicht ändert. In der Praxis sind die Signale jedoch häufig nichtstationäre Signale, wodurch diese Bedingung nicht mehr erfüllt ist. Wenn das Spektrum über eine einzige Fourier-Transformation bestimmt wird, gehen nicht nur spektrale Charakteristika verloren, sondern u.U. auch ihre zeitliche Zuordnung (d.h. _wann_ die Frequenzkomponente im Zeitsignal auftritt). Daher müssen bei nicht stationären Signalen die lokalen Eigenschaften berücksichtigt werden. Das nichtperiodische Signal wird deswegen in zeitlich stationär angenommene Signalabschnitte unterteilt.\n",
    "\n",
    "---\n",
    "Als Beispiel sollen zunächst einige Zeitsignale erzeugt und deren Frequenzgänge analysiert werden. Importieren Sie dafür zunächst alle für dieses Notebook notwendigen Module und installieren Sie gegebenfalls fehlende Module via `pip install ...`"
   ]
  },
  {
   "cell_type": "code",
   "execution_count": null,
   "metadata": {},
   "outputs": [],
   "source": [
    "'''\n",
    "Import externer Module\n",
    "'''\n",
    "\n",
    "import [..] # Installieren Sie numpy als np\n",
    "import cmath\n",
    "\n",
    "from   [..] # Importieren Sie fftpack und signal aus scipy in den globalen Namensraum\n",
    "from   [..] # Importieren Sie wavfile aus scipy.io in den globalen Namensraum\n",
    "\n",
    "import [..] # Importieren Sie matplotlib.pyplot als plt\n",
    "from   [..] # Importieren Sie cm aus matplotlib in den globalen Namensraum\n",
    "\n",
    "from mpl_toolkits.mplot3d import axes3d\n",
    "\n",
    "import librosa\n",
    "import librosa.display\n",
    "\n",
    "\n",
    "\n",
    "import IPython.display as ipd\n",
    "from ipywidgets import interact, FloatSlider"
   ]
  },
  {
   "cell_type": "markdown",
   "metadata": {
    "editable": false
   },
   "source": [
    "Falls verhindert werden soll, dass große Cell-Outputs (Plots, Interaktive Grafiken etc.) mit einem Scrollbar versehen werden, kann diese Zeile ausgeführt werden:"
   ]
  },
  {
   "cell_type": "code",
   "execution_count": null,
   "metadata": {},
   "outputs": [],
   "source": [
    "%%javascript\n",
    "IPython.OutputArea.prototype._should_scroll = function(lines) {\n",
    "    return false;\n",
    "}"
   ]
  },
  {
   "cell_type": "markdown",
   "metadata": {
    "editable": false
   },
   "source": [
    "In diesem Notebook soll zudem das Konzept des [Dictionary](https://realpython.com/python-dicts/) zur übersichtlichen Speicherung von Daten eingeführt werden. Ein Dictionary wird (vergleichbar mit Listen und Tupeln) mit geschweiften Klammern `{ ... }` erzeugt. Ein Dictionary speichert alle möglichen Datentypen, die man mit einem Schlüsselwort wieder aus diesem aufrufen kann. Die Syntax ist dabei wie folgt: <br>\n",
    "{ Key_1: Value_1,<br>\n",
    "  Key_2: Value_2,<br>\n",
    "  ... }<br><br>\n",
    "Der Schlüssel muss dabei ein String (also `\"..\"` oder `'..'`) sein.\n",
    " \n",
    "\n",
    "Als Beispiel sollen alle Informationen einer Audiodatei gespeichert werden. Diese kann beinhalten:\n",
    "- Strings: Speicherort, Titel, Autor*in\n",
    "- Zahlen (float, int,..): Dauer, Abtastfrequenz\n",
    "- Listen bzw. Arrays... (auch Numpy-Array): Audiospur(en)\n",
    "- ...\n",
    "\n",
    "Speichern Sie im Folgenden nun Ihr (vorgegebenes) Lieblingslied in ein Dictionary:\n"
   ]
  },
  {
   "cell_type": "code",
   "execution_count": null,
   "metadata": {},
   "outputs": [],
   "source": [
    "'''\n",
    "Erzeugen und Speichern von Dictionaries\n",
    "'''\n",
    "\n",
    "author = \"Wolfgang Petry\"              # Speichern Sie 'author' unter dem Schlüssel 'Autor_in' in dict_hit_no1\n",
    "title = 'Wahnsinn'                     # Speichern Sie 'title' unter dem Schlüssel 'Titel' in dict_hit_no1\n",
    "duration_s = 319.25                    # Speichern Sie 'duration_s' unter dem Schlüssel 'Spieldauer' in dict_hit_no1\n",
    "fs_Hz = 44100                          # Speichern Sie 'fs_Hz' unter dem Schlüssel 'Abtastfreq links' in dict_hit_no1\n",
    "track_left = [1, 0.458,0.23,-1]        # Speichern Sie 'track_left' unter dem Schlüssel 'Spur links' in dict_hit_no1\n",
    "track_right = [1,0.5,0.02,1] # Speichern Sie 'track_right' unter dem Schlüssel 'Spur rechts' in dict_hit_no1\n",
    "\n",
    "dict_hit_no1 = { ... } # ToDo: erstellen sie das Dictionary"
   ]
  },
  {
   "cell_type": "code",
   "execution_count": null,
   "metadata": {},
   "outputs": [],
   "source": [
    "print(\"Einträge im Dictionary: {}\".format(len(dict_hit_no1)))"
   ]
  },
  {
   "cell_type": "markdown",
   "metadata": {
    "editable": false
   },
   "source": [
    "Um wieder an die in dem Dictionary gespeicherten Daten zu kommen, kann man diese auf zwei Weisen mit dem Schlüssel-bzw. Key-String aufrufen: <br>\n",
    "`dict_hit_no1['key_string']` oder `dict_hit_no1.get('key_string')`\n",
    "\n",
    "Testen Sie beide Verfahren nun aus:"
   ]
  },
  {
   "cell_type": "code",
   "execution_count": null,
   "metadata": {},
   "outputs": [],
   "source": [
    "'''\n",
    "Laden von Daten aus Dictionaries\n",
    "'''\n",
    "\n",
    "[..]"
   ]
  },
  {
   "cell_type": "markdown",
   "metadata": {
    "editable": false
   },
   "source": [
    "Um nun das angefangene Dictionary zu erweitern, kann dies mit dem Befehl `dict_XY.update(...)` erfolgen. Dabei kann man auch ein anderes Dictionary mit einfügen. Wenn sie einen Schlüssel nutzen, den es schon im Dictionary gab, werden die Daten überschrieben (nutzen Sie dies zur Aktualisierung der Daten).\n",
    "\n",
    "Aktualisieren Sie nun das Dictionary Ihres Lieblingsliedes mit einem Genre und einer besseren Audiospur:"
   ]
  },
  {
   "cell_type": "code",
   "execution_count": null,
   "metadata": {},
   "outputs": [],
   "source": [
    "'''\n",
    "Erweiterung und Aktualisierung von Dictionaries\n",
    "'''\n",
    "\n",
    "genre = \"1a Kuschelrock\"                       # Speichern Sie 'genre' unter dem Schlüssel 'Genre' in dict_hit_no1\n",
    "track_left_np = np.array([1, 0.458,0.23,-1])   # Überschreiben Sie 'Spur links' in dict_hit_no1\n",
    "track_right_np = np.array([1,0.5,0.02,1])      # Überschreiben Sie 'Spur rechts' in dict_hit_no1\n",
    "dict_better_version = {'Spur links': track_left_np, 'Spur rechts': track_right_np}\n",
    "\n",
    "# ToDo: Speichern Sie 'Genre' ins Dictionary\n",
    "[..]\n",
    "\n",
    "# ToDo: Updaten Sie das Unterdictionary 'dict_better_version' in 'dict_hit_no1'\n",
    "[..]"
   ]
  },
  {
   "cell_type": "code",
   "execution_count": null,
   "metadata": {},
   "outputs": [],
   "source": [
    "print(\"Einträge im Dictionary: {}\".format(len(dict_hit_no1)))"
   ]
  },
  {
   "cell_type": "markdown",
   "metadata": {
    "editable": false
   },
   "source": [
    "Dictionaries können genutzt werden, um den Code übersichtlicher zu gestalten. Im Folgenden sollen jetzt mehrere instationäre Testsignale erzeugt werden, welche aus verschiedenen Sinusschwingungen zusammengesetzt sind. "
   ]
  },
  {
   "cell_type": "code",
   "execution_count": null,
   "metadata": {},
   "outputs": [],
   "source": [
    "'''\n",
    "Erzeugen von nichtstationären Signalen\n",
    "'''\n",
    "\n",
    "\n",
    "# Initialisierung der Variablen\n",
    "fs_Hz = 200        # Abtastfrequenz\n",
    "T_s = 6            # Zeitdauer\n",
    "L_periods = 10     # Länge des Signals in Perioden\n",
    "\n",
    "# Vier Sinus-Signale\n",
    "f1_Hz = 9;\n",
    "f2_Hz = 10;\n",
    "f3_Hz = 15;\n",
    "f4_Hz = 20;\n",
    "\n",
    "# Vier Zeit-Segmente\n",
    "t1_s = np.arange(0, 1/f1_Hz*L_periods, 1/fs_Hz);\n",
    "t2_s = np.arange([..]);\n",
    "t3_s = np.arange([..]);\n",
    "t4_s = np.arange([..]);\n",
    "\n",
    "# Vier Sinus-Segmente\n",
    "seg1 = 2*np.sin([..]) \n",
    "seg2 = 5*np.sin([..]) \n",
    "seg3 = 7*np.sin([..]) \n",
    "seg4 = 4*np.sin([..]) \n",
    "\n",
    "\n",
    "# Drei verschiedene Signale mit unterschiedlichen Segmentzusammensetzungen\n",
    "s1 = np.array([seg1, seg2, seg3, seg4]).flatten()\n",
    "s2 = np.array([seg3, seg4, seg2, seg1]).flatten()\n",
    "s3 = np.array([seg2, seg1, seg4, seg3]).flatten()\n",
    "t_s = [..]  # ToDo: Erzeugen Sie ein Array mit den zugehörigen Zeitschritten \n",
    "\n",
    "\n",
    "# Initialisierung und füllen des Dictionaries:\n",
    "dict_s = [..]  # Speichern Sie die Signale 's1', 's2' und 's3' mit Ihren Namen als Schlüssel in das 'dict_s'\n",
    "\n",
    "\n",
    "# Vorbereitung der Fouriertransformation\n",
    "signalLength = len(s1);\n",
    "print(\"Länge des Signals: {}\".format(signalLength))\n",
    "Nfft = int(2**(np.floor(np.log(signalLength)/np.log(2))+1)) # Länge der Fft\n",
    "print(\"Länge der FFT: {}\".format(Nfft))\n",
    "f_Hz = np.arange(0,fs_Hz,fs_Hz/Nfft)   # Frequenzachse\n",
    "\n",
    "\n",
    "dictIndex = 0;\n",
    "for s in (s1,s2,s3):\n",
    "    dictIndex += 1\n",
    "    \n",
    "    # Transformation in den Frequenzbereich:\n",
    "    S = [..]      # ToDo: führen Sie eine FFT der Länge N mit dem Signal S durch. Nutzen Sie zB: fftpack.fft()\n",
    "    dict_s.update({'S{}'.format(dictIndex) : S})\n",
    "    \n",
    "    # Graphische Darstellung\n",
    "    plt.subplot(131)\n",
    "    plt.title('Signal %d' %dictIndex)\n",
    "    plt.xlabel('Zeit [s]') \n",
    "    plt.ylabel('s(t)') \n",
    "    plt.plot(t_s, s)\n",
    "    plt.subplot(132)\n",
    "    plt.title('Frequenzgang des Signals %d' %dictIndex)\n",
    "    plt.xlabel('Frequenz [Hz]') \n",
    "    plt.xlim(0, 40)\n",
    "    plt.ylabel('|S(f)|') \n",
    "    Sabs = np.abs(S)\n",
    "    plt.plot(f_Hz, Sabs)\n",
    "    line1, = plt.plot([f1_Hz,f1_Hz],[0,max(Sabs)],'-r',label='f=' + str(f1_Hz) + 'Hz')\n",
    "    line2, = plt.plot([f2_Hz,f2_Hz],[0,max(Sabs)],'-g',label='f=' + str(f2_Hz) + 'Hz')\n",
    "    line3, = plt.plot([f3_Hz,f3_Hz],[0,max(Sabs)],'-b',label='f=' + str(f3_Hz) + 'Hz')\n",
    "    line4, = plt.plot([f4_Hz,f4_Hz],[0,max(Sabs)],'-m',label='f=' + str(f4_Hz) + 'Hz')\n",
    "    plt.gcf().set_size_inches(20, 5)\n",
    "    plt.legend(handles=[line1,line2,line3,line4])\n",
    "    plt.subplot(133)\n",
    "    plt.title('Phasengang des Signals %d' %dictIndex)\n",
    "    plt.xlabel('Frequenz [Hz]') \n",
    "    plt.xlim(0, fs_Hz/5)\n",
    "    plt.ylabel('$\\phi$(f) [rad]') \n",
    "    SPhase = np.angle(S)\n",
    "    plt.plot(f_Hz, SPhase)\n",
    "    plt.show()"
   ]
  },
  {
   "cell_type": "markdown",
   "metadata": {
    "editable": false
   },
   "source": [
    "Die absoluten Frequenzgänge $|S(f)|$ sind nahezu identisch und enthalten keine erkennbare Information mehr darüber, in welchem Segment welche harmonische Schwingung lag, während man die jeweiligen Amplitudenhöhen immer ungenauer werden, je kleiner die Signalabschnitte werden (durch die Wahl von $L_{periods}$).\n",
    "\n",
    "Um alle Ergebnisse besser zu inspizieren, werden nun alle Ergebnisse über die `interact`- Funktion interaktiv dargestellt:"
   ]
  },
  {
   "cell_type": "code",
   "execution_count": null,
   "metadata": {
    "scrolled": true
   },
   "outputs": [],
   "source": [
    "'''\n",
    "Interaktive Grafik\n",
    "'''\n",
    "@interact( domain =[('1. Zeitsignal', 's{}'), ('2. Frequenzsignal', 'S{}')], \\\n",
    "          signal1 = True, signal2 = True, signal3 = True, type= [('Realteil', 1), ('Imaginärteil',2), ('Betrag',3), ('Phase',4)], \\\n",
    "          lower_bound =FloatSlider(min=0,max=Nfft, step=1, continuous_update=False), \\\n",
    "          upper_bound = FloatSlider(min=1,max=Nfft, step=1, continuous_update=False) )\n",
    "def interactive_signals(domain = 'Zeitsignal', signal1 =True, signal2 = True, signal3 = True, \\\n",
    "                             type = 'abs', lower_bound = 0, upper_bound = Nfft):\n",
    "    s = []\n",
    "    col = []\n",
    "    legend_label = []\n",
    "\n",
    "    if signal1:\n",
    "        s.append(dict_s.get(domain.format(1)))\n",
    "        col.append('y')\n",
    "        legend_label.append('Segment 1')\n",
    "    if signal2:\n",
    "        s.append(dict_s.get(domain.format(2)))\n",
    "        col.append('g')\n",
    "        legend_label.append('Segment 2')\n",
    "    if signal3:\n",
    "        s.append(dict_s.get(domain.format(3))) \n",
    "        col.append('r')\n",
    "        legend_label.append('Segment 3')\n",
    "    \n",
    "    m = []\n",
    "    for n in s:\n",
    "        \n",
    "        if type == 1:\n",
    "            m.append(n.real)\n",
    "        elif type == 2:\n",
    "            m.append(n.imag)\n",
    "        elif type == 3:\n",
    "            m.append(abs(n))\n",
    "        elif type == 4:\n",
    "            m.append(np.angle(n))   \n",
    "        s = m\n",
    "    \n",
    "\n",
    "    # Grafische Darstellung\n",
    "    i = 0\n",
    "    for n in s:\n",
    "        \n",
    "        plt.plot(n, color = col[i], label=legend_label[i])\n",
    "        plt.xlim(lower_bound, upper_bound)\n",
    "        i+=1\n",
    "    plt.legend()\n",
    "    plt.gcf().set_size_inches(20, 5)\n",
    "    plt.show()\n",
    "    "
   ]
  },
  {
   "cell_type": "markdown",
   "metadata": {},
   "source": [
    "---\n",
    "\n",
    "<a id='2'></a>\n",
    "<div>\n",
    "    <img src=\"img/1-2.jpg\" style=\"float:left\">\n",
    "    <h2 style=\"position: relative; top: 6px; left: 6px\">\n",
    "        2. Fensterung  \n",
    "    </h2>\n",
    "</div>\n",
    "<br>\n",
    "<br>\n",
    "Im folgenden Abschnitt soll die Fensterung näher betrachtet werden, mit der das nichtstationäre Signal in quasi-stationäre Signalabschnitte segmentiert wird.\n",
    "\n",
    "Ein bloßes Ausschneiden des Signals würde nicht nur potentiell Sprünge im periodisch forgesetzten Zeitsignal erzeugen, was bereits in Notebook 2.2 thematisiert wurde, sondern ist auch gleichbedeutend mit einer Rechteckfensterung. Anders formuliert ist das einfache Ausschneiden eines Signalabschnittes gleichbedeutend mit der Multiplikation mit einem Rechteckfenster im Zeitbereich, welches einer Faltung mit einer Spaltfunktion im Frequenzbereich und dadurch ein Verwischen der Spektrallinien zur Folge hat. Deshalb ist es wichtig, eine geeignetere Fensterfunktion $h(t)$ zu wählen (z.B. ein von-Hann-Fenster). Die Fensterlänge $T$ wird entsprechend der Länge des quasi-periodischen Signalsegments gewählt.\n",
    "Ein weiterer Parameter ist der Grad der Überlappung aufeinanderfolgender Signalabschnitte (siehe Vorlesung Thema4, Folie 15 ff.).\n",
    "\n",
    "---\n",
    "Nutzen Sie die vorgegebene Funktion ``live_plot()``, um sich einen Durchlauf der Segmentierung, Fensterung und Fouriertransformation auf das Signal `s1` anschauen zu können. Durch den Aufruf von `ipd.clear_output()` wird der vorherige Plot gelöscht, auf dessen Stelle ein neuer Plot eingefügt wird.\n",
    "(Anmerkung: für richtige Animationen von Plots bietet sich auch die [animation](https://matplotlib.org/api/animation_api.html) API von Matplotlib an. Da dies aber nicht der Inhalt dieses Notebooks ist, soll die Animation simpel gehalten werden). \n",
    "Die Funktionsargumente sind\n",
    "- die Zeitachse `t_s` \n",
    "- das Audiosignal `audioSignal`\n",
    "- die Zeitachse eines gefensterten Signalausschnittes `tSegment_s`\n",
    "- der gefensterte Signalausschnitt `winAudioSignalSegment`\n",
    "- die Frequenzachse des Spektrums `fSegment_Hz` \n",
    "- das Spektrum selbst `SSegment`\n",
    "- der Schritt, an dem sich das Spektrogramm gerade befindet `stepIndex`\n",
    "- Limits für die Achsen `xLim_max`& `yLim_max`\n"
   ]
  },
  {
   "cell_type": "code",
   "execution_count": null,
   "metadata": {},
   "outputs": [],
   "source": [
    "'''\n",
    "Funktion definieren: Dynamische Darstellung\n",
    "'''\n",
    "\n",
    "def live_plot(t_s, audioSignal, tSegment_s, winAudioSignalSegment, fSegment_Hz, SSegment,\\\n",
    "              stepIndex, xLim_max= 50, yLim_max= 80):\n",
    "\n",
    "    plt.ion()\n",
    "    ipd.clear_output(wait=True)\n",
    "    fig, (ax1, ax2) = plt.subplots(1, 2)\n",
    "    \n",
    "    ax1.set_title('Fensterung des Signals')\n",
    "    ax1.set_xlabel('Zeit [s]') \n",
    "    ax1.set_ylabel('s(t)') \n",
    "    ax1.plot(t_s, audioSignal)\n",
    "    ax1.plot(tSegment_s, winAudioSignalSegment)\n",
    "\n",
    "    ax2.set_title('Frequenzgang des gefensterten Signalsegments %d' %stepIndex)\n",
    "    ax2.set_xlabel('Frequenz [Hz]') \n",
    "    ax2.set_ylabel('|S(f)|') \n",
    "    ax2.plot(fSegment_Hz, SSegment)\n",
    "    plt.xlim(0, xLim_max)\n",
    "    plt.ylim(0, yLim_max)    \n",
    "    \n",
    "    fig.set_size_inches(20, 5)  \n",
    "    plt.show()\n"
   ]
  },
  {
   "cell_type": "markdown",
   "metadata": {
    "editable": false
   },
   "source": [
    "1. Normalisieren Sie zunächst das Signal `s1`, dass dessen Maximalwert den Wert 1 beträgt.\n",
    "2. Erzeugen Sie ein [Tukey-Fenster](https://docs.scipy.org/doc/scipy/reference/generated/scipy.signal.get_window.html) mit einem alpha-Parameter von 0.7, dessen Fensterlänge `T_samples` $2^x$ Samples beträgt (z.B. $x=7$ für 128 samples). Dies soll auch die Länge der FFT sein.\n",
    "3. Stellen Sie eine Überlappung des Zeitfensters `overlap_samples` auf die Hälfte oder zwei Drittel der Fensterlänge `Twin_samples` ein. Die Überlappung und der Vorschub zweier Fenster sind voneiander abhängig: Anzahl an Segmenten = (Fensterlänge - Overlap)/Vorschub (Vorschub ist hier als `slide_samples` bezeichnet).\n",
    "4. Erzeugen Sie eine for-Schleife, in welcher jedes Segment gefenstert und Fourier-transformiert wird. Achten Sie dabei darauf, dass die Schleife bei Erreichen des Signalendes korrekt beendet wird und nicht auf Indices außerhalb des Arrays zugegriffen wird. Berechnen Sie daher vorher die Anzahl an möglichen Segmenten (`numSegments`).\n",
    "5. Fügen Sie zum Schluss die Funktion `live_plot` in die for-Schleife ein und übergeben Sie diesem die benötigten Parameter und Werte."
   ]
  },
  {
   "cell_type": "code",
   "execution_count": null,
   "metadata": {},
   "outputs": [],
   "source": [
    "'''\n",
    "Dynamische Fensterung des Signals 's1'\n",
    "'''\n",
    "\n",
    "%matplotlib inline\n",
    "\n",
    "# Signal s1 normalisieren\n",
    "s = [..]         # ToDo: Signal 's1' aus dict_s normalisieren\n",
    "T_samples = [..] # ToDo: Anzahl an Abtastpunkten\n",
    "T_s = [..]       # ToDo: Zeitdauer des Gesamtsignals\n",
    "t_s = np.arange(0, T_s, 1/fs_Hz)\n",
    "\n",
    "\n",
    "# Erzeugung des Fensters\n",
    "Nfft = 2**7;                       # FFT Länge\n",
    "Twin_samples = Nfft                # Fensterlänge in samples\n",
    "overlap_samples = Twin_samples//4  # Überlappung zwischen zwei Segmenten\n",
    "slide_sample = [..]                # ToDo: Legen Sie den Vorschub des Fensters (abhängig von \"Twin Samples\" und \"overlap_samples\") fest\n",
    "window = [..]                      # ToDo: Erzeugen Sie das Tukey-Fenster mit 'signal.get_window()'\n",
    "f_Hz = np.arange(0, fs_Hz, fs_Hz/Nfft)\n",
    "\n",
    "\n",
    "# Erzeugung des Segments, Fouriertransformation dessen und graphische Anzeige\n",
    "numSegments = (T_samples - overlap_samples)//slide_sample\n",
    "\n",
    "# Überprüfung der Parameter:\n",
    "print(\"Länge des Signals: {} samples\".format(T_samples))\n",
    "print(\"Fenster/FFT Länge: {} samples\".format(Twin_samples))\n",
    "print(\"Vorschub: {} samples\".format(overlap_samples))\n",
    "print(\"Anzahl an Segmenten: {}\".format(numSegments))\n",
    "\n",
    "\n",
    "for seqIndex in range(numSegments):\n",
    "    tSegment_s = t_s[seqIndex*slide_sample: seqIndex*slide_sample + Twin_samples]\n",
    "    sSegment = s[seqIndex*slide_sample: seqIndex*slide_sample + Twin_samples]\n",
    "    winsSegment = sSegment * window\n",
    "    winS = np.abs(fftpack.fft(winsSegment, Nfft))       \n",
    "    \n",
    "    # Graphische Darstellung\n",
    "    [..]      # ToDo: Fügen Sie die Funktion 'live_plot()' ein (xLim_max=50, yLim_max=90)"
   ]
  },
  {
   "cell_type": "markdown",
   "metadata": {
    "editable": false
   },
   "source": [
    "Die Wahl der Fensterfunktion $h(t)$ und der Zeitfensterlänge `Twin_samples` muss problemspezifisch erfolgen. Im Allgemeinen kann ein kurzes Zeitfenster eine höhere Auflösung des zeitlichen Zustands und ein langes Fenster eine höhere Auflösung im Frequenzbereich bieten. Zwischen beidem muss der beste Kompromiss gesucht werden.\n",
    "\n",
    "---"
   ]
  },
  {
   "cell_type": "markdown",
   "metadata": {
    "editable": false
   },
   "source": [
    "<a id='3'></a>\n",
    "<div>\n",
    "    <img src=\"img/1-3.jpg\" style=\"float:left\">\n",
    "    <h2 style=\"position: relative; top: 6px; left: 6px\">\n",
    "        3. Kurzzeitspektrum  \n",
    "    </h2>\n",
    "</div>\n",
    "\n",
    "<br>\n",
    "<br>\n",
    "Setzt man den Signalabschnitt als zu transformierende Funktion in das Fourier-Integral ein, erhält man die Hintransformationsgleichung der STFT wie folgt:\n",
    "\\begin{equation}\n",
    "X(\\omega, t)=\\int_{-\\infty}^{\\infty}x(\\tau)h(t-\\tau)e^{-j\\omega \\tau}d\\tau \n",
    "\\end{equation} \n",
    "Das dabei entstehende Spektrum hat außer der Kreisfrequenz $\\omega$ nun auch noch den Analysezeitpunkt $t$ als Variable. Da gewöhnlich voraussetzt wird, dass die Zeitfensterlänge $T$ endlich ist, können die Integrationsgrenzen entsprechend eingeengt werden.  \n",
    "\n",
    "Zur Berechnung der STFT können direkt Funktionen aus installierten Bibliotheken genutzt werden. Hier sollen die Funktionen [signal.stft()](https://docs.scipy.org/doc/scipy/reference/generated/scipy.signal.stft.html) und [librosa.stft()](https://librosa.org/doc/0.8.0/generated/librosa.stft.html) genutzt werden."
   ]
  },
  {
   "cell_type": "code",
   "execution_count": null,
   "metadata": {},
   "outputs": [],
   "source": [
    "'''\n",
    "Spektrogramm mit scipy.signal.stft()\n",
    "'''\n",
    "for i in range(1,4):\n",
    "    f, t, Zxx = signal.stft(dict_s.get('s{}'.format(i)), fs=fs_Hz, window=('tukey', 0.7),nperseg=200)  # Frequenzgänge\n",
    "    dict_s.update({'s{}_scipy_stft'.format(i): (f, t, Zxx)})\n",
    "    \n",
    "    # Grafische Darstellung:\n",
    "    plt.subplot(1,3,i)\n",
    "    plt.pcolormesh(t, f, np.abs(Zxx), shading = 'auto')\n",
    "    plt.title('STFT Magnitude des Signals %d' %i)\n",
    "    plt.xlabel('Zeit [s]') \n",
    "    plt.ylabel('Frequenz [Hz]')   \n",
    "    plt.ylim(0, 50)\n",
    "    plt.colorbar()\n",
    "\n",
    "\n",
    "plt.gcf().set_size_inches(20, 5)\n",
    "plt.show()"
   ]
  },
  {
   "cell_type": "markdown",
   "metadata": {
    "editable": false
   },
   "source": [
    "Durch die Darstellung der Signale im Spektrogramm wird nun aus dem Amplitudenfrequenzgang deutlich klarer, welche Frequenzelemente sich in welchen Zeitabschnitten befinden. Über die Fensterlänge `nperseq` lässt sich die Frequenzauflösung auf Kosten der Zeitauflösung verbessern. Wird `nperseq` klein genug gewählt (z.B. = 50), wird sogar sogar die Periodizität des Zeitsignals sichtbar. Die Frequenzauflösung ist in diesem Falle dann aber sehr grob.\n",
    "\n",
    "Alternativ kann das Spektrogramm mit den Funktionen [signal.spectrogram()](https://docs.scipy.org/doc/scipy/reference/generated/scipy.signal.spectrogram.html) oder [librosa.display.specshow()](https://librosa.org/doc/main/generated/librosa.display.specshow.html) berechnet werden. Beide Funktionen sollten identische Ergebnisse liefern, lediglich standard colormap ist unterschiedlich."
   ]
  },
  {
   "cell_type": "code",
   "execution_count": null,
   "metadata": {
    "scrolled": true
   },
   "outputs": [],
   "source": [
    "'''\n",
    "Spektrogramm mit librosa.stft()\n",
    "'''\n",
    "\n",
    "windowLength = 200;\n",
    "for i in range(1,4):\n",
    "    S = np.abs(librosa.stft(dict_s.get(\"s{}\".format(i)), n_fft=windowLength, \\\n",
    "                            win_length=windowLength, window=('tukey', 0.7))) \n",
    "\n",
    "    # (Optional) in dB konvertieren:\n",
    "    # S_dB = librosa.amplitude_to_db(S)     \n",
    "    \n",
    "    # Graphische Darstellung\n",
    "    plt.subplot(1,3,i)\n",
    "    librosa.display.specshow(S, sr=fs_Hz, x_axis='s', y_axis='hz')\n",
    "    plt.title('Spektrogramm des Signals %d' %i)\n",
    "    plt.xlabel('Zeit [s]') \n",
    "    plt.ylabel('Frequenz [Hz]')  \n",
    "    plt.ylim(0, 50)\n",
    "    plt.colorbar()\n",
    "    \n",
    "plt.gcf().set_size_inches(20, 5)\n",
    "plt.show()"
   ]
  },
  {
   "cell_type": "markdown",
   "metadata": {
    "editable": false
   },
   "source": [
    "Das Spektrogramm kann auch dreidimensional geplottet werden:"
   ]
  },
  {
   "cell_type": "code",
   "execution_count": null,
   "metadata": {},
   "outputs": [],
   "source": [
    "# 3D-Visualisierung\n",
    "\n",
    "fig = plt.figure()\n",
    "\n",
    "for plotIndex in range(1,4):\n",
    "    f_Hz, t_s, magnitude = dict_s.get('s{}_scipy_stft'.format(plotIndex)) # STFT \n",
    "    fLimits_Hz = (f>0) & (f<50) # Frequenzgrenze\n",
    "    f_Hz = f[fLimits_Hz]        # Frequenzbereich\n",
    "    magnitude = magnitude[fLimit]\n",
    "    \n",
    "    # Graphische Darstellung\n",
    "    ax = fig.add_subplot(1,3,plotIndex, projection='3d')\n",
    "    ax.set_title('3D-Visualisierung des Signals %d' %plotIndex)\n",
    "    ax.set_xlabel('Zeit [s]') \n",
    "    ax.set_ylabel('Frequenz [Hz]')  \n",
    "    ax.set_zlabel('Amplitude')  \n",
    "    ax.plot_surface(t[None, :], f_Hz[:, None], abs(magnitude), cmap=cm.cool)\n",
    "    \n",
    "plt.gcf().set_size_inches(15, 5)\n",
    "plt.show()"
   ]
  },
  {
   "cell_type": "markdown",
   "metadata": {
    "editable": false
   },
   "source": [
    "---\n",
    "<a id='4'></a>\n",
    "<div>\n",
    "    <img src=\"img/1-4.jpg\" style=\"float:left\">\n",
    "    <h2 style=\"position: relative; top: 6px; left: 6px\">\n",
    "        4. Anwendungsbeispiele  \n",
    "    </h2>\n",
    "</div>\n",
    "<br><br>\n",
    "Für die STFT gibt es viele Anwendungsmöglichkeiten, wie zum Beispiel für die Analyse von Sprache. In diesem Abschnitt soll die STFT zur Analyse von Musiksignalen verwenden. Dazu soll zunächst eine Funktion definiert werden, mit der Informationen aus einer .wav-Datei importiert und als Dictionary abgespeichert werden können.\n",
    "\n",
    "Ergänzen Sie die Leerstellen [..] :"
   ]
  },
  {
   "cell_type": "code",
   "execution_count": null,
   "metadata": {},
   "outputs": [],
   "source": [
    "'''\n",
    "Funktion definieren: wav-Datei laden\n",
    "'''\n",
    "\n",
    "def wav_data(name, file):\n",
    "    \n",
    "    fs_Hz, s = wavfile.read( [..] )                 # Abtrastfrequenz, Signal\n",
    "    if len(np.shape(s))>1:\n",
    "        s = s[:,0]                                  # Linken Kanal speichern \n",
    "    s = s/np.max(np.abs(s))                         # Signal normalisieren \n",
    "    L = [..]                                        # Signal-Länge\n",
    "    N = int(2**(np.floor(np.log2(L))+1))            # FFT-Länge\n",
    "    T_s = [..]                                      # Zeitdauer\n",
    "    t_s = np.linspace( [..] )                       # Zeitbereich\n",
    "    f_Hz = [..]                                     # Frequenzbereich\n",
    "    \n",
    "    # alle benötige Daten in Dictionary speichern\n",
    "    data = {'name': [..] , 'signal': [..] , 'fs_Hz': [..] , 'signalLength': [..] , 'fftLength': [..] , 't_s': [..] , 'f_Hz': [..] }\n",
    "                                                    \n",
    "    return [..]"
   ]
  },
  {
   "cell_type": "markdown",
   "metadata": {
    "editable": false
   },
   "source": [
    "- __Beispiel 1: missing fundamental / Die fehlende Grundfrequenz__\n",
    "\n",
    "    Unsere Wahrnehmung von Akustik wird nicht nur von den einzelnen Frequenzkoponenten innerhalb eines Tons bestimmt, sondern u.a. auch von den Abständen der Obertöne/Harmonischen zueinandner. Dies führt zu einem interessanten Phänomen des sog. \"Residualtons\" (im Englischen etwas treffender \"missing fundamental\"), bei dem zwei Töne, von denen einer keine (oder nur eine sehr gering ausgeprägte) Grundfrequenz aufweist, trotzdem sehr ähnlich klingend wahrgenommen werden.\n",
    "    \n",
    "    Laden sie dazu die beiden Audiodateien ``toneF.wav`` und ``toneF_noFund.wav`` ein, anhand dieser Effekt demonstriert werden soll."
   ]
  },
  {
   "cell_type": "code",
   "execution_count": null,
   "metadata": {},
   "outputs": [],
   "source": [
    "'''\n",
    "toneF.wav laden und abspielen\n",
    "'''\n",
    "\n",
    "file = 'data/toneF.wav'\n",
    "# Laden von toneF mit dem Namen 'Ton F'\n",
    "toneF = [..] # ToDo: Nutzen Sie die Funktion 'wav_data', um die .wav in das Projekt zu laden \n",
    "# Akustische Ausgabe\n",
    "ipd.Audio(file)                   "
   ]
  },
  {
   "cell_type": "code",
   "execution_count": null,
   "metadata": {},
   "outputs": [],
   "source": [
    "'''\n",
    "toneF_noFund.wav laden und abspielen\n",
    "'''\n",
    "\n",
    "file = 'data/toneF_noFund.wav'\n",
    "# Laden von toneF_noFund mit dem Namen 'Ton F ohne Fundament'\n",
    "toneF_noFund =  # ToDo: Nutzen Sie die Funktion 'wav_data', um die .wav in das Projekt zu laden\n",
    "# Akustische Ausgabe\n",
    "[..] # ToDo"
   ]
  },
  {
   "cell_type": "markdown",
   "metadata": {
    "editable": false
   },
   "source": [
    "Beide Töne sollten relativ ähnlich klingen, vor allem von der wahrgenommenen Tonhöhe. Ein Blick auf das Spektrogramm verrät aber, dass im zweiten Falle die Grundfrequenz fehlt. Erstellen Sie dazu das Spektrogramm beider Audiosignale mit librosa. Skalieren Sie die Frequenzachse logarithmisch ([librosa.amplitude_to_db()](http://man.hubwiz.com/docset/LibROSA.docset/Contents/Resources/Documents/generated/librosa.core.amplitude_to_db.html)) Um die Frequenzkomponenten klarer darzustellen."
   ]
  },
  {
   "cell_type": "code",
   "execution_count": null,
   "metadata": {},
   "outputs": [],
   "source": [
    "'''\n",
    "toneF und toneF_NoFund über Spektrogramm darstellen\n",
    "'''\n",
    "\n",
    "i = 0\n",
    "for tone in (toneF, toneF_noFund):\n",
    "\n",
    "    S = [..]    # ToDo: Wenden Sie die Funktion 'librosa.stft()' auf das Signal 'tone['signal']' an\n",
    "    S_dB = librosa.amplitude_to_db(S)     # in dB konvertieren\n",
    "    \n",
    "    # Graphische Darstellung\n",
    "    i += 1\n",
    "    plt.subplot(1, 2, i)\n",
    "    librosa.display.specshow(S_dB, sr=tone['fs_Hz'], x_axis='s', y_axis='hz', cmap=cm.gist_heat)\n",
    "    plt.title('Spektrogramm von %s' %tone['name'])\n",
    "    plt.xlabel('Zeit [s]') \n",
    "    plt.xlim(0, 0.5)\n",
    "    plt.ylabel('Frequenz [Hz]')  \n",
    "    plt.ylim(0, 1500)\n",
    "    plt.colorbar()\n",
    "\n",
    "plt.gcf().set_size_inches(20, 5)\n",
    "plt.show()"
   ]
  },
  {
   "cell_type": "markdown",
   "metadata": {
    "editable": false
   },
   "source": [
    "- __Beispiel 2: Melodie aus verschiedenen Instrumenten__\n",
    "\n",
    "    Als ein weiteres Beispiel für die Nützlichkeit von Spektrogrammen sollen die beiden Audiodateien `melodie_klavier.wav`, `melodie_geige.wav` sowie `melodie_stimme.wav` untersucht werden. Laden Sie diese ein. Die Signale stellen dieselbe Melodie dar, aber mit unterschiedlichen Instrumenten bzw. gesungen (Vocoder)."
   ]
  },
  {
   "cell_type": "code",
   "execution_count": null,
   "metadata": {},
   "outputs": [],
   "source": [
    "'''\n",
    "melodie_klavier.wav laden und abspielen\n",
    "'''\n",
    "\n",
    "file = 'data/melodie_klavier.wav'\n",
    "melodyPiano = wav_data('Klaviermelodie', file)\n",
    "ipd.Audio(file)                       "
   ]
  },
  {
   "cell_type": "code",
   "execution_count": null,
   "metadata": {},
   "outputs": [],
   "source": [
    "'''\n",
    "melodie_geige.wav laden und abspielen\n",
    "'''\n",
    "\n",
    "file = 'data/melodie_geige.wav'\n",
    "melodyViolin = wav_data('Geigemelodie', file)\n",
    "ipd.Audio(file)                       "
   ]
  },
  {
   "cell_type": "code",
   "execution_count": null,
   "metadata": {},
   "outputs": [],
   "source": [
    "'''\n",
    "melodie_stimme.wav laden und abspielen\n",
    "'''\n",
    "\n",
    "file = 'data/melodie_stimme.wav'\n",
    "melodyVoice = wav_data('Stimme', file)\n",
    "ipd.Audio(file)                       "
   ]
  },
  {
   "cell_type": "markdown",
   "metadata": {
    "editable": false
   },
   "source": [
    "Stellen Sie nur das Spektrogramm zur Analyse der drei Signale dar. Varrieren Sie FFT Länge, Fenstertyp und Überlappung (Achtung, der Grad der Überlappung wird in Anzahl an Abtastwerten abgegeben, nach welchen sich die Fensterung wiederholt, nicht relativ zur FFT Länge)."
   ]
  },
  {
   "cell_type": "code",
   "execution_count": null,
   "metadata": {},
   "outputs": [],
   "source": [
    "'''\n",
    "Kurzzeitspektrum\n",
    "'''\n",
    "numSamplesPerSegment = 512\n",
    "numSamplesOverlap = numSamplesPerSegment/4\n",
    "\n",
    "plotIndex = 0\n",
    "for melody in (melodyPiano, melodyViolin, melodyVoice):\n",
    "    \n",
    "    plotIndex += 1 \n",
    "    f, t, magnitude = [..]  # ToDo: Wenden Sie die Funktion 'signal.stft()' auf das Signal 'melody' an\n",
    "    \n",
    "    # Graphische Darstellung\n",
    "    plt.subplot(3, 1, plotIndex)\n",
    "    plt.pcolormesh(t_s, f_Hz, np.abs(magnitude), shading = 'auto')\n",
    "    plt.title('STFT Magnitude der %s' %melody['name'])\n",
    "    plt.xlabel('Zeit [s]') \n",
    "    plt.xlim(0, 8)\n",
    "    plt.ylabel('Frequenz [Hz]')   \n",
    "    plt.ylim(0, 3000)\n",
    "    plt.colorbar()\n",
    "\n",
    "\n",
    "plt.gcf().set_size_inches(20, 20)\n",
    "plt.show()"
   ]
  },
  {
   "cell_type": "code",
   "execution_count": null,
   "metadata": {},
   "outputs": [],
   "source": [
    "'''\n",
    "Kurzzeitspektrum\n",
    "'''\n",
    "numSamplesPerSegment = 512\n",
    "numSamplesOverlap = numSamplesPerSegment/4\n",
    "\n",
    "#Lösung\n",
    "plotIndex = 0\n",
    "for melody in (melodyPiano, melodyViolin, melodyVoice):\n",
    "    \n",
    "    plotIndex += 1 \n",
    "    f_Hz, t_s, magnitude = signal.stft(melody['signal'], melody['fs_Hz'], window='hann', \\\n",
    "                            nperseg=numSamplesPerSegment, noverlap=numSamplesOverlap) \n",
    "    \n",
    "    # Graphische Darstellung\n",
    "    plt.subplot(3, 1, plotIndex)\n",
    "    plt.pcolormesh(t_s, f_Hz, np.abs(magnitude), shading = 'auto')\n",
    "    plt.title('STFT Magnitude der %s' %melody['name'])\n",
    "    plt.xlabel('Zeit [s]') \n",
    "    plt.xlim(0, 8)\n",
    "    plt.ylabel('Frequenz [Hz]')   \n",
    "    plt.ylim(0, 3000)\n",
    "    plt.colorbar()\n",
    "\n",
    "plt.gcf().set_size_inches(20, 20)\n",
    "plt.show()"
   ]
  },
  {
   "cell_type": "markdown",
   "metadata": {
    "editable": false
   },
   "source": [
    "Wie im Spektrogramm gut zu sehen ist, sind die Töne der einzelnen Instrumente aus einer Grundfrequenz und mehreren Harmonischen aufgebaut, die immer Vielfache der Grundfrequenz sind. Die höherfrequenten Beiträge dieser \"Obertöne\" lassen verschiedene Musikinstrumente unterschiedlich klingen.\n",
    "\n",
    "- __Beispiel 3: Spektrogramm vs. Musiknoten__\n",
    "\n",
    " Nun analysieren Sie bitte anhand der nun kennengelernten Verfahren das Audiosignal von ``musik.wav``[9]:"
   ]
  },
  {
   "cell_type": "code",
   "execution_count": null,
   "metadata": {},
   "outputs": [],
   "source": [
    "'''\n",
    "musik.wav laden und abspielen\n",
    "'''\n",
    "\n",
    "file = 'data/musik.wav'\n",
    "# Laden von musik.wav mit dem Namen 'Musiksignal'\n",
    "music = # ToDo: Nutzen Sie die Funktion 'wav_data', um die .wav mit dem Namen 'Musikdatei' in das Projekt zu laden. \n",
    "# Akustische Ausgabe\n",
    "[..]                       "
   ]
  },
  {
   "cell_type": "markdown",
   "metadata": {
    "editable": false
   },
   "source": [
    "Führen Sie zunächst eine dynamische Fensterung (wie in Abschnitt 2) mit folgenden Eigenschaften durch,\n",
    "- Zeitfenstertyp: Blackman,\n",
    "- Zeitfensterlänge: $2^{14}$ Samples,\n",
    "- Vorschub: 50 \\% der Fensterlänge,\n",
    "\n",
    "um noch eimal den Prozess der Erstellung des Spektrogramms zu visualisieren (die Fensterlänge von $2^{14} = 16384$ Samples ist relativ groß und wird nur für diese Visualisierung gewählt, damit das Plotten nicht zu lange dauert). Gehen sie dabei wie in Abschnitt 2 vor. Ggf. können Sie die Routine zur Berechnung der Zeitversetzung, Fensterung und Fouriertransformation der Signalabschnitte auch als eigene Funktion kapseln."
   ]
  },
  {
   "cell_type": "code",
   "execution_count": null,
   "metadata": {},
   "outputs": [],
   "source": [
    "'''\n",
    "Aufgabe: Dynamische Fensterung darstellen\n",
    "'''\n",
    "%matplotlib inline\n",
    "\n",
    "# Signal importieren und normalisieren\n",
    "audioSignal = [..] # Audiosignal normieren\n",
    "fs_Hz = [..]\n",
    "T_samples = [..]\n",
    "T_s = [..]\n",
    "t_s = [..]\n",
    "\n",
    "\n",
    "# Erzeugung des Zeitfensters\n",
    "Nfft = 2**14;                         # FFT Länge\n",
    "Twin_samples = Nfft                   # Fensterlänge in samples\n",
    "overlap_samples = Twin_samples//4     # Überlappung zwischen zwei Segmenten                         \n",
    "slide_samples = [..]                  # Vorschub eines Abschnittes pro Segment\n",
    "window = [..]                         # Blackman-Fenster\n",
    "f_Hz = np.arange(0, fs_Hz, fs_Hz/Nfft)\n",
    "\n",
    "# Erzeugung des Segments, Fouriertransformation dessen und grafische Anzeige:\n",
    "numSegments = (T_samples - overlap_samples)//slide_samples\n",
    "\n",
    "for seqIndex in range(numSegments):\n",
    "    print(\"Segment {}\".format(seqIndex))\n",
    "    tSegment_s = [..]\n",
    "    sSegment = [..]\n",
    "    # Fenstern\n",
    "    winsSegment = [..]\n",
    "    # Fouriertransformation\n",
    "    winS = [..]\n",
    "\n",
    "    # Grafische Darstellung:\n",
    "    [..]      # ToDo: Fügen Sie die Funktion 'live_plot()' ein (xLim_max=fs_Hz/10, yLim_max=0.1)"
   ]
  },
  {
   "cell_type": "markdown",
   "metadata": {
    "editable": false
   },
   "source": [
    "Auch hier lohnt die Darstellung des kurzen Musikabschnittes als Spektrogramm. Variieren Sie die Parameter wie Fenstertyp, Überlappung, Fensterlänge usw."
   ]
  },
  {
   "cell_type": "code",
   "execution_count": null,
   "metadata": {},
   "outputs": [],
   "source": [
    "'''\n",
    "Aufgabe: Spektrogramm darstellen\n",
    "'''\n",
    "\n",
    "S = [..] # ToDo: Führen Sie eine STFT des Signal music['signal'] mit librosa.stft() durch\n",
    "S_dB = librosa.amplitude_to_db(S)     \n",
    "T_samples = np.size(S_dB)\n",
    "\n",
    "# Einige interessante Frequenzen:\n",
    "f1_Hz = 700\n",
    "f2_Hz = 950\n",
    "f3_Hz = 1050\n",
    "\n",
    "# Grafische Darstellung:\n",
    "librosa.display.specshow(S_dB, sr=music['fs_Hz'], x_axis='s', y_axis='hz', cmap=cm.bwr)\n",
    "freqLine1, = plt.plot([0, T_samples],[f1_Hz, f1_Hz],'-k',label='f1_Hz=' + str(f1_Hz) + 'Hz')\n",
    "freqLine2, = plt.plot([0, T_samples],[f2_Hz, f2_Hz],'-k',label='f2_Hz=' + str(f2_Hz) + 'Hz')\n",
    "freqLine3, = plt.plot([0, T_samples],[f3_Hz, f3_Hz],'-k',label='f3_Hz=' + str(f3_Hz) + 'Hz')\n",
    "plt.title('Spektrogramm des Musiksignals')\n",
    "plt.xlabel('Zeit [s]') \n",
    "plt.ylabel('Frequenz [Hz]')  \n",
    "plt.ylim(0, 1500)\n",
    "plt.legend(handles=[freqLine1, freqLine2, freqLine3])\n",
    "plt.colorbar()\n",
    "\n",
    "plt.gcf().set_size_inches(20, 5)\n",
    "plt.show()"
   ]
  },
  {
   "cell_type": "code",
   "execution_count": null,
   "metadata": {},
   "outputs": [],
   "source": [
    "'''\n",
    "Aufgabe: Spektrogramm darstellen\n",
    "'''\n",
    "\n",
    "# Lösung\n",
    "S = abs(librosa.stft(music['signal'], win_length = 1024))\n",
    "S_dB = librosa.amplitude_to_db(S)     \n",
    "T_samples = np.size(S_dB)\n",
    "# Einige interessante Frequenzen:\n",
    "f1_Hz = 700\n",
    "f2_Hz = 950\n",
    "f3_Hz = 1050\n",
    "\n",
    "# Grafische Darstellung:\n",
    "librosa.display.specshow(S_dB, sr=music['fs_Hz'], x_axis='s', y_axis='hz', cmap=cm.bwr)\n",
    "freqLine1 = plt.axhline(f1_Hz, ls='-', c= \"k\",label='f1_Hz=' + str(f1_Hz) + 'Hz')\n",
    "freqLine2 = plt.axhline(f2_Hz, ls='-', c= \"k\",label='f2_Hz=' + str(f2_Hz) + 'Hz')\n",
    "freqLine3 = plt.axhline(f3_Hz, ls='-', c= \"k\",label='f3_Hz=' + str(f3_Hz) + 'Hz')\n",
    "plt.title('Spektrogramm des Musiksignals')\n",
    "plt.xlabel('Zeit [s]') \n",
    "plt.ylabel('Frequenz [Hz]')  \n",
    "plt.ylim(0, 1500)\n",
    "plt.legend(handles=[freqLine1, freqLine2, freqLine3])\n",
    "plt.colorbar()\n",
    "\n",
    "plt.gcf().set_size_inches(20, 5)\n",
    "plt.show()"
   ]
  },
  {
   "cell_type": "markdown",
   "metadata": {
    "editable": false
   },
   "source": [
    "Im Spektrogramm sind z.B. die Frequenzanteile um $700$ Hz, $950$ Hz, $1050$ Hz deutlich zu sehen, die zu den exakten Tonhöhen $ F_{5} = 698.46$ Hz, $ B^b_{5} = 932.33$ Hz und $ C_{6}=1046.50$ Hz korrespondieren. Weitere Beziehungen zwischen Tonhöhen und Frequenzen sind in der Tabelle unter Referenz \\[7\\] zu finden.\n",
    "\n",
    "<img style=\"float:center; margin:5px 0px 0px 10px\" src=\"img/1-note.png\" width=\"900\">\n",
    "\n",
    "---\n",
    "\n",
    "<br>\n",
    "\n",
    "### References\n",
    "\n",
    "1. Titelbild von [Ethan Weil](https://de.wikipedia.org/wiki/Kurzzeit-Fourier-Transformation#/media/Datei:Short_time_fourier_transform.PNG)  \n",
    "2. [Short-time Fourier transform](https://en.wikipedia.org/wiki/Short-time_Fourier_transform)  \n",
    "3. Lehrbuch: [Intelligente Signalverarbeitung 1 - Signalanalyse](https://katalog.slub-dresden.de/id/0-1654371521/#detail)  \n",
    "4. Vedio: [The Short Time Fourier Transform | Digital Signal Processing](https://www.youtube.com/watch?v=g1_wcbGUcDY)  \n",
    "5. [The Missing Fundamental](https://pages.mtu.edu/~suits/MissingFund.html)  \n",
    "6. [Music Feature Extraction in Python](https://towardsdatascience.com/extract-features-of-music-75a3f9bc265d)   \n",
    "7. [Frequencies for equal-tempered scale](https://pages.mtu.edu/~suits/notefreqs.html)   \n",
    "8. Referenz von Colormap: [matplotlib.cm](https://matplotlib.org/3.1.1/gallery/color/colormap_reference.html)\n",
    "9. [Wiz Khalifa - See You Again ft. Charlie Puth](https://www.youtube.com/watch?v=RgKAFK5djSk)\n",
    "\n",
    "---\n",
    "<div>Notebook erstellt von <a href=\"mailto:arne-lukas.fietkau@tu-dresden.de?Subject=Frage%20zu%20Jupyter%20Notebook%203.1%20STFT\" target=\"_top\">Arne-Lukas Fietkau</a>, Yifei Li  und Christoph Wagner </div>\n"
   ]
  }
 ],
 "metadata": {
  "celltoolbar": "Edit Metadata",
  "kernelspec": {
   "display_name": "Python 3 (ipykernel)",
   "language": "python",
   "name": "python3"
  },
  "language_info": {
   "codemirror_mode": {
    "name": "ipython",
    "version": 3
   },
   "file_extension": ".py",
   "mimetype": "text/x-python",
   "name": "python",
   "nbconvert_exporter": "python",
   "pygments_lexer": "ipython3",
   "version": "3.10.7"
  }
 },
 "nbformat": 4,
 "nbformat_minor": 4
}
