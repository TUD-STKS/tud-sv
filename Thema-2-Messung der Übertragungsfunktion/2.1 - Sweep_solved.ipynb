{
 "cells": [
  {
   "cell_type": "markdown",
   "metadata": {
    "editable": false
   },
   "source": [
    "# 2.1 - Sweep"
   ]
  },
  {
   "cell_type": "markdown",
   "metadata": {
    "editable": false
   },
   "source": [
    "<img style=\"float: right\" src=\"img/1-title.gif\" width=\"600\">\n",
    "\n",
    "Sweeps sind eine beliebte Methode zur Messung der Übertragungsfunktion eines linearen Systems, da sie eine Reihe von positiven Eigenschaften aufweisen wie bspw. einen (einstellbaren) glatten Amplitudenfrequenzgang.\n",
    "\n",
    "Das Thema der Sweeps wird in der Vorlesung in Thema 3: \"Messung der Übertragungsfunktion und Impulsantworten\" behandelt und das hier präsentierte Beispiel wird in der 6. Übungseinheit per Hand berechnet.\n",
    "\n",
    "## Inhalt  \n",
    "<table style=\"width:330px; border: 1px solid black; display: inline-block\">\n",
    "    <tr>\n",
    "        <td style=\"text-align:right\" width=64px><img src=\"img/TITLE-linear.png\" style=\"float:left\"></td>\n",
    "        <td style=\"text-align:left\" width=300px>\n",
    "            <a style=\"color:black; font-size:14px; font-weight:bold; text-decoration:none\" href='#1'>\n",
    "                1. Sweep mit konstanter Hüllkurve\n",
    "            </a>\n",
    "        </td>\n",
    "    </tr>  \n",
    "    <tr>\n",
    "        <td style=\"text-align:right\"><img src=\"img/TITLE-triang.png\" style=\"float:left\"></td>\n",
    "        <td style=\"text-align:left\" width=128px>\n",
    "            <a style=\"color:black; font-size:14px; font-weight:bold; text-decoration:none\" href='#2'>\n",
    "                2. Sweep mit Dreieck-Hüllkurve\n",
    "            </a>\n",
    "        </td>\n",
    "    </tr>\n",
    "    <tr>\n",
    "        <td style=\"text-align:right\"><img src=\"img/TITLE-Python.png\" style=\"float:left\"></td>\n",
    "        <td style=\"text-align:left\" width=128px>\n",
    "            <a style=\"color:black; font-size:14px; font-weight:bold; text-decoration:none\" href='#3'>\n",
    "                3. Realisierung mit Python-Modulen\n",
    "            </a>\n",
    "        </td>\n",
    "    </tr>\n",
    "</table>\n"
   ]
  },
  {
   "cell_type": "markdown",
   "metadata": {
    "editable": false
   },
   "source": [
    "---\n",
    "<a id='1'></a><div><img src=\"img/TITLE-linear.png\" style=\"float:left\"><h2 style=\"position: relative; top: 6px; left: 6px\">1. Sweep mit konstanter Hüllkurve</h2></div>\n",
    "\n",
    "Ein Sweep $x(t)$ im Zeitbereich ist eine harmonische Schwingung mit zeitabhängigem Phasenargument $\\varphi (t)$, dessen Momentanfrequenz $\\omega (t)$ mit der Zeit monoton zu- oder abnimmt (weswegen er auch Gleitsinus genannt wird, in Abgrenzung zu Sinusschwingungen mit einer konstanten Phase) :\n",
    "\\begin{equation*}\n",
    "x(t)=x_{0} \\cdot \\sin (\\varphi (t))\\; \\; mit \\; \\; \\omega (t)=\\frac{\\mathrm{d} \\varphi (t)}{\\mathrm{d} t}\\; \\; \n",
    "\\rightarrow \\; \\;  x(t)=x_{0} \\cdot \\sin \\left( \\int \\omega (t)dt + \\varphi_{0} \\right)\n",
    "\\end{equation*}  \n",
    "In der Umgebung eines Zeitpunkts $t_{0}$ mit der _Momentanfrequenz_ $\\omega _{0}$ nähert sich $x(t)$ einer Sinusfunktion mit der Frequenz $\\omega _{0}$ an.\n",
    "\n",
    "Zur Erzeugung eines Sweeps mit linearer Hüllkurve und linearer Frequenzänderung erhält man folgende Formel:\n",
    "\n",
    "\\begin{equation*}\n",
    "x(t)=x_{0} \\cdot \\sin \\left( \\omega_{start} \\cdot t + \\frac{\\omega_{end} - \\omega_{start}}{2 \\cdot T_s} \\cdot t^2 \\right)\n",
    "\\end{equation*}\n",
    "\n",
    "---\n",
    "\n",
    "Neben den schon bekannten Modulen `matplotlib`, `numpy`, `scipy` und `simpleaudio`, wird in diesem Notebook das Modul [`ipywidgets`](https://ipywidgets.readthedocs.io/en/stable/) eingeführt. Damit lassen sich Benutzeroberflächen (user interface / UI) einfügen, wie zum Beispiel Schieberegler, mit denen sich Variablenwerte einstellen lassen. Dieses Modul müssen sie wahrscheinlich noch über `pip install` installieren. Wenn Sie das getan haben, können Sie nun alle für dieses Modul benötigten Module importieren:"
   ]
  },
  {
   "cell_type": "code",
   "execution_count": null,
   "metadata": {},
   "outputs": [],
   "source": [
    "'''\n",
    "Import externer Module\n",
    "'''\n",
    "# Lösung\n",
    "import numpy as np\n",
    "import matplotlib.pyplot as plt\n",
    "from scipy import fftpack, signal\n",
    "from ipywidgets import interact_manual, interact\n",
    "import IPython.display as ipd"
   ]
  },
  {
   "cell_type": "markdown",
   "metadata": {
    "editable": false
   },
   "source": [
    "Die Variablen für die Berechnung des linearen Sweeps sind: \n",
    " - *fs_Hz*: Abtastfrequenz (für diese Aufgabe relativ beliebig),\n",
    " - *A*: Amplitude des Sweeps (für diese Aufgabe relativ beliebig),\n",
    " - *fStart_Hz*: Startfrequenz des Sweeps,\n",
    " - *fEnd_Hz*: Endfrequenz des Sweeps,\n",
    " - *T_s*: Dauer des Sweep.\n",
    " \n",
    "Erstellen Sie zunächst eine Funktion \"sweep_linear\", die über die Eingabevariablen [`fs_Hz`, `fStart_lin_Hz`, `fEnd_lin_Hz`, `T_s` und `A`] die zwei Ausgabevariablen [`t_s` (Array mit Abtastzeitpunkten) und `sweep` (Array mit Werten des linearen Sweeps an den Zeitpunkten von `t_s`)] erzeugt."
   ]
  },
  {
   "cell_type": "code",
   "execution_count": null,
   "metadata": {},
   "outputs": [],
   "source": [
    "'''\n",
    "Definition der Funktion sweep_linear\n",
    "'''\n",
    "# Lösung\n",
    "def sweep_linear(fs_Hz, fStart_lin_Hz, fEnd_lin_Hz, T_s, A):\n",
    "    t_s = np.linspace(0, T_s, int(fs_Hz*T_s))\n",
    "    wstart_rad_per_s = fStart_lin_Hz * 2 * np.pi\n",
    "    wend_rad_per_s = fEnd_lin_Hz * 2 * np.pi\n",
    "    sweep = A * np.sin(wstart_rad_per_s * t_s + (wend_rad_per_s-wstart_rad_per_s) * (t_s ** 2) / (2 * T_s))\n",
    "    return t_s, sweep"
   ]
  },
  {
   "cell_type": "markdown",
   "metadata": {
    "editable": false
   },
   "source": [
    "Nun initialisieren Sie die Variablen für die Berechnung des Sweeps. Die Werte der Variablen sollen dabei wie folgt sein:\n",
    " - *fs_Hz*: 16 kHz,\n",
    " - *A*: 1,\n",
    " - *fStart_Hz*: 50 Hz,\n",
    " - *fEnd_Hz*: 400 Hz,\n",
    " - *T_s*: 4 s.\n",
    " \n",
    "Führen Sie mit diesen Variablen die Funktion \"sweep_linear\" aus und lassen Sie sich diese graphisch darstellen:"
   ]
  },
  {
   "cell_type": "code",
   "execution_count": null,
   "metadata": {},
   "outputs": [],
   "source": [
    "'''\n",
    "Variableninitialisierung und Erzeugen der Zeitfunktion des Sweeps\n",
    "'''\n",
    "# Lösung\n",
    "# Initialisierung der Variablen\n",
    "fs_Hz = 16e3\n",
    "amplitude = 1\n",
    "fStart_Hz = 50\n",
    "fEnd_Hz = 400\n",
    "T_s = 4\n",
    "\n",
    "# Zeitbereich\n",
    "time_s, sweep_lin = sweep_linear(fs_Hz, fStart_Hz, fEnd_Hz, T_s, amplitude)\n",
    "\n",
    "# Graphische Darstellung des Sweeps\n",
    "plt.title('Sweep von %d Hz bis %d Hz' %(fStart_Hz, fEnd_Hz))\n",
    "plt.xlabel('Zeit [s]') \n",
    "plt.ylabel('x(t)') \n",
    "plt.plot(time_s, sweep_lin)\n",
    "plt.gcf().set_size_inches(20, 5)\n",
    "plt.show()"
   ]
  },
  {
   "cell_type": "markdown",
   "metadata": {
    "editable": false
   },
   "source": [
    "Nun können Sie sich den erzeugten Sweep auch anhören! Erstellen Sie dafür eine Funktion \"play_audio\", die mittels `IPython.display` Arrays ausgibt (wie in Kapitel 1.3 eingeführt). Nutzen Sie dann die neu definierte Funktion, um sich den Sweep anzuhören. <br>(Achtung: Das Signal kann sehr laut sein!)<br>\n",
    "Da `ipd.Audio` innerhalb einer Funktion ausgeführt wird, muss man die Anzeige extra mittels `ipd.display` triggern, [siehe](https://stackoverflow.com/questions/61573928)."
   ]
  },
  {
   "cell_type": "code",
   "execution_count": null,
   "metadata": {},
   "outputs": [],
   "source": [
    "'''\n",
    "Definition der Funktion play_audio\n",
    "'''\n",
    "# Lösung\n",
    "def play_audio(input_signal, fs_Hz):\n",
    "    sound = (input_signal*(2**15-1)/np.max(np.abs(input_signal))).astype(np.int16)\n",
    "    ipd.display(ipd.Audio(data=sound,rate=fs_Hz))\n",
    "    \n",
    "    "
   ]
  },
  {
   "cell_type": "code",
   "execution_count": null,
   "metadata": {},
   "outputs": [],
   "source": [
    "'''\n",
    "Audioausgabe\n",
    "'''\n",
    "#Lösung\n",
    "play_audio(sweep_lin, fs_Hz)"
   ]
  },
  {
   "cell_type": "markdown",
   "metadata": {
    "editable": false
   },
   "source": [
    "Es ist zudem sehr interessant, wie das Signal im Frequenzbereich aussieht. Wenden Sie deswegen die in der folgenden Funktion \"fft_sweep\" definiert Fast-Fourier-Transformation auf den Sweep an:"
   ]
  },
  {
   "cell_type": "code",
   "execution_count": null,
   "metadata": {},
   "outputs": [],
   "source": [
    "'''\n",
    "Definition der Funktion fft_sweep\n",
    "'''\n",
    "def fft_sweep(sweep, fs_Hz):\n",
    "    N = sweep.size # Länge von FFT\n",
    "    f_Hz = np.linspace(0, fs_Hz/2, int(N/2)) # Frequenzbereich\n",
    "    sweep_fft = fftpack.fft(sweep, N)\n",
    "    sweep_fft_plot = np.abs(sweep_fft[:len(f_Hz)]) / int(N/2)\n",
    "    return f_Hz, sweep_fft_plot"
   ]
  },
  {
   "cell_type": "code",
   "execution_count": null,
   "metadata": {},
   "outputs": [],
   "source": [
    "'''\n",
    "Erzeugen des Frequenzgangs des Sweeps\n",
    "'''\n",
    "# Lösung\n",
    "# Anwendung der FFT\n",
    "f_Hz, sweep_fft_plot = fft_sweep(sweep_lin, fs_Hz)\n",
    "\n",
    "# Graphische Darstellung\n",
    "plt.title('Amplitudenfrequenzgang')\n",
    "plt.xlabel('Frequenz [Hz]') \n",
    "plt.ylabel('|X(f)|') \n",
    "plt.plot(f_Hz, sweep_fft_plot)\n",
    "plt.axis([fStart_Hz*0.5, fEnd_Hz*1.1, 0, np.max(sweep_fft_plot)*1.1])\n",
    "plt.gcf().set_size_inches(20, 5)\n",
    "plt.show()"
   ]
  },
  {
   "cell_type": "markdown",
   "metadata": {
    "editable": false
   },
   "source": [
    "Der Frequenzgang zeigt an den Rändern des Frequenzbands eine starke Welligkeit auf. Um diese zu entfernen, kann die Frequenz mittels Ein- und Ausblenden geglättet werden. Dies soll hier mit einem Tukey-Fenster aus dem Objekt [`signal.get_window()`](https://docs.scipy.org/doc/scipy/reference/generated/scipy.signal.get_window.html) umgesetzt werden."
   ]
  },
  {
   "cell_type": "code",
   "execution_count": null,
   "metadata": {
    "scrolled": false
   },
   "outputs": [],
   "source": [
    "'''\n",
    "Erzeugen des Tukey-Fensters\n",
    "'''\n",
    "# Lösung\n",
    "window = signal.get_window(('tukey', 0.2), len(sweep_lin))\n",
    "\n",
    "plt.title('Tukey-Fenster')\n",
    "plt.xlabel('Zeit [s]') \n",
    "plt.ylabel('window(t)') \n",
    "plt.plot(time_s, window)\n",
    "plt.gcf().set_size_inches(20, 5)\n",
    "plt.show()"
   ]
  },
  {
   "cell_type": "code",
   "execution_count": null,
   "metadata": {},
   "outputs": [],
   "source": [
    "'''\n",
    "Fensterung des Sweep-Signals\n",
    "'''\n",
    "# Lösung\n",
    "# Zeitbereich\n",
    "sweep_win = sweep_lin * window\n",
    "\n",
    "# Frequenzbereich\n",
    "f_Hz, sweep_win_fft_plot = fft_sweep(sweep_win, fs_Hz)\n",
    "\n",
    "# Graphische Darstellung\n",
    "plt.subplot(211)\n",
    "plt.title('Sweep von %d Hz bis %d Hz' %(fStart_Hz, fEnd_Hz))\n",
    "plt.xlabel('Zeit [s]') \n",
    "plt.ylabel('x(t)') \n",
    "plt.plot(time_s, sweep_win)\n",
    "\n",
    "plt.subplot(212)\n",
    "plt.title('Amplitudenfrequenzgang')\n",
    "plt.xlabel('Frequenz [Hz]') \n",
    "plt.ylabel('|X(f)|') \n",
    "plt.plot(f_Hz, sweep_win_fft_plot)\n",
    "plt.axis([fStart_Hz*0.5, fEnd_Hz*1.1, 0, np.max(sweep_fft_plot)*1.1])\n",
    "\n",
    "plt.gcf().set_size_inches(20, 10)\n",
    "plt.show()"
   ]
  },
  {
   "cell_type": "code",
   "execution_count": null,
   "metadata": {},
   "outputs": [],
   "source": [
    "'''\n",
    "Audioausgabe\n",
    "'''\n",
    "# Lösung\n",
    "play_audio(sweep_win,fs_Hz)"
   ]
  },
  {
   "cell_type": "markdown",
   "metadata": {
    "editable": false
   },
   "source": [
    "Durch die Fensterung sollte die Welligkeit im Frequenzbereich verringert worden sein. Nur verringert sich dadurch auch die Amplitude der äußeren Frequenzen.\n",
    "\n",
    "---\n",
    "\n",
    "Um sich die Veränderungen von Fenstern oder Frequenzen interaktiv anschauen zu können, wird nun das Modul [`ipywidgets`](https://ipywidgets.readthedocs.io/en/stable/index.html) genutzt. Durch dieses können Variablen verändert werden und mittels Drop-Down-Menüs oder Häckchen-Kästen die Ausgabe verändert werden. Probieren Sie es einfach aus. Sie müssen dafür noch in dem folgenden Code Ihre definierten Funktionen einfügen:\n",
    "\n",
    "Falls Sie keinen Fehler ausgegeben bekommen, trotzdem aber kein Unserinterface angezeigt wird, kann es an dem [hier beschriebenen Problem liegen](https://stackoverflow.com/questions/36351109). Geben Sie folgendes in die `cmd` ein und starten Sie jupyter neu:\n",
    "\n",
    "`jupyter nbextension enable --py widgetsnbextension`\n"
   ]
  },
  {
   "cell_type": "code",
   "execution_count": null,
   "metadata": {},
   "outputs": [],
   "source": [
    "'''\n",
    "Initialisierung fester Variablen\n",
    "'''\n",
    "fs_Hz = 16e3\n",
    "amplitude = 1"
   ]
  },
  {
   "cell_type": "code",
   "execution_count": null,
   "metadata": {
    "scrolled": false
   },
   "outputs": [],
   "source": [
    "'''\n",
    "Interaktive Sweepdarstellung\n",
    "'''\n",
    "# Lösung\n",
    "@interact_manual(T_s_i=(0.1, 5, 0.1), fStart_Hz_i=(10, 5000, 10), fEnd_Hz_i=(10, 5000, 10), windowing_i = False, window_type_i=[('tukey', 1), ('triang', 2)], win_alpha_i=(0, 1, 0.01), output_sound_i = True)\n",
    "def interactive_linear_sweep(T_s_i=2, fStart_Hz_i=10, fEnd_Hz_i=100, windowing_i=False, window_type_i='tukey', win_alpha_i=0.2, output_sound_i=True):\n",
    "    # Erzeugung des Sweeps\n",
    "    time_s, sweep = sweep_linear(fs_Hz, fStart_Hz_i, fEnd_Hz_i, T_s_i, amplitude)\n",
    "\n",
    "    # Optionales Fenstern des Sweeps\n",
    "    if windowing_i == True:\n",
    "        if window_type_i == 1:\n",
    "            window = signal.get_window(('tukey', win_alpha_i), len(sweep))\n",
    "        elif window_type_i == 2:\n",
    "            window = signal.get_window('triang', len(sweep))\n",
    "        else:\n",
    "            window = signal.get_window('boxcar', len(sweep))\n",
    "        sweep = sweep * window\n",
    "    \n",
    "    # Graphische Darstellung des Zeitbereichs\n",
    "    plt.title('Sweep von %d Hz zu %d Hz' %(fStart_Hz_i, fEnd_Hz_i))\n",
    "    plt.xlabel('Zeit [s]') \n",
    "    plt.ylabel('x(t)') \n",
    "    plt.plot(time_s, sweep)\n",
    "    plt.gcf().set_size_inches(20, 5)\n",
    "    plt.show()\n",
    "    \n",
    "    # FFT des Sweeps\n",
    "    f_Hz, sweep_fft_plot = fft_sweep(sweep, fs_Hz)\n",
    "\n",
    "    # Graphische Darstellung des Frequenzbereichs\n",
    "    plt.title('Amplitudenfrequenzgang')\n",
    "    plt.xlabel('Frequenz [Hz]') \n",
    "    plt.ylabel('|X(f)|') \n",
    "    plt.plot(f_Hz, sweep_fft_plot)\n",
    "    if fStart_Hz_i <= fEnd_Hz_i:\n",
    "        plt.axis([fStart_Hz_i*0.5, fEnd_Hz_i*1.2, 0, np.max(sweep_fft_plot)*1.1])\n",
    "    else:\n",
    "        plt.axis([fEnd_Hz_i*0.5, fStart_Hz_i*1.2, 0, np.max(sweep_fft_plot)*1.1])\n",
    "    \n",
    "    plt.gcf().set_size_inches(20, 5)\n",
    "    plt.show()\n",
    "    \n",
    "    \n",
    "    # Optionale Audioausgabe\n",
    "    if output_sound_i == True:\n",
    "        play_audio(sweep,fs_Hz)"
   ]
  },
  {
   "cell_type": "markdown",
   "metadata": {
    "editable": false
   },
   "source": [
    "<a id='2'></a><div><img src=\"img/TITLE-triang.png\" style=\"float:left\"><h2 style=\"position: relative; top: 6px; left: 6px\">2. Sweep mit Dreieck-Hüllkurve</h2></div>\n",
    "\n",
    "Im Nachfolgenden soll der in Übung 6.1 händisch berechnete Sweep implementiert und visualisiert werden. Dabei soll der Sweep im Frequenzbereich eine konstante Amplitude in seinem Band erhalten. Um das Frequenzverhalten eines linearen Sweeps zu betrachten, welches mit einem Dreieck gefenstert wurde, kann in der vorherigen Zelle betrachtet werden, wenn man das Fenster 'triang' wählt.\n",
    "\n",
    "---\n",
    "\n",
    "Zunächst werden die Grundparameter definiert. Die Start- und Endfrequenz $f_{start} = 200 \\ Hz$ und $f_{end} = 1000 \\ Hz$ bzw. $\\omega_{start}$ und $\\omega_{end}$ sowie die notwendige Abtastfrequenz $f_s = 16 \\ kHz$ festgelegt:"
   ]
  },
  {
   "cell_type": "code",
   "execution_count": null,
   "metadata": {},
   "outputs": [],
   "source": [
    "'''\n",
    "Grundparameter definieren:\n",
    "'''\n",
    "# Lösung\n",
    "fs_Hz = 16e3     # Abtastfrequenz (für diese Aufgabe relativ beliebig)\n",
    "dt_s = 1/fs_Hz   # Zeitintervall\n",
    "fStart_Hz = 200  # Startfrequenz [Hz]\n",
    "fEnd_Hz = 1000   # Endfrequenz [Hz]\n",
    "wStart_rad_per_s = fStart_Hz * 2 * np.pi  # Startfrequenz [rad/s]\n",
    "wEnd_rad_per_s = fEnd_Hz * 2 * np.pi  # Endfrequenz [rad/s]\n",
    "wm_rad_per_s = (wStart_rad_per_s + wEnd_rad_per_s) / 2  # Mittenfrequenz [rad/s]"
   ]
  },
  {
   "cell_type": "markdown",
   "metadata": {
    "editable": false
   },
   "source": [
    "Anschließend werden die Funktionen für die Phasenwinkel $\\varphi_1(t)$ und $\\varphi_2(t)$ definiert. Nutzen Sie dafür die berechneten Formeln aus 6.1 c):"
   ]
  },
  {
   "cell_type": "code",
   "execution_count": null,
   "metadata": {},
   "outputs": [],
   "source": [
    "'''\n",
    "Definition der Funktion calculatePhi1\n",
    "'''\n",
    "# Lösung\n",
    "def calculatePhi1(t_s, wStart_rad_per_s, k, T_s):\n",
    "    phi = k*t_s**4/(3*T_s**2) + wStart_rad_per_s*t_s\n",
    "    return phi"
   ]
  },
  {
   "cell_type": "code",
   "execution_count": null,
   "metadata": {},
   "outputs": [],
   "source": [
    "'''\n",
    "Definition der Funktion calculatePhi2\n",
    "'''\n",
    "# Lösung\n",
    "def calculatePhi2(t_s, wStart_rad_per_s, k, T_s):\n",
    "    phi = k * t_s**4 / (3 * T_s**2) - 4*k / (3*T_s) * t_s**3 \\\n",
    "    + 2*k * t_s**2 - k*T_s*t_s + wStart_rad_per_s*t_s \\\n",
    "    + 7*k/48 * T_s**2 - wStart_rad_per_s*T_s/2\n",
    "    return phi"
   ]
  },
  {
   "cell_type": "markdown",
   "metadata": {
    "editable": false
   },
   "source": [
    "Durch die Diskontinuität in der Einhüllenden ($a(t)$) müssen in diesem Spezialfall zusätzliche Bedingungen erfüllt werden, damit die Phase an der Übergangssstelle kontinuierlich verläuft. Zum einen muss der Sweep-Phasenwinkel $\\varphi(t)$ an der Stelle $T/2$ gleich sein:\n",
    "\\begin{equation}\n",
    "\\sin\\left(\\varphi_1\\left(\\frac{T}{2}\\right)\\right) = \\sin\\left(\\varphi_2\\left(\\frac{T}{2}\\right)\\right) \n",
    "\\end{equation}\n",
    "\n",
    "Substituiert man hier die berechneten Gleichungen aus der Übung für $\\varphi_1(T/2)$ und $\\varphi_2(T/2)$ ergibt sich die erste Bedingung\n",
    "\\begin{equation}\n",
    "\\sin\\left(\\frac{T\\cdot(7\\omega_1 + \\omega_2)}{16}\\right) = \\sin\\left(0\\right) = 0.\n",
    "\\end{equation}\n",
    "\n",
    "Zum anderen muss auch die Ableitung des Sweep-Phasenwinkels, $\\frac{\\mathrm{d}\\varphi(t)}{\\mathrm{d}t}$ gleich sein, d.h. aus der ersten Bedingung folgt (innere Ableitung nicht vergessen):\n",
    "\n",
    "\\begin{align}\n",
    "&\\cos\\left(\\frac{T\\cdot(7\\omega_1 + \\omega_2)}{16}\\right)\\cdot \\left(\\frac{\\omega_1 + \\omega_2}{2}\\right) = \\cos\\left(0\\right)\\cdot \\left(\\frac{\\omega_1 + \\omega_2}{2}\\right) = 1 \\\\\n",
    "&\\Leftrightarrow \\cos\\left(\\frac{T\\cdot(7\\omega_1 + \\omega_2)}{16}\\right) = 1.\n",
    "\\end{align}\n",
    "\n",
    "Beide Gleichungen sind erfüllt, wenn das Argument ein Vielfaches von $2\\pi$ ist. Damit kann die Sweepdauer $T$ explizit durch\n",
    "\n",
    "\\begin{equation}\n",
    "\\frac{T}{16}\\left(\\omega_1 + \\omega_2\\right) = 2\\pi\\cdot n,\\qquad n=0,1,2,3,\\dots\n",
    "\\end{equation}\n",
    "\n",
    "berechnet werden und ist durch $n\\in \\mathbb{N}$ nicht komplett frei wählbar.\n",
    "Dieser Zusammenhang für die Periode $T$ soll nun in der nachfolgenden Funktion definiert:"
   ]
  },
  {
   "cell_type": "code",
   "execution_count": null,
   "metadata": {},
   "outputs": [],
   "source": [
    "'''\n",
    "Definition der Funktion calculatePhi2\n",
    "'''\n",
    "# Lösung\n",
    "def calculatePeriod(wStart_rad_per_s, wEnd_rad_per_s, n_periods):\n",
    "    T_s = 2*n_periods*np.pi*16 / (7*wStart_rad_per_s + wEnd_rad_per_s)  \n",
    "    return T_s"
   ]
  },
  {
   "cell_type": "markdown",
   "metadata": {
    "editable": false
   },
   "source": [
    "Zudem muss der Faktor k aus 6.1.b) berechnet werden. Dafür wird nun auch eine Funktion definiert:"
   ]
  },
  {
   "cell_type": "code",
   "execution_count": null,
   "metadata": {},
   "outputs": [],
   "source": [
    "'''\n",
    "Definition der Funktion calculatek\n",
    "'''\n",
    "# Lösung\n",
    "def calculatek(wStart_rad_per_s, wEnd_rad_per_s, T_s):\n",
    "    k = 3/T_s * (wEnd_rad_per_s - wStart_rad_per_s)  \n",
    "    return k"
   ]
  },
  {
   "cell_type": "markdown",
   "metadata": {
    "editable": false
   },
   "source": [
    "Zu guter Letzt werden noch die beiden Funktionen für die Berechnung der Amplitudenmodulaton $a(t)$ für beide Hälften definiert. Nutzen Sie dafür die Formeln aus 6.1 a):"
   ]
  },
  {
   "cell_type": "code",
   "execution_count": null,
   "metadata": {},
   "outputs": [],
   "source": [
    "'''\n",
    "Definition der Amplituden-Funktionen\n",
    "'''\n",
    "# Lösung\n",
    "def calculateAmplitude1(t_s, T_s):\n",
    "    a = 2/T_s*t_s\n",
    "    return a\n",
    "\n",
    "def calculateAmplitude2(t_s, T_s):\n",
    "    a = -2/T_s*(t_s-T_s)\n",
    "    return a"
   ]
  },
  {
   "cell_type": "markdown",
   "metadata": {
    "editable": false
   },
   "source": [
    "Nun berechnen wir zuerst die Sweepdauer, indem wir die Funktion \"calculatePeriod\" verwenden und dafür die Variable n_periods auf 300 festsetzen (der Wert ist hier egal). Daraus lässt sich zudem die Konstante k aus 6.1. b) bestimmen:"
   ]
  },
  {
   "cell_type": "code",
   "execution_count": null,
   "metadata": {},
   "outputs": [],
   "source": [
    "'''\n",
    "Berechnung von T_s und k\n",
    "'''\n",
    "# Lösung\n",
    "n_periods = 300;\n",
    "# Sweepdauer T berechnen in Abhängigkeit von ganzen Perioden 2*pi*n:\n",
    "T_s = calculatePeriod(wStart_rad_per_s, wEnd_rad_per_s, n_periods)  # die Dauer des Sweeps\n",
    "print(\"Sweepdauer: {} Sekunden.\\n\".format(T_s))\n",
    "\n",
    "# Konstante k:\n",
    "k = calculatek(wStart_rad_per_s, wEnd_rad_per_s, T_s)"
   ]
  },
  {
   "cell_type": "markdown",
   "metadata": {
    "editable": false
   },
   "source": [
    "Jetzt können wir den Sweep damit berechnen und plotten:"
   ]
  },
  {
   "cell_type": "code",
   "execution_count": null,
   "metadata": {},
   "outputs": [],
   "source": [
    "'''\n",
    "Implementierung des Sweeps nach Übung 6.1\n",
    "'''\n",
    "# Lösung\n",
    "# Laufvariable t definieren:\n",
    "t1_s = np.linspace(0, T_s/2, int(fs_Hz*T_s/2))\n",
    "t2_s = np.linspace(T_s/2+dt_s, T_s, int(fs_Hz*T_s/2-1))\n",
    "\n",
    "# Phasenwinkel für beide Abschnitte:\n",
    "phi1_rad = calculatePhi1(t1_s, wStart_rad_per_s, k, T_s)\n",
    "phi2_rad = calculatePhi2(t2_s, wStart_rad_per_s, k, T_s)\n",
    "\n",
    "# Einhüllende für beide Abschnitte:\n",
    "a1 = calculateAmplitude1(t1_s, T_s)\n",
    "a2 = calculateAmplitude2(t2_s, T_s)\n",
    "\n",
    "# Vollständigen Sweep zusammensetzen:\n",
    "sweep1 = a1 * np.sin(phi1_rad)\n",
    "sweep2 = a2 * np.sin(phi2_rad)\n",
    "t_s = np.append(t1_s, t2_s)        \n",
    "sweep = np.append(sweep1, sweep2)\n",
    "\n",
    "# Plot\n",
    "plt.title('Sweep von %d Hz bis %d Hz' %(fStart_Hz, fEnd_Hz))\n",
    "plt.xlabel('Zeit [s]') \n",
    "plt.ylabel('x(t)') \n",
    "plt.plot(t_s, sweep)\n",
    "plt.gcf().set_size_inches(20, 5)\n",
    "plt.show()"
   ]
  },
  {
   "cell_type": "markdown",
   "metadata": {
    "editable": false
   },
   "source": [
    "Um sicherzustellen, dass der Sweep tatsächlich das (annähernd) glatte Spektrum über den definierten Frequenzbereich von $f_{start}$ bis $f_{end}$ besitzt, wird der Amplitudenfrequenzgang $|X(k)|$ über die FFT berechnet. Dazu kann die im ersten Teil definierte Funktion \"fft_sweep\" verwendet werden:"
   ]
  },
  {
   "cell_type": "code",
   "execution_count": null,
   "metadata": {},
   "outputs": [],
   "source": [
    "'''\n",
    "Aufgabe: Spektrum des Sweeps berechnen\n",
    "'''\n",
    "# Lösung\n",
    "f_Hz, sweep_fft_plot = fft_sweep(sweep, fs_Hz)\n",
    "\n",
    "# Plot \n",
    "plt.title('Amplitudenfrequenzgang')\n",
    "plt.xlabel('Frequenz [Hz]') \n",
    "plt.ylabel('|X(f)|') \n",
    "plt.plot(f_Hz, sweep_fft_plot)\n",
    "plt.axis([fStart_Hz*0.5, fEnd_Hz*1.2, 0, np.max(sweep_fft_plot)*1.1])\n",
    "plt.gcf().set_size_inches(10, 5)\n",
    "plt.show()"
   ]
  },
  {
   "cell_type": "markdown",
   "metadata": {
    "editable": false
   },
   "source": [
    "Abspielen des Sweepssignal $x(t)$ ergibt das charakteristische Sweepgeräusch. Hierzu können Sie auch die aus dem ersten Part definierte Funktion \"playaudio()\" verwenden:"
   ]
  },
  {
   "cell_type": "code",
   "execution_count": null,
   "metadata": {},
   "outputs": [],
   "source": [
    "'''\n",
    "Aufgabe: Sweep abspielen\n",
    "'''\n",
    "# Lösung\n",
    "play_audio(sweep, fs_Hz)"
   ]
  },
  {
   "cell_type": "markdown",
   "metadata": {
    "editable": false
   },
   "source": [
    "----\n",
    "Zum Schluss wollen wir uns das Ergebnis noch einmal als interaktives Modul anschauen. Dazu wird wieder die Funktion `interact` aus dem Modul `ipywidgets` verwendet:"
   ]
  },
  {
   "cell_type": "code",
   "execution_count": null,
   "metadata": {},
   "outputs": [],
   "source": [
    "'''\n",
    "Initialisierung fester Variablen\n",
    "'''\n",
    "fs_Hz = 16e3\n",
    "dt_s = 1/fs_Hz"
   ]
  },
  {
   "cell_type": "code",
   "execution_count": null,
   "metadata": {},
   "outputs": [],
   "source": [
    "'''\n",
    "Interaktive Sweepdarstellung\n",
    "'''\n",
    "# Lösung\n",
    "@interact_manual(n_periods_i=(1, 1000, 1), fStart_Hz_i=(10, 5000, 10), fEnd_Hz_i=(10, 5000, 10), output_sound_i = True)\n",
    "def interactive_rect_sweep(n_periods_i=300, fStart_Hz_i=200, fEnd_Hz_i=1000, output_sound_i=True):\n",
    "    \n",
    "    \n",
    "    # Berechnung der Koeffizienten\n",
    "    wStart_rad_per_s_i = fStart_Hz_i * 2 * np.pi  # Startfrequenz [rad/s]\n",
    "    wEnd_rad_per_s_i = fEnd_Hz_i * 2 * np.pi  # Endfrequenz [rad/s]\n",
    "    T_s_i = calculatePeriod(wStart_rad_per_s_i, wEnd_rad_per_s_i, n_periods_i)\n",
    "    k_i = calculatek(wStart_rad_per_s_i, wEnd_rad_per_s_i, T_s_i)\n",
    "\n",
    "    # Laufvariable t definieren:\n",
    "    t1_s_i = np.linspace(0, T_s_i/2, int(fs_Hz*T_s_i/2))\n",
    "    t2_s_i = np.linspace(T_s_i/2+dt_s, T_s_i, int(fs_Hz*T_s_i/2-1))\n",
    "    \n",
    "    # Phasenwinkel für beide Abschnitte:\n",
    "    phi1_rad_i = calculatePhi1(t1_s_i, wStart_rad_per_s_i, k_i, T_s_i)\n",
    "    phi2_rad_i = calculatePhi2(t2_s_i, wStart_rad_per_s_i, k_i, T_s_i)   \n",
    "    \n",
    "    # Einhüllende für beide Abschnitte:\n",
    "    a1_i = calculateAmplitude1(t1_s_i, T_s_i)\n",
    "    a2_i = calculateAmplitude2(t2_s_i, T_s_i)\n",
    "\n",
    "    # Vollständigen Sweep zusammensetzen:\n",
    "    sweep1_i = a1_i * np.sin(phi1_rad_i)\n",
    "    sweep2_i = a2_i * np.sin(phi2_rad_i)\n",
    "    t_s_i = np.append(t1_s_i, t2_s_i)        \n",
    "    sweep = np.append(sweep1_i, sweep2_i)\n",
    "    \n",
    "    # Graphische Darstellung des Zeitbereichs\n",
    "    plt.title('Sweep von %d Hz zu %d Hz' %(fStart_Hz_i, fEnd_Hz_i))\n",
    "    plt.xlabel('Zeit [s]') \n",
    "    plt.ylabel('x(t)') \n",
    "    plt.plot(t_s_i, sweep)\n",
    "    plt.gcf().set_size_inches(20, 5)\n",
    "    plt.show()\n",
    "    \n",
    "    # FFT des Sweeps\n",
    "    f_Hz, sweep_fft_plot = fft_sweep(sweep, fs_Hz)\n",
    "\n",
    "    # Graphische Darstellung des Frequenzbereichs\n",
    "    plt.title('Amplitudenfrequenzgang')\n",
    "    plt.xlabel('Frequenz [Hz]') \n",
    "    plt.ylabel('|X(f)|') \n",
    "    plt.plot(f_Hz, sweep_fft_plot)\n",
    "    if fStart_Hz_i <= fEnd_Hz_i:\n",
    "        plt.axis([fStart_Hz_i*0.5, fEnd_Hz_i*1.2, 0, np.max(sweep_fft_plot)*1.1])\n",
    "    else:\n",
    "        plt.axis([fEnd_Hz_i*0.5, fStart_Hz_i*1.2, 0, np.max(sweep_fft_plot)*1.1])\n",
    "    \n",
    "    plt.gcf().set_size_inches(20, 5)\n",
    "    plt.show()\n",
    "    \n",
    "    \n",
    "    # Optionale Audioausgabe\n",
    "    if output_sound_i == True:\n",
    "        play_audio(sweep,fs_Hz)"
   ]
  },
  {
   "cell_type": "markdown",
   "metadata": {
    "editable": false
   },
   "source": [
    "----\n",
    "\n",
    "<a id='3'></a><div><img src=\"img/TITLE-Python.png\" style=\"float:left\"><h2 style=\"position: relative; top: 6px; left: 6px\">3. Realisierung mit Python-Modulen</h2></div>\n",
    "\n",
    "Im Modul scipy ist die Funktion [signal.chirp()](https://docs.scipy.org/doc/scipy/reference/generated/scipy.signal.chirp.html) als Frequenzgesteuerter Kosinusgenerator vorhanden, dadurch können Sweeps deutlich einfacher erzeugt werden. Zudem kann mit dem Modul [signal.spectrogram()](https://docs.scipy.org/doc/scipy/reference/generated/scipy.signal.spectrogram.html) das Signal in einem Spektrogramm betrachtet werden."
   ]
  },
  {
   "cell_type": "code",
   "execution_count": null,
   "metadata": {},
   "outputs": [],
   "source": [
    "'''\n",
    "Erzeugen des Sweep mittels signal.chirp()\n",
    "'''\n",
    "from scipy.signal import chirp, spectrogram\n",
    "\n",
    "# Sweep-Parameter definieren:\n",
    "fsChirp_Hz = 16000\n",
    "TChirp_s = 3\n",
    "tChirp_s = np.linspace(0, TChirp_s, TChirp_s*fsChirp_Hz, endpoint=False)\n",
    "chirpStartFreq_Hz = 200\n",
    "chirpEndFreq_Hz = 1000\n",
    "\n",
    "# Sweep und dessen Amplitudenfrequeuzgang berechnen:\n",
    "xSweep = chirp(tChirp_s, chirpStartFreq_Hz, TChirp_s, chirpEndFreq_Hz, 'linear')\n",
    "fChirp_Hz, tChirpSg_s, XSweep_f = spectrogram(xSweep, fsChirp_Hz, nperseg=250)\n",
    "\n",
    "# Plot\n",
    "plt.subplot(121)\n",
    "plt.title('Linearer Chirp, f(0)=%d Hz, f(%d)=%d Hz' %(chirpStartFreq_Hz, TChirp_s, chirpEndFreq_Hz))\n",
    "plt.xlabel('Zeit [s]') \n",
    "plt.ylabel('$x_{sweep}$(t)') \n",
    "plt.plot(tChirp_s, xSweep)\n",
    "plt.subplot(122)\n",
    "plt.title('Spektrogramm')\n",
    "plt.xlabel('Frequenz [Hz]') \n",
    "plt.ylabel('|$X_{sweep}$(f)|') \n",
    "plt.pcolormesh(tChirpSg_s, fChirp_Hz, XSweep_f,shading='gouraud')\n",
    "plt.gcf().set_size_inches(15, 5)\n",
    "plt.show()"
   ]
  },
  {
   "cell_type": "code",
   "execution_count": null,
   "metadata": {},
   "outputs": [],
   "source": [
    "'''\n",
    "Aufgabe: Sweep abspielen\n",
    "'''\n",
    "\n",
    "play_audio(xSweep, fsChirp_Hz)"
   ]
  },
  {
   "cell_type": "markdown",
   "metadata": {
    "editable": false
   },
   "source": [
    "Die Verwendung eines Spektrogramms statt eines einfachen Spektrums zur Darstellung des Frequenzbereiches (in diesem Falle in zusätzlicher Abhängigkeit von der Zeit) wird im nächsten Notebook noch ausführlich behandelt.\n",
    "\n",
    "---\n",
    "\n",
    "### References\n",
    "\n",
    "1. Titelbild von [wikimedia](https://commons.wikimedia.org/wiki/File:Chirp_animation.gif?uselang=de)  \n",
    "2. [Sweep (Signalverarbeitung)](https://de.wikipedia.org/wiki/Sweep_(Signalverarbeitung))  \n",
    "3. [Sinusoidal Sweep Signals](https://learn.digilentinc.com/Documents/132)  \n",
    "4. [Sine Sweep](https://theaudioprogrammer.com/signal-analysis-ii-linear-vs-logarithmic-sine-sweep/)  \n",
    "---\n",
    "<div>Notebook erstellt von <a href=\"mailto:arne-lukas.fietkau@tu-dresden.de?Subject=Frage%20zu%20Jupyter%20Notebook%201.2%20IIR%20Filterentwurf\" target=\"_top\">Arne-Lukas Fietkau</a>, Yifei Li  und Christoph Wagner </div>"
   ]
  }
 ],
 "metadata": {
  "celltoolbar": "Edit Metadata",
  "kernelspec": {
   "display_name": "Python 3 (ipykernel)",
   "language": "python",
   "name": "python3"
  },
  "language_info": {
   "codemirror_mode": {
    "name": "ipython",
    "version": 3
   },
   "file_extension": ".py",
   "mimetype": "text/x-python",
   "name": "python",
   "nbconvert_exporter": "python",
   "pygments_lexer": "ipython3",
   "version": "3.10.7"
  }
 },
 "nbformat": 4,
 "nbformat_minor": 4
}
