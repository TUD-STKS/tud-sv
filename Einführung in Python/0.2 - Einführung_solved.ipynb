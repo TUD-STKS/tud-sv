{
 "cells": [
  {
   "cell_type": "markdown",
   "metadata": {
    "editable": false
   },
   "source": [
    "# 0.2 - Einführung"
   ]
  },
  {
   "cell_type": "markdown",
   "metadata": {
    "editable": false
   },
   "source": [
    "<img style=\"float: right; margin:5px 0px 0px 10px\" src=\"img/Titel.png\" width=\"400\">\n",
    "Begleitend zur Übung des Fachs Signalverarbeitung wird Ihnen eine Reihe an Jupyter-Notebooks zur Verfügung gestellt. Diese soll Ihnen sowohl zum besseren Verständnis der in der Vorlesung und Übung behandelten Themen helfen, als auch die Fähigkeit zur selbstständigen Lösung eigener Problemstellungen geben.\n",
    "\n",
    "Die Bearbeitung der Notebooks ist dabei komplett freiwillig. Falls Sie aber Probleme und Fragen haben, posten Sie Ihre Fragen gerne ins Opal-Forum. \n",
    "\n",
    "\n",
    "Dieses Notebook soll Ihnen beim Einstieg in die Programmiersprache Python helfen. Weitere Notebooks werden zeitnah zur jeweiligen Übung online gestellt.\n",
    "\n",
    "\n",
    "## Inhalt  \n",
    "<table style=\"width:300px; border: 1px solid black; display: inline-block\">\n",
    "    <tr>\n",
    "    <td style=\"text-align:right\"><img src=\"img/IMG-graph.png\" style=\"float:left\"></td>\n",
    "    <td style=\"text-align:left\" width=128px><a style=\"color:black; font-size:14px; font-weight:bold; text-decoration:none\" href='#signalrep'>1. Signalrepräsentation</a>\n",
    "        </td>\n",
    "    </tr>\n",
    "    <tr>\n",
    "    <td style=\"text-align:right\"><img src=\"img/IMG-signal.png\" style=\"float:left\"></td>\n",
    "    <td style=\"text-align:left\" width= 256px><a style=\"color:black; font-size:14px; font-weight:bold; text-decoration:none\" href='#signalop'>2. Signaloperation</a>\n",
    "        </td>\n",
    "  </tr>\n",
    "    <tr>\n",
    "    <td style=\"text-align:right\"><img src=\"img/IMG-Fourier.png\" style=\"float:left\"></td>\n",
    "    <td style=\"text-align:left\" width=128px><a style=\"color:black; font-size:14px; font-weight:bold; text-decoration:none\" href='#fourier'>3. Diskrete Fourier-Transformation</a>\n",
    "        </td>\n",
    "  </tr>\n",
    "</table>"
   ]
  },
  {
   "cell_type": "markdown",
   "metadata": {
    "editable": false
   },
   "source": [
    "<a id='signalrep'></a><div><img src=\"img/IMG-graph.png\" style=\"float:left\"><h2 style=\"position: relative; top: 6px; left: 6px\"> 1. Signalrepräsentation</h2>"
   ]
  },
  {
   "cell_type": "markdown",
   "metadata": {
    "editable": false
   },
   "source": [
    "Zunächst schauen wir uns an, wie man mit Python typische Eingangssignale erzeugt und sich diese graphisch darstellen lassen kann.\n",
    "Dafür benötigen wir aus dem Modul `numpy` Funktionen zur Erzeugung von Arrays. Zur Visualisierung verwenden wir aus dem Modul `matplotlib` das Objekt [`pyplot`](https://matplotlib.org/stable/tutorials/introductory/pyplot.html).\n",
    "\n",
    "Die Module und Objekte lassen sich wie folgt importieren:\n",
    "\n",
    "```python\n",
    "import numpy as np\n",
    "import matplotlib.pyplot as plt\n",
    "\n",
    "```\n",
    "\n",
    "Probieren Sie es in der nächsten Zelle gleich mal aus, indem sie die mit [..] gekennzeichneten Zeilen ersetzen!"
   ]
  },
  {
   "cell_type": "code",
   "execution_count": null,
   "metadata": {},
   "outputs": [],
   "source": [
    "# Lösung:\n",
    "# Hier können Sie Python-Code hineinschreiben und mit Shift+Enter ausführen!\n",
    "# Module importieren (numpy und matplotlib.pyplot)\n",
    "import numpy as np\n",
    "import matplotlib.pyplot as plt\n",
    "\n",
    "\n",
    "# Erzeugung eines linearen Arrays als Zeitbereich\n",
    "t = np.linspace(-5, 5, 1001)"
   ]
  },
  {
   "cell_type": "markdown",
   "metadata": {
    "editable": false
   },
   "source": [
    "Das Objekt [`np.linspace(a,z,res)`](https://numpy.org/doc/stable/reference/generated/numpy.linspace.html) erzeugt ein äquidistantes Zahlenarray zwischen der unteren Schranke ```a``` und der oberen Schranke ```z``` mit der Auflösung von ```res```. Den Inhalt von Variablen lässt sich anzeigen, indem man das ```print()```-Kommando verwendet oder die Variable alleine ans Ende der Zelle in eine Zeile schreibt.\n",
    "\n",
    "Lassen Sie sich also nun in der folgenden Zelle das Array ausgeben! (Da die Auflösung sehr groß gesetzt ist, ist auch das Array dementsprechend groß und wird nicht vollständig angezeigt. Deshalb kann man sich auch nur einen Ausschnitt des Arrays mit z.B. ```t[0:9]``` anzeigen lassen.)\n"
   ]
  },
  {
   "cell_type": "code",
   "execution_count": null,
   "metadata": {},
   "outputs": [],
   "source": [
    "# Lösung\n",
    "# Betrachten des Inhalts der Variable 't'.\n",
    "t[0:9]"
   ]
  },
  {
   "cell_type": "markdown",
   "metadata": {
    "editable": false
   },
   "source": [
    "Es lassen sich noch weitere Eigenschaften der Variablen und des Inhalts anzeigen:"
   ]
  },
  {
   "cell_type": "code",
   "execution_count": null,
   "metadata": {},
   "outputs": [],
   "source": [
    "# Betrachtung der Eigenschaften:\n",
    "t_length = len(t)\n",
    "t_type = type(t)\n",
    "t_entry_type = type(t[0])\n",
    "\n",
    "# Setzen Sie in der print()-Eingabe anstelle [..] ein.\n",
    "\n",
    "print(\"Array-Länge: {};   Arraytyp: {};   Elementtyp: {}\".format( t_length, t_type, t_entry_type))"
   ]
  },
  {
   "cell_type": "markdown",
   "metadata": {
    "editable": false
   },
   "source": [
    "<h3> Exponentielle Funktion</h3>\n",
    "\n",
    "Zur Erzeugung einer exponentiellen Funktion kann aus dem Modul `numpy` das Objekt [`exp`](https://numpy.org/doc/stable/reference/generated/numpy.exp.html) verwendet werden. Mit dem Objekt `plt` kann dann die exponentielle Funktion geplottet werden."
   ]
  },
  {
   "cell_type": "code",
   "execution_count": null,
   "metadata": {},
   "outputs": [],
   "source": [
    "# Erzeugung eines Arrays mit exponentiellen y-Werten für alle Einträge in t.\n",
    "\n",
    "m = 0.7                          # Wachstumsrate\n",
    "s = np.exp(m*t)                  # Exponentialfunktion\n",
    "\n",
    "\n",
    "# Graphische Darstellung\n",
    "plt.gcf().set_size_inches(8, 5)  # Fenstergröße festlegen\n",
    "plt.title(u's = exp(0.7*t)')     # Titel einfügen\n",
    "plt.xlabel(u't  [Zeit]')         # x-Achsenbeschriftung einfügen\n",
    "plt.ylabel(u's [Amplitude]')     # y-Achsenbeschriftung einfügen\n",
    "plt.plot(t, s)                   # Festlegen der Variablen x und y\n",
    "plt.show()                       # Plot zeigen"
   ]
  },
  {
   "cell_type": "markdown",
   "metadata": {
    "editable": false
   },
   "source": [
    "Das Objekt ```np.exp()``` kann auch mit komplexen Exponenten verwendet werden.\n",
    "\n",
    "Zum aneinanderfügen der Plots wird hier zusätzlich die Funktion [```subplot```](https://matplotlib.org/stable/api/_as_gen/matplotlib.pyplot.subplot.html) verwendet."
   ]
  },
  {
   "cell_type": "code",
   "execution_count": null,
   "metadata": {},
   "outputs": [],
   "source": [
    "#Lösung\n",
    "# komplexe Exponentialkomponente\n",
    "\n",
    "m = complex(0.7, 7)      # 0.7 = Realteil, 7 = Imaginärteil\n",
    "\n",
    "# Erzeugung eines Arrays mit exponentiellen y-Werten mit t als x-Werten.\n",
    "\n",
    "s = np.exp(m*t) # Ergänzen Sie die korrekte Funktion.\n",
    "\n",
    "\n",
    "# Graphische Darstellung mittels Subplots\n",
    "plt.subplot(221)\n",
    "plt.title(u'Realteil')\n",
    "plt.xlabel(u't  [Zeit]')\n",
    "plt.ylabel(u's [Re{Amplitude}]')\n",
    "plt.plot(t,np.real(s))   # Plot des Realteils über np.real()\n",
    "plt.subplot(222)\n",
    "plt.title(u'Imaginärteil')\n",
    "plt.xlabel(u't  [Zeit]')\n",
    "plt.ylabel(u's [Im{Amplitude}]')\n",
    "plt.plot(t,np.imag(s))   # Plot des Imaginörteils über np.imag()\n",
    "plt.subplot(223)\n",
    "plt.title(u'Absolut')\n",
    "plt.xlabel(u't  [Zeit]')\n",
    "plt.ylabel(u's [|Amplitude|]')\n",
    "plt.plot(t,np.abs(s))    # Plot des Absolutwerts über np.abs()\n",
    "plt.subplot(224)\n",
    "plt.title(u'Phase')\n",
    "plt.xlabel(u't  [Zeit]')\n",
    "plt.ylabel(u's [Radiant]')\n",
    "plt.plot(t,np.angle(s))  # Plot der Phase über np.angle()\n",
    "\n",
    "plt.gcf().set_size_inches(15, 10)\n",
    "plt.show()"
   ]
  },
  {
   "cell_type": "markdown",
   "metadata": {
    "editable": false
   },
   "source": [
    "<h3> Sinus und Cosinus</h3>\n",
    "\n",
    "Auch Sinus- und Cosinussignale lassen sich über Objekte aus dem numpy-Modul erzeugen.\n",
    "Folgende Objekte stehen dabei zur Verfügung:\n",
    "\n",
    "- [`np.pi`](https://numpy.org/doc/stable/reference/constants.html): Wert von π,\n",
    "- [`np.sin()`](https://numpy.org/doc/stable/reference/generated/numpy.sin.html): Sinusfunktion,\n",
    "- [`np.cos()`](https://numpy.org/doc/stable/reference/generated/numpy.cos.html): Cosinusfunktion.\n",
    "\n",
    "\n",
    "Implementieren Sie nun im Folgenden ein Array mit den Werten der Sinusfunktion mit der Kreisfrequenz von π/3 und eine Cosinusfunktion mit der Kreisfrequenz von 2/3 * π im zeitlichen Bereich von -5 bis 5 und einer Auflösung von 1001 Einheiten."
   ]
  },
  {
   "cell_type": "code",
   "execution_count": null,
   "metadata": {},
   "outputs": [],
   "source": [
    "# Lösung\n",
    "# Implementieren sie ein Sinus- und Cosinussignal mit den vorgegebenen Kreisfrequenzen\n",
    "\n",
    "s1 = np.sin(np.pi/3 * t)           # Sinus mit Kreisfrequenz π/3\n",
    "s2 = np.cos(2/3 * np.pi * t)           # Cosinus mit Kreisfrequenz 2π/3\n",
    "\n",
    "\n",
    "# Graphische Darstellung mittels Subplots\n",
    "# w = π/3, Sinus:\n",
    "plt.subplot(121)\n",
    "plt.xlabel(u't  [Zeit]')\n",
    "plt.ylabel(u's1 [Amplitude]')\n",
    "plt.plot(t, s1)\n",
    "plt.title(u'sin((π/3)*t)')\n",
    "\n",
    "# w = 2π/3, Cosinus:\n",
    "plt.subplot(122)\n",
    "plt.xlabel(u't  [Zeit]')\n",
    "plt.ylabel(u's2 [Amplitude]')\n",
    "plt.plot(t, s2)\n",
    "plt.title(u'cos((2π/3)*t)')\n",
    "\n",
    "plt.gcf().set_size_inches(15, 5)\n",
    "plt.show()"
   ]
  },
  {
   "cell_type": "markdown",
   "metadata": {
    "editable": false
   },
   "source": [
    "<h3> Impuls- und Sprungsignale</h3>\n",
    "\n",
    "Mit dem Objekt [`np.where`](https://numpy.org/doc/stable/reference/generated/numpy.where.html) können Impulse und Sprünge implementiert werden. Das Objekts ist wie folgt aufgebaut: `np.where(Bedingung, True, False)`.\n",
    "Über die `Bedingung` lässt sich zwischen den vorgegebenen Variablen `True` und `False` schalten. Für einen Sprung benötigt man eine Bedingung, zum Beispiel (t >= 0). Für einen Impuls werden zwei Bedingungen benötigt (Beispiel: (t >= 0) & (t <= 1)).\n",
    "\n",
    "\n",
    "\n",
    "\n",
    "Implementieren Sie im Folgenden die vorgegebenen Signale im zeitlichen Bereich von -5 bis 5 und einer Auflösung von 1001 Werten."
   ]
  },
  {
   "cell_type": "code",
   "execution_count": null,
   "metadata": {},
   "outputs": [],
   "source": [
    "# Lösung\n",
    "\n",
    "# Impulsbreite = 0.1 um den Nullpunkt, Amplitude = 1, Vorzustand = 0.\n",
    "s1 = np.where((t >= -0.05) & (t <= 0.05), 1, 0)\n",
    "\n",
    "# Impuls mit Breite = 3 mit dem Mittelpunkt bei t = -0.5, Amplitude = 1, Vorzustand = 0.\n",
    "s2 = np.where((t >= -2) & (t <= 1), 1, 0)\n",
    "\n",
    "# Sprung bei t >= -2, Amplitude = 1, Vorzustand = -0.2.\n",
    "s3 = np.where(t >= -2, .8, -.2) \n",
    "\n",
    "\n",
    "# Graphische Darstellung mittels Subplots\n",
    "plt.subplot(221)\n",
    "plt.title(u'Impulsbreite = 0.1')\n",
    "plt.xlabel(u't  [Zeit]')\n",
    "plt.ylabel(u's1 [Amplitude]')\n",
    "plt.plot(t, s1)\n",
    "\n",
    "plt.subplot(222)\n",
    "plt.title(u'Impulsbreite = 3')\n",
    "plt.xlabel(u't  [Zeit]')\n",
    "plt.ylabel(u's2 [Amplitude]')\n",
    "plt.plot(t, s2)\n",
    "\n",
    "plt.subplot(223)\n",
    "plt.title(u'Sprung')\n",
    "plt.xlabel(u't  [Zeit]')\n",
    "plt.ylabel(u's3 [Amplitude]')\n",
    "plt.plot(t, s3)\n",
    "\n",
    "plt.gcf().set_size_inches(15, 10)\n",
    "plt.show()"
   ]
  },
  {
   "cell_type": "markdown",
   "metadata": {
    "editable": false
   },
   "source": [
    "<h3> Diskrete Signaldarstellung</h3>\n",
    "\n",
    "Alle bisherigen Beispiele sind trotz ihres Aussehens zeitdiskret, zwischen deren Punkten eine durchgehende Linie interpoliert wurde. Nur durch die große Anzahl an berechneten Punkten scheinen die Darstellungen zeitkontinuierlich zu sein. Um die zetdiskrete Eigenschaft graphisch besser darzustellen, kann [`plt.stem()`](https://matplotlib.org/stable/api/_as_gen/matplotlib.pyplot.stem.html) anstelle von `plt.plot()` verwendet werden.<br>\n",
    "Um ein einfaches inkrementelles Array zu erzeugen, wird [`np.arange()`](https://numpy.org/doc/stable/reference/generated/numpy.arange.html) verwendet.\n",
    "\n",
    "`np.arange()` und `plt.stem()` werden im Folgenden auf eine Exponentialfunktion angewendet:<br>"
   ]
  },
  {
   "cell_type": "code",
   "execution_count": null,
   "metadata": {},
   "outputs": [],
   "source": [
    "# Erzeugen von 21 Samples \n",
    "n = np.arange(0, 20)\n",
    "\n",
    "\n",
    "# Erzeugen eines Arrays mit dem exponentiellen Werten \n",
    "s = np.exp(-0.3*n)\n",
    "\n",
    "\n",
    "# Graphische Darstellung\n",
    "plt.ylim(-0.5, 1.5)          \n",
    "plt.xlabel(u'n  [Messpunkte]')\n",
    "plt.ylabel(u's [Amplitude]')\n",
    "plt.stem(n, s) # Erstellung des Stem plot\n",
    "\n",
    "plt.gcf().set_size_inches(8, 5)\n",
    "plt.show()"
   ]
  },
  {
   "cell_type": "markdown",
   "metadata": {
    "editable": false
   },
   "source": [
    "Implementieren Sie nun im Folgenden die diskreten Signaldarstellungen für folgende Sinus- und Cosinusfunktionen:\n",
    "\n",
    "- s1 = sin(n*π)\n",
    "- s2 = sin(n*π/6)\n",
    "- s3 = cos(n*π/9)\n",
    "- s4 = cos(2n)"
   ]
  },
  {
   "cell_type": "code",
   "execution_count": null,
   "metadata": {
    "scrolled": false
   },
   "outputs": [],
   "source": [
    "# Lösung\n",
    "# Implementieren sie zwei Sinus- und zwei Cosinussignal mit den vorgegebenen Werten.\n",
    "\n",
    "n = np.arange(51)        # Es sollen insgesamt 51 Samples (0-51) angezeigt werden.\n",
    "\n",
    "\n",
    "s1 = np.sin(n*np.pi)  # sin(n ⋅ π)\n",
    "\n",
    "s2 = np.sin(n*np.pi/6) # sin(n ⋅ π/6)\n",
    "\n",
    "s3 = np.cos(n*np.pi/9) # cos(n ⋅ π/9)\n",
    "\n",
    "s4 = np.cos(2*n) # cos(2n)\n",
    "\n",
    "\n",
    "# Graphische Darstellung\n",
    "plt.subplot(221)\n",
    "plt.title(u'sin(nπ)')\n",
    "plt.xlabel(u'n  [Sample-No.]')\n",
    "plt.ylabel(u's1 [Amplitude]')\n",
    "plt.stem(n, s1)\n",
    "\n",
    "plt.subplot(222)\n",
    "plt.title(u'sin(nπ/6)')\n",
    "plt.xlabel(u'n  [Sample-No.]')\n",
    "plt.ylabel(u's2 [Amplitude]')\n",
    "plt.stem(n, s2)\n",
    "\n",
    "plt.subplot(223)\n",
    "plt.title(u'cos(nπ/9)')\n",
    "plt.xlabel(u'n  [Sample-No.]')\n",
    "plt.ylabel(u's3 [Amplitude]')\n",
    "plt.stem(n, s3)\n",
    "\n",
    "plt.subplot(224)\n",
    "plt.title(u'cos(2n)')\n",
    "plt.xlabel(u'n  [Sample-No.]')\n",
    "plt.ylabel(u's4 [Amplitude]')\n",
    "plt.stem(n,s4)\n",
    "\n",
    "plt.gcf().set_size_inches(15, 10)\n",
    "plt.show()"
   ]
  },
  {
   "cell_type": "markdown",
   "metadata": {
    "editable": false
   },
   "source": [
    "In den Graphen s2 und s3 erkennt man gut den Sinus-/Cosinus-Verlauf. Als Ausgabepunkte für s1 sind die Nulldurchgänge gewählt worden und sollten alle theoretisch den Wert Null haben. Durch Rundungsfehler ist das Ergebnis der Rechnung nur nahe Null. Und in Graph s4 ist die Abtastung nicht synchronisiert, weshalb man die Frequenz nicht ersehen kann.\n",
    "\n",
    "Implementieren Sie nun einen Impuls und ein Sprungsignal mit `np.where` und lasssen Sie sich den mit `plt.stem` ausgeben:\n",
    "- s1 = Impuls an Position n = -2\n",
    "- s2 = Sprung an Position n =-2 von 0 auf 1"
   ]
  },
  {
   "cell_type": "code",
   "execution_count": null,
   "metadata": {},
   "outputs": [],
   "source": [
    "# Lösung\n",
    "# Implementieren Sie.\n",
    "\n",
    "n = np.arange(-10, 10) # Es sollen insgesamt 21 Samples (-10 bis +10) angezeigt werden.\n",
    "\n",
    "\n",
    "s1 = np.where(n==-2, 1, 0) \n",
    "\n",
    "s2 = np.where(n>=-2, 1, 0)\n",
    "\n",
    "# Graphische Darstellung\n",
    "plt.subplot(121)\n",
    "plt.title(u'Impuls')\n",
    "plt.xlabel(u'n  [Sample-No.]')\n",
    "plt.ylabel(u's1 [Amplitude]')\n",
    "plt.stem(n, s1)\n",
    "\n",
    "plt.subplot(122)\n",
    "plt.title(u'Sprung')\n",
    "plt.xlabel(u'n  [Sample-No.]')\n",
    "plt.ylabel(u's2 [Amplitude]')\n",
    "plt.stem(n, s2)\n",
    "\n",
    "plt.gcf().set_size_inches(15, 4)\n",
    "plt.show()"
   ]
  },
  {
   "cell_type": "markdown",
   "metadata": {
    "editable": false
   },
   "source": [
    "<a id='signalop'></a><div><img src=\"img/IMG-signal.png\" style=\"float:left\"><h2 style=\"position: relative; top: 6px; left: 6px\"> 2. Signaloperation</h2></div>\n",
    "\n",
    "In Python können Signale leicht über die Grundrechenarten verknüpft werden oder aber auch mit externen Modulen gefaltet werden. Für die Grundrechenarten stehen interne Objekte zur Verfügung, die mit den zugehörigen einfachen Rechner-Zeichen verwendet werden, also  `+`, `-`, `*` & `/`.\n",
    "\n",
    "\n",
    "Ein paar Beispiele zur Verwendung der Grundrechenarten sind nun gegeben:"
   ]
  },
  {
   "cell_type": "code",
   "execution_count": null,
   "metadata": {},
   "outputs": [],
   "source": [
    "# Lösung\n",
    "# Implementierung der Grundrechenarten\n",
    "\n",
    "t = np.linspace(-5, 5, 1000)\n",
    "\n",
    "s1 = np.sin(2*np.pi*t)\n",
    "s2 = np.exp(-t/2)\n",
    "\n",
    "s_add = s1+s2\n",
    "s_mult = s1*s2\n",
    "\n",
    "# Graphische Darstellung\n",
    "plt.subplot(221)\n",
    "plt.title(u'Sinusfunktion')\n",
    "plt.xlabel(u't [Zeit]')\n",
    "plt.ylabel(u's1 [Amplitude]')\n",
    "plt.plot(t, s1)\n",
    "\n",
    "plt.subplot(222)\n",
    "plt.title(u'Exponentialfunktion')\n",
    "plt.xlabel(u't [Zeit]')\n",
    "plt.ylabel(u's2 [Amplitude]')\n",
    "plt.plot(t, s2)\n",
    "plt.subplot(223)\n",
    "\n",
    "plt.title(u'Addition')\n",
    "plt.plot(t, s_add)\n",
    "plt.xlabel(u't [Zeit]')\n",
    "plt.ylabel(u's_add [Amplitude]')\n",
    "plt.subplot(224)\n",
    "\n",
    "plt.title(u'Multiplikation')\n",
    "plt.plot(t, s_mult)\n",
    "plt.xlabel(u't [Zeit]')\n",
    "plt.ylabel(u's_mult [Amplitude]')\n",
    "\n",
    "plt.gcf().set_size_inches(15, 10)\n",
    "plt.show()"
   ]
  },
  {
   "cell_type": "markdown",
   "metadata": {
    "editable": false
   },
   "source": [
    "Eine Faltung von Arrays kann mit Hilfe von `numpy` mit dem Objekt [`convolve()`](https://numpy.org/doc/stable/reference/generated/numpy.convolve.html) durchgeführt werden. Lesen Sie dafür in der verlinkten Doku nach, wie Sie das Faltungs-Objekt nutzen können. Um Signale in einen Bereich zuzuschneiden, kann das schon für die Impulse und Sprünge verwendete Objekt `where` verwendet werden."
   ]
  },
  {
   "cell_type": "code",
   "execution_count": null,
   "metadata": {},
   "outputs": [],
   "source": [
    "# Lösung\n",
    "# Implementierung einer e-Funktion über den Bereich t mit dem Verlauf e_fun von -5 bis +4 und von +4 bis 5 einen Wert von 0.\n",
    "\n",
    "\n",
    "t = np.linspace(-5, 5, 1001)\n",
    "\n",
    "s1 = np.where((t >= -2) & (t <= 3), 1, 0) # Rechteckfunktion\n",
    "e_fun = np.exp(0.7*t)\n",
    "s2 = np.where(t <= 4, e_fun, 0)   # Exponentialfunktion\n",
    "\n",
    "\n",
    "#Graphische Darstellung\n",
    "plt.subplot(121)\n",
    "plt.title(u'Rechteck')\n",
    "plt.xlabel(u't [Zeit]')\n",
    "plt.ylabel(u's1 [Amplitude]')\n",
    "plt.plot(t, s1)\n",
    "\n",
    "plt.subplot(122)\n",
    "plt.title(u'Exponentialfunktion')\n",
    "plt.xlabel(u't [Zeit]')\n",
    "plt.ylabel(u's2 [Amplitude]')\n",
    "plt.plot(t, s2)\n",
    "\n",
    "plt.gcf().set_size_inches(10, 5)\n",
    "plt.show()"
   ]
  },
  {
   "cell_type": "code",
   "execution_count": null,
   "metadata": {},
   "outputs": [],
   "source": [
    "# Lösung\n",
    "# Implementierung des Operators convolve aus der Bibliothek numpy\n",
    "\n",
    "s_conv = np.convolve(s1, s2)\n",
    "t_conv = np.linspace(-10, 10, len(s_conv))\n",
    "\n",
    "# Graphische Darstellung\n",
    "plt.title(u'Faltung')\n",
    "plt.xlabel(u't [Zeit]')\n",
    "plt.ylabel(u's1*s2 [Amplitude]')\n",
    "plt.plot(t_conv, s_conv)\n",
    "plt.show()"
   ]
  },
  {
   "cell_type": "markdown",
   "metadata": {
    "editable": false
   },
   "source": [
    "<a id='fourier'></a><div><img src=\"img/IMG-Fourier.png\" style=\"float:left\"><h2 style=\"position: relative; top: 6px; left: 6px\">  3. Diskrete Fourier-Transformation</h2>"
   ]
  },
  {
   "cell_type": "markdown",
   "metadata": {
    "editable": false
   },
   "source": [
    "![signal](img/signal.gif) "
   ]
  },
  {
   "cell_type": "markdown",
   "metadata": {
    "editable": false
   },
   "source": [
    "Hinweis: Die Beziehungen zwischen FS, FT, DTFT, DFT bzw. diskret vs. kontinuierlich und periodisch vs. nicht periodisch schauen Sie sich bitte die entsprechenden Folien in der Vorlesung an.  "
   ]
  },
  {
   "cell_type": "markdown",
   "metadata": {
    "editable": false
   },
   "source": [
    "![FS](img/fourier.gif) "
   ]
  },
  {
   "cell_type": "markdown",
   "metadata": {
    "editable": false
   },
   "source": [
    "In diesem Beispiel zur Fouriertransformation soll eine sinc-Funktion Fourier-transformiert und invers rücktransformiert werden. Dabei entsteht ideal im Frequenzbereich eine Rechteckfunktion. Da wir uns durch die Nutzung von Zahlenarrays im Zeit- und Wertdiskreten bewegen, ist die Fouriertransformation diskret. Die wichtigen Formeln sind \n",
    "\n",
    "\n",
    "(1) Diskrete Fouriertransformation (DFT):\n",
    "\\begin{equation*}\n",
    "H(n)=\\frac{1}{N}\\sum_{k=0}^{N-1}h(k)e^{-j2\\pi n\\frac{k}{N}},\n",
    "\\end{equation*}  \n",
    "\n",
    "(2) Inverse DFT (IDFT):\n",
    "\\begin{equation*}\n",
    "h(k)=\\sum_{n=0}^{N-1}H(n)e^{j2\\pi k\\frac{n}{N}},\n",
    "\\end{equation*}  \n",
    "\n",
    "(3) sinc-Funktion:\n",
    "\\begin{equation*}\n",
    "sinc\\left(\\frac{x}{T}\\right) = \\frac{\\sin(\\frac{\\pi x }{T})}{\\frac{\\pi x}{T}},\n",
    "\\end{equation*}  \n",
    "\n",
    "(4) Rechteckfunktion:\n",
    "\\begin{equation*} \n",
    "rect \\left( \\frac{x}{\\tau} \\right) = \\begin{cases}\n",
    "    A     & \\text{ if } |x| \\leq \\frac{\\tau}{2} \\\\\n",
    "    0  & \\text{ else }  \\\\\n",
    "\\end{cases},\n",
    "\\end{equation*}\n",
    "\n",
    "(5) Beziehungen bei Fourier zwischen $\\tau$ und T:\n",
    "\\begin{equation*} \n",
    "\\tau = \\frac{1}{T }.\n",
    "\\end{equation*}\n",
    "\n",
    "Zur Umsetzung der Transformationen wird die Fast-Fourier-Transformation durch die Objekte [fft.fft](https://docs.scipy.org/doc/scipy/reference/generated/scipy.fft.fft.html) und [fft.ifft](https://docs.scipy.org/doc/scipy/reference/generated/scipy.fft.ifft.html) aus dem Modul scipy verwendet. Die Verwendung der FFT beschleunigt die Berechnungszeit der Fouriertransformation, soll aber hier nicht weiter vertieft werden. Im Modul 1.1 wird näher die Umsetzung der Diskreten Fouriertransformation beschrieben.\n",
    "\n",
    "Importieren Sie zunächst die Objekte fft und ifft aus der Bibliothek scipy.fftpack"
   ]
  },
  {
   "cell_type": "code",
   "execution_count": null,
   "metadata": {},
   "outputs": [],
   "source": [
    "# Lösung\n",
    "# Import der Objekte fft und ifft aus der Bibliothek scipy.fftpack in den globalen Namensraum\n",
    "\n",
    "from scipy.fft import fft, ifft"
   ]
  },
  {
   "cell_type": "markdown",
   "metadata": {
    "editable": false
   },
   "source": [
    "Zur Beschreibung der Sinc-Funktion werden zunächst die benötigten Variablen initialisiert:"
   ]
  },
  {
   "cell_type": "code",
   "execution_count": null,
   "metadata": {},
   "outputs": [],
   "source": [
    "# Variablendefinition für sinc-Funktion\n",
    "\n",
    "N       = 201                              # Anzahl Abtastwerte\n",
    "t_total = 10                               # zeitlicher Ausschnitt der Sinc-Funktion [-T_total/2, ..., T_total/2]\n",
    "A_sinc  = 1                                # Flächeninhalt (\"Amplitude\") der Sinc-Funktion\n",
    "T_sinc  = 1                                # 'Periode' der Sinc-Funktion (erster Nulldurchgang)\n",
    "\n",
    "\n",
    "# Erzeugung der Sinc-Funktion\n",
    "\n",
    "t = np.linspace(-t_total/2, t_total/2, N) # Erzeugung der äquidistanten x-Abtastpunkte\n",
    "sinc = A_sinc* np.sinc(t/T_sinc)           # Definition der Sinc-Funktion\n",
    "\n",
    "#Graphische Darstellung\n",
    "plt.title(u'Sinc im Zeitbereich')\n",
    "plt.xlabel(u'k⋅Δt [Zeit]')\n",
    "plt.ylabel(u's [Amplitude]')    \n",
    "plt.plot(t, sinc)\n",
    "plt.plot([-t_total/2,t_total/2],[0,0], 'k')    # Nulllinie\n",
    "plt.show()"
   ]
  },
  {
   "cell_type": "markdown",
   "metadata": {
    "editable": false
   },
   "source": [
    "Nun wird die erzeugte Sinc-Funktion mittels der FFT-Funktion diskret Fourier-transformiert: Dazu muss zudem noch der Frequenzbereich berechnet werden."
   ]
  },
  {
   "cell_type": "code",
   "execution_count": null,
   "metadata": {},
   "outputs": [],
   "source": [
    "# Diskrete Fourier-Transformation\n",
    "\n",
    "# Erzeugung der Fouriertransformation\n",
    "f = np.linspace(0, (N-1)/t_total, N)       # Bestimmung des Frequenzbereichs\n",
    "H    = fft(sinc)                           # Fouriertransformation der Sinc-Funktion\n",
    "\n",
    "# Graphische Darstellung\n",
    "plt.title(u'Sinctransformierte im Frequenzbereich')\n",
    "plt.xlabel(u'n⋅Δf [Frequenz]')\n",
    "plt.ylabel(u'S [Amplitude]')\n",
    "plt.plot(f, np.abs(H))                      # Betrachtung des Absolutwerts der nun komplexen Funktion\n",
    "plt.show()"
   ]
  },
  {
   "cell_type": "markdown",
   "metadata": {
    "editable": false
   },
   "source": [
    "Die Funktion sieht aus wie eine in der Mitte halbierte Rechteckfunktion. Wenn man nun die Periodizität mit bedenkt, kann man die Funktion in der Mitte teilen und den rechten Hälfte in den negativen Frequenzbereich verschieben. Dies kann mit der Funktion [fftshift](https://numpy.org/doc/stable/reference/generated/numpy.fft.fftshift.html) aus der Bibliothek numpy.fft umgesetzt werden. Das Array für den Frequenzbereich muss dazu auch angepasst werden.<br>\n",
    "Zum Vergleich mit dem gewünschten Frequenzgang wird in den Plot noch ein ideales Rechteck eingefügt."
   ]
  },
  {
   "cell_type": "code",
   "execution_count": null,
   "metadata": {},
   "outputs": [],
   "source": [
    "# Lösung\n",
    "# Darstellung der Fouriertransformation unter Berücksichtigung der Periodizität\n",
    "# und Vergleich mit idealem Rechteck\n",
    "\n",
    "\n",
    "# Verschieben des Frequenzbereichs\n",
    "f_shift = np.linspace(-(N-1)/(2*t_total), (N-1)/(2*t_total), N)  \n",
    "\n",
    "# Verschieben der Fouriertransformierten\n",
    "H_shift = np.abs(np.fft.fftshift(H))\n",
    "\n",
    "# Berechnung der Variablen für das ideale Rechteck \n",
    "tau_rect = 1/T_sinc\n",
    "Amp_rect = A_sinc * T_sinc * (N-1) / t_total\n",
    "\n",
    "rect_ideal = np.where(abs(f_shift)<=tau_rect/2, Amp_rect, 0)\n",
    "\n",
    "#Graphische Darstellung\n",
    "plt.gcf().set_size_inches(15, 6)\n",
    "plt.title(u'verschobene Sinctransformierte im Frequenzbereich')\n",
    "plt.xlabel(u'n⋅Δf [Frequenz]')\n",
    "plt.ylabel(u'S [Amplitude]')\n",
    "plt.plot(f_shift, H_shift)\n",
    "plt.plot(f_shift, rect_ideal,ls=':', c='r')\n",
    "plt.show()"
   ]
  },
  {
   "cell_type": "markdown",
   "metadata": {
    "editable": false
   },
   "source": [
    "Rücktransformation und Vergleich mit Start-Sinc:"
   ]
  },
  {
   "cell_type": "code",
   "execution_count": null,
   "metadata": {},
   "outputs": [],
   "source": [
    "# inverse disktrete Fouriertransformation der Fouriertransformation\n",
    "h    = ifft(H)   \n",
    "\n",
    "h_real = np.real(h)\n",
    "# Wertevergleich\n",
    "dif = sinc - h_real\n",
    "\n",
    "# Graphische Darstellung\n",
    "plt.subplot(211)\n",
    "plt.title(u'Rücktransformierter Sinc')\n",
    "plt.xlabel(u'k [Zeit]')\n",
    "plt.ylabel(u'st [Amplitude]')\n",
    "plt.plot(t, h_real)\n",
    "plt.plot([-t_total/2,t_total/2],[0,0], 'k')    # Nulllinie\n",
    "             \n",
    "plt.subplot(212)\n",
    "plt.title(u'Differenz')\n",
    "plt.xlabel(u'k [Zeit]')\n",
    "plt.ylabel(u'dif [Amplitude]')\n",
    "plt.plot(t, dif)\n",
    "plt.gcf().set_size_inches(15, 10)\n",
    "plt.show()      "
   ]
  },
  {
   "cell_type": "markdown",
   "metadata": {
    "editable": false
   },
   "source": [
    "Der maximale Wertunterschied zwischen den dem Original-Sinc und der Rücktransformierten liegt unter dem Bereich von $10^{-15}$. Die Sinc-Funktion konnte dadurch nahezu perfekt wieder rekonstruiert werden.\n",
    "\n",
    "----"
   ]
  },
  {
   "cell_type": "markdown",
   "metadata": {
    "editable": false
   },
   "source": [
    "### References\n",
    "\n",
    "1. Bild (Type of transformation) von [Steven W. Smith](http://www.dspguide.com/ch8/1.htm), Bild (Fourier Series) von [Lucas V. Barbosa](https://en.wikipedia.org/wiki/File:Fourier_series_and_transform.gif)   \n",
    "2. [Offizielle Tutorials](https://docs.python.org/3.7/tutorial/) über Python\n",
    "3. [Einführung](https://jupyter-notebook.readthedocs.io/en/stable/examples/Notebook/What%20is%20the%20Jupyter%20Notebook.html#Introduction) von Jupyter Notebook\n",
    "4. Eine visuelle Einführung von Fourier-Transformation: [What is the Fourier Transform](https://www.youtube.com/watch?v=spUNpyF58BY)\n",
    "5. DSP Guide: [The Scientist and Engineer's Guide to\n",
    "Digital Signal Processing](http://www.dspguide.com/pdfbook.htm)\n",
    "---\n",
    "\n",
    "<div>Notebook erstellt von <a href=\"mailto:arne-lukas.fietkau@tu-dresden.de?Subject=Frage%20zu%20Jupyter%20Notebook%200.2%20Einführung\" target=\"_top\">Arne-Lukas Fietkau</a>, Yifei Li  und Christoph Wagner </div>"
   ]
  }
 ],
 "metadata": {
  "celltoolbar": "Edit Metadata",
  "kernelspec": {
   "display_name": "Python 3 (ipykernel)",
   "language": "python",
   "name": "python3"
  },
  "language_info": {
   "codemirror_mode": {
    "name": "ipython",
    "version": 3
   },
   "file_extension": ".py",
   "mimetype": "text/x-python",
   "name": "python",
   "nbconvert_exporter": "python",
   "pygments_lexer": "ipython3",
   "version": "3.10.7"
  }
 },
 "nbformat": 4,
 "nbformat_minor": 4
}
