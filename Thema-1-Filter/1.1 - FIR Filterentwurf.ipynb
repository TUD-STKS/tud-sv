{
 "cells": [
  {
   "cell_type": "markdown",
   "metadata": {
    "editable": false
   },
   "source": [
    "# 1.1 - FIR Filterentwurf"
   ]
  },
  {
   "cell_type": "markdown",
   "metadata": {
    "editable": false
   },
   "source": [
    "<img style=\"float: right; margin:5px 0px 0px 10px\" src=\"img/prism.gif\" width=\"400\">\n",
    "\n",
    "Ein FIR-Filter (Finite Impulse Response) ist ein Filter, dessen Impulsantwort (oder Antwort auf eine Eingabe mit endlicher Länge) von endlicher Dauer ist, da sie sich in endlicher Zeit auf Null einstellt. Dies steht im Gegensatz zu IIR-Filtern (Infinite Impulse Response), die interne Rückkopplungen aufweisen und möglicherweise unbegrenzt weiter reagieren (normalerweise abklingend). Die Entwurfsmethoden umfassen Least MSE, Minimax, Frequenzabtastung usw. (siehe die Vorlesung: Thema1-Filter). Hier diskutieren wir die Frequenzabtastung - und damit den Filterentwurf - mittels inverser Fourier-Transformation, da er gleichzeitig einen grundlegenderen Einblick in die Signaltheorie bietet. \n",
    "\n",
    "## Inhalt  \n",
    "\n",
    "<table style=\"width:256px; border: 1px solid black; display: inline-block\">\n",
    "    <tr>\n",
    "    <td  style=\"text-align:right\" width=64px><img src=\"img/IMG-intro.png\" style=\"float:left\"></td>\n",
    "      <td style=\"text-align:left\" width=256px>\n",
    "          <a style=\"color:black; font-size:14px; font-weight:bold; text-decoration:none\" href='#intro'>1. Wiederholung</a>\n",
    "      </td>\n",
    "  </tr>  \n",
    "    <tr>\n",
    "    <td  style=\"text-align:right\" width=64px><img src=\"img/IMG-idtft.png\" style=\"float:left\"></td>\n",
    "      <td style=\"text-align:left\" width=256px>\n",
    "          <a style=\"color:black; font-size:14px; font-weight:bold; text-decoration:none\" href='#idtft'>2. Inverse DTFT</a>\n",
    "      </td>\n",
    "  </tr>  \n",
    "    <tr>\n",
    "    <td  style=\"text-align:right\" width=64px><img src=\"img/IMG-idft.png\" style=\"float:left\"></td>\n",
    "      <td style=\"text-align:left\" width=256px>\n",
    "          <a style=\"color:black; font-size:14px; font-weight:bold; text-decoration:none\" href='#idft'>2. Inverse DFT</a>\n",
    "      </td>\n",
    "  </tr>  \n",
    "</table>\n",
    "\n",
    "\n",
    "---"
   ]
  },
  {
   "cell_type": "markdown",
   "metadata": {
    "editable": false
   },
   "source": [
    "<a id='intro'></a><div><img src=\"img/IMG-intro.png\" style=\"float:left\"><h2 style=\"position: relative; top: 6px; left: 6px\">1. Wiederholung </h2></div>\n",
    "\n",
    "Die Zusammenhänge zwischen Fourier-Transformation, Fourier-Reihe, DTFT und DFT, wie sie in der Vorlesung Thema1-Filter zusammgenfasst wurden, sind in der nachfolgenden Grafik noch einmal dargestellt:"
   ]
  },
  {
   "cell_type": "markdown",
   "metadata": {
    "editable": false
   },
   "source": [
    "![transformation](img/transformation.jpg)"
   ]
  },
  {
   "cell_type": "markdown",
   "metadata": {
    "editable": false
   },
   "source": [
    "- __Fourier-Reihe:__   \n",
    "Die Fourier-Reihe beschreibt, dass jede periodische Funktion $x(t)$ durch eine unendliche Reihe dargestellt werden kann, die aus Sinusfunktion und Cosinusfunktion besteht (die Sinusfunktion und die Cosinusfunktion werden als Basisfunktionen gewählt, weil sie orthogonal zuneinander sind). Nach der Euler-Formel können diese Funktionen wie nachfolgend auch als Exponentialform geschrieben werden\n",
    "\\begin{equation}\n",
    "x_T(t) = \\sum_{n = -\\infty}^{\\infty}X_ne^{j\\omega_0 n t},\n",
    "\\end{equation}\n",
    "weswegen die Fourier-Reihe auch als Exponentialreihe bezeichnet wird. Index $T$ verdeutlicht die Periodizität in $T$, wobei $T$ die zeitliche Periode des Signals $x(t)$ ist, über welche die Fourier-Koeffizienten $X_n$ bestimmt werden. $\\omega_0 = \\frac{2\\pi}{T}$ ist die Grundfrequenz (in [rad/s]). \n",
    "- __Fourier-Transformation:__   \n",
    "Die Fourier-Transformation ist eigentlich eine Verallgemeinerung der Fourier-Reihe, da das Integral die Grenzform der Summe ist, wenn $T\\rightarrow \\infty \\Rightarrow \\omega_0 \\rightarrow 0$ ist [3]. Die Fourier-Transformation wird hauptsächlich zur Analyse kontinuierlicher nichtperiodischer Signale verwendet. Für ein kontinuerliches (= analoges), nichtperiodisches Signal kann das Spektrum durch Fourier-Transformation berechnet werden. Da das Signal kontinuierlich und  nicht-periodisch ist, kann es Anteile aller möglichen Frequenzen von $\\omega = 0$ bis $\\omega \\rightarrow \\infty$ enthalten, wodurch das Spektrum ebenfalls nicht-periodisch und kontinuierlich (in $\\omega$) ist.\n",
    "- __DTFT:__   \n",
    "Da ein digitaler Computer nur digitale Signale verarbeiten kann, ist es zunächst erforderlich, das ursprüngliche analoge Signal im Zeitbereich zu diskretisieren, d.h., im Zeitbereich abzutasten (z.B. über einen Dirac-Impuls an den Zeitpunkten $k\\Delta t$) und eine Fourier-Transformation für das abgetastete zeitdiskrete Signal, die sogenannte _zeitdiskrete Fourier-Transformation_, durchzuführen. Das Zeitsignal ist damit nicht-periodisch und diskret, wogegen das Spektrum periodisch und kontinuierlich ist. Dies ist der symmetrische Gegenfall zu der Fourier-Reihe, wo das analysierte Zeitsignal periodisch und kontinuierlich ist, das Spektrum dagegen diskret und nicht-periodisch ist (= Linienspektrum). Für Theorie-Enthusiasten ist eine umfangreichere Ausführung zu dieses Zusammenhanges in Dokument __impulseSamplingAndDTFT.pdf__ in OPAL zu finden.\n",
    "- __DFT:__   \n",
    "Die _diskrete Fourier-Transformation_ erhält man, indem die DTFT bzw. das daraus resultierende, kontinuierliche Spektrum, an  $N$ festen Frequenzpunkten $f = \\frac{n}{N}\\cdot f_s$ im Intervall $[0, f_s]$ abgetastet wird. $\\Omega = \\frac{2\\pi f}{f_s}$ wird dadurch zu $\\Omega = \\frac{2\\pi n}{N}$, da sich $f_s$ herauskürzt. \n",
    "\n",
    "----"
   ]
  },
  {
   "cell_type": "markdown",
   "metadata": {
    "editable": false
   },
   "source": [
    "<a id='idtft'></a><div><img src=\"img/IMG-idtft.png\" style=\"float:left\"><h2 style=\"position: relative; top: 6px; left: 6px\">2. Inverse DTFT </h2></div>\n",
    "\n",
    "Die inverse DTFT ist eine Möglichkeit, um die Impulsantwort im Zeitbereich aus einem vorgegebenen Frequenzgang $H(\\omega)$ im Bild-/Spektralbereich zu berechnen. Der gegebene Amplitudenfrequenzgang ist kontinuierlich, aperiodisch und reell (siehe Übung 2, Aufgabe 1). Unter der Verwendung der inversen DTFT,  \n",
    "\\begin{equation}\n",
    "x(k)=\\frac{1}{2\\pi}\\int_{-\\pi}^{\\pi}H(e^{j\\Omega})e^{jk\\Omega}d\\Omega \n",
    "\\end{equation}  \n",
    "wird implizit die Annahme getroffen, dass das ursprünglich nicht-periodische Spektrum $H(\\omega)$ nun periodisch ist (mit einer spektralen Grundperiode, und weiterhin kontinuierlich + reell), über $H(e^{j\\Omega})$ ausgedrückt und in eine nicht-periodische, diskrete Impulsantwort $x(k)$ transformiert wird.\n",
    "Wie in der Übung soll nachfolgend ein Hochpassfilter über die Methode der inversen DTFT entworfen.\n",
    "\n",
    "***\n",
    "\n",
    "Importieren Sie nun alle dafür benötigten externen Module:"
   ]
  },
  {
   "cell_type": "code",
   "execution_count": null,
   "metadata": {},
   "outputs": [],
   "source": [
    "# Importieren Sie:\n",
    "#    - numpy mit dem Alias np\n",
    "#    - Das Modul pyplot aus der Bibliothek matplotlib mit dem Alias plt\n",
    "#    - Die Module integrate, fft und signal aus der Bibliothek scipy in den globalen Namensraum.\n",
    "\n",
    "[..]\n",
    "[..]\n",
    "[..]"
   ]
  },
  {
   "cell_type": "markdown",
   "metadata": {
    "editable": false
   },
   "source": [
    "Zuerst werden die Variablen für den gewünschten Hochpass definiert und ein Array mit dem idealen Frequenzgang $H_{soll}$ erzeugt und geplottet. Dafür eignet sich die Numpy-Funktion [numpy.where()](https://numpy.org/doc/stable/reference/generated/numpy.where.html). Das erste Argument ist eine Bedingung, gefolgt von zwei Skalaren oder Arrays als Argument zwei und drei. Abhängig von der Bedingung im ersten Argument wird entweder der erste oder zweite Wert bzw. aus dem ersten oder zweiten Array ausgewählt."
   ]
  },
  {
   "cell_type": "code",
   "execution_count": null,
   "metadata": {},
   "outputs": [],
   "source": [
    "'''\n",
    "Beispiel: Endliche Impulsantwort eines Hochpassfilters mittels inverser DTFT\n",
    "'''\n",
    "# Initialisierung aller wichtigen Variablen:\n",
    "fs_Hz = 800              # Abtastfrequenz in [Hz]\n",
    "ws_rad_s = 2*np.pi*fs_Hz # Abtastfrequenz in [rad]\n",
    "\n",
    "fc_Hz = 200              # Grenzfrequenz (= corner frequency) des Filters in [Hz]\n",
    "wc_rad_s = 2*np.pi*fc_Hz # Grenzfrequenz des Filters in [rad]\n",
    "\n",
    "A = 1                    # Amplitude im Passband\n",
    "\n",
    "\n",
    "# idealer Frequenzgang:\n",
    "H_soll = 0\n",
    "w_rad_s = np.linspace(-ws_rad_s/2, ws_rad_s/2, fs_Hz) # Omega [-π, π]: linear und äquidistant aus [-ws_rad_s/2, ws_rad_s/2]\n",
    "H_soll = np.where((w_rad_s >= -wc_rad_s) & (w_rad_s <= wc_rad_s), 0, A)\n",
    "    \n",
    "# Graphische Darstellung\n",
    "plt.title('Idealer Frequenzgang über die spektralen Grundperiode [-$\\omega_s$, $\\omega_s$]')\n",
    "plt.xlabel('Frequenz $\\omega$ [rad/s]') \n",
    "plt.ylabel('Amplitude $|H(e^j\\Omega)|$') \n",
    "plt.plot(w_rad_s, H_soll)\n",
    "\n",
    "plt.gcf().set_size_inches(15, 6)\n",
    "plt.show()"
   ]
  },
  {
   "cell_type": "markdown",
   "metadata": {
    "editable": false
   },
   "source": [
    "Die Impulsantwort $h(k)$ wird über die IDTFT aus dem Frequenzverhalten des idealen Hochpass berechnet und geplottet. Dabei wird die Integration in der IDTFT mit dem Objekt [integrate.quad](https://docs.scipy.org/doc/scipy/reference/tutorial/integrate.html) über numerische Integration angenähert.\n",
    "\n",
    "Hinweis: Der `//`-Operator führt eine Divison durch und gibt eine ganzzahliges Ergebnis aus, indem der Rest hinter dem Komma abgeschnitten wird."
   ]
  },
  {
   "cell_type": "code",
   "execution_count": null,
   "metadata": {},
   "outputs": [],
   "source": [
    "# Endliche Impulsantwort (reell) mit der IDTFT berechnen:\n",
    "k = np.arange(-fs_Hz//2, fs_Hz//2)\n",
    "\n",
    "# Über alle Sample-Zeitpunkte in k iterieren und numerisch integrieren (Annäherung an das Integral der IDTFT):\n",
    "h = []                 # Impulsantwort (Allokation des Arrays unbestimmter Länge)\n",
    "for i in k:\n",
    "    an, err = integrate.quad(lambda w_rad_s:A*np.cos(i*w_rad_s/fs_Hz), wc_rad_s, 3*wc_rad_s, limit=fs_Hz)\n",
    "    h.append(an / ws_rad_s)\n",
    "\n",
    "# Graphische Darstellung:\n",
    "kLimMin = -200\n",
    "kLimMax = 200\n",
    "plt.title('Impulsantwort h(k) (Sichtbar für k=[%d,' %kLimMin + ' %d])'  %kLimMax) \n",
    "plt.xlabel('Abtastwertindex k') \n",
    "plt.ylabel('Amplitude h(k)') \n",
    "plt.xlim(-kLimMin, kLimMax)  \n",
    "plt.stem(k, h)\n",
    "\n",
    "plt.gcf().set_size_inches(15, 6)\n",
    "plt.show()"
   ]
  },
  {
   "cell_type": "markdown",
   "metadata": {
    "editable": false
   },
   "source": [
    "Anschließend wird die Impulsantwort h(k) mittels der DTFT zurück in den Frequenzbereich transformiert, geplottet und mit dem vorgegebenen, idealen Frequenzgang verglichen. Dabei erkennt man sehr gut ein Überschwingen bei den Sprüngen im idealen Hochpass durch die Rücktransformation mit einer _endlichen_ Anzahl an Frequenzen/Abtastwerten."
   ]
  },
  {
   "cell_type": "code",
   "execution_count": null,
   "metadata": {},
   "outputs": [],
   "source": [
    "# Realer Frequenzgang der berechneten, abgeschnittenen Impulsantwort h(k) mittels der DTFT:\n",
    "W_rad = np.linspace(-np.pi, np.pi, 10000) # Laufvariable Omega definieren\n",
    "H_ist = np.zeros(W_rad.size, dtype='complex128') # H_ist für das Ergebnis der DTFT allokieren als 2x64bit float\n",
    "\n",
    "# Über alle h(k) iterieren und jeweils X(k) berechnen:\n",
    "for i in k:\n",
    "    H_ist += h[i]*np.exp(-1j*W_rad*k[i])\n",
    "    \n",
    "# Graphische Darstellung:\n",
    "plt.subplot(211)\n",
    "plt.title('Realer Frequenzgang der Impulsantwort h(k) für den Bereich k=[%d' %np.min(k) + ', %d]' %np.max(k))\n",
    "plt.xlabel('Frequenz $\\omega$ [rad/s]') \n",
    "plt.ylabel('$|H(e^{j\\Omega})|$') \n",
    "plt.plot(W_rad*fs_Hz, np.abs(H_ist))\n",
    "\n",
    "plt.subplot(212)\n",
    "plt.title('Idealer Frequenzgang über die spektrale Grundperiode [-$\\omega_s$, $\\omega_s$]')\n",
    "plt.xlabel('Frequenz $\\omega$ [rad/s]') \n",
    "plt.ylabel('$|H(e^{j\\Omega})|$') \n",
    "plt.plot(w_rad_s, H_soll)\n",
    "\n",
    "plt.gcf().set_size_inches(15, 10)\n",
    "plt.show()"
   ]
  },
  {
   "cell_type": "markdown",
   "metadata": {
    "editable": false
   },
   "source": [
    "Um den Einfluss der Anzahl an Abtastwerten $L$ der Impulsantwort auf den Frequenzgang zu veranschaulichen, wird nun über eine for-Schleife die soeben berechnete Impulsantwort $h(k)$ mittels `np.where`-Operator beschnitten ($h_w(k)$). Das hat zur Folge, dass die Impulsantwort mit einem Rechteckfenster gefenstert wird. Die Auswirkung dessen kann über Fouriertransformation im Frequenzbereich $H_w(e^{j\\Omega}$) betrachtet werden."
   ]
  },
  {
   "cell_type": "code",
   "execution_count": null,
   "metadata": {},
   "outputs": [],
   "source": [
    "'''\n",
    "Aufgabe: Beschränkte Impulsantwort mit verschiedenen Fensterlängen L = 10, 20, 50, 200 berechnen\n",
    "(Hinweis: Sie können die berechnete Impulsantwort aus dem vorherigen Beispiel direkt nutzen.\n",
    " Probieren Sie auch aus, was passiert, wenn die Impulsantwort nicht symmetrisch um k = 0 gefenstert wird.)\n",
    "'''\n",
    "\n",
    "for L in (10, 20, 50, 100):\n",
    "    # Fensterung mit einem Rechteckfenster (auf Wertebereich der Länge +-L/2 beschränken):\n",
    "    hw = [..] # ToDo: Erzeugen der gekürzten Impulsantwort h mit dem where-Operation \n",
    "\n",
    "# Realer Frequenzgang der berechneten, abgeschnittenen Impulsantwort h(k) mittels der DTFT für k = [-L/2,L/2]:\n",
    "    W_rad = np.linspace(-np.pi, np.pi, 1000)\n",
    "    H_ist = [..] # ToDo: H_ist für das Ergebnis der DTFT allokieren \n",
    "\n",
    "    # Über alle h(k) iterieren und jeweils X(k) berechnen und aufsummieren:\n",
    "    for i in k:\n",
    "        [H_ist ..] # ToDo: Das gefensterte Signal mittels DTFT in den Frequenzbereich transformieren\n",
    "    \n",
    "    # Graphische Darstellung\n",
    "    plt.subplot(121)\n",
    "    plt.title('Impulsantwort mit Fensterlänge L=%d' %L)\n",
    "    plt.xlabel('Abtastwertindex k') \n",
    "    plt.ylabel('Amplitude h(k)') \n",
    "    plt.xlim(fs_Hz//2-L, fs_Hz//2+L)\n",
    "    plt.xticks(np.arange(fs_Hz//2-L, fs_Hz//2+L+1, L/5), range(-L, L+1, L//5))\n",
    "    plt.stem(hw) \n",
    "\n",
    "    plt.subplot(122)\n",
    "    plt.title('Resultierender Frequenzgang für L=%d' %L)\n",
    "    plt.xlabel('Frequenz $\\omega [rad/s]$') \n",
    "    plt.ylabel('Amplitude $|H(e^j\\Omega)|$') \n",
    "    plt.plot(W_rad*fs_Hz, np.abs(H_ist))\n",
    "\n",
    "    plt.gcf().set_size_inches(16, 4)\n",
    "    plt.show()"
   ]
  },
  {
   "cell_type": "markdown",
   "metadata": {
    "editable": false
   },
   "source": [
    "---\n",
    "\n",
    "<a id='idft'></a><div><img src=\"img/IMG-idft.png\" style=\"float:left\"><h2 style=\"position: relative; top: 6px; left: 6px\">3. Inverse DFT </h2></div>\n",
    "\n",
    "Für die IDTFT in Abschnitt 2 musste ein Integral über die (logischerweise kontinuierliche) Variable $\\Omega$ ausgewertet werden, was über eine numerische Integration gelöst wurde, aber für Rechner nicht besonders elegant ist. Die IDFT eignet sich für digitale Computer deutlich besser, da sie mit diskreten Abtastwerten arbeitet.\n",
    "\n",
    "Im Folgenden soll daher dasselbe Vorgehen mit der IDFT anstatt der IDTFT durchgeführt werden. Die IDFT ist definiert durch\n",
    "\\begin{equation*}\n",
    "h(k)=\\sum_{n=0}^{N-1}H(n)e^{j2\\pi kn/N},\n",
    "\\end{equation*}  \n",
    "und ergibt sich direkt aus der IDTFT, wenn $\\omega$ bzw. $f$ mit $N$ Punkten abgetastet wird (siehe Abschnitt 1, Wiederholung).\n",
    "\n",
    "Um die Gleichung der IDFT zunächst besser zu veranschaulichen, wird nachfolgend einmal ein Tiefpassfilter mit einer selbst definierten IDFT nach der obigen Gleichung entworfen. \n",
    "\n",
    "Funktionen in Python starten mit dem Präfix __def__, gefolgt vom Funktionsnamen (idft z.B.) und den Argumenten in Klammern (arg1, arg2, ...), getrennt durch Kommata.\n",
    "Der Ausgabewert (in diesem Falle die Impulsantwort h(k)) folgt nach einem `return` Statement."
   ]
  },
  {
   "cell_type": "code",
   "execution_count": null,
   "metadata": {},
   "outputs": [],
   "source": [
    "'''\n",
    "Funktion definieren: idft(func, N)\n",
    "Impulsantwort mit IDFT, Verschiebung und Fensterung\n",
    "    \n",
    "    param func: Funktion für Impulsantwort\n",
    "    param N: Sample Zahl\n",
    "''' \n",
    "\n",
    "# IDFT\n",
    "def idft(func, N):   \n",
    "    h = [] \n",
    "    k = np.arange(N)\n",
    "    for i in range(N): \n",
    "        an = np.sum(func * np.exp(1j*2*np.pi*k*i/N))\n",
    "        h.append(an)     \n",
    "    # Verschiebung\n",
    "    h = h[N//2:] + h[:N//2]\n",
    "    # Normalisierung\n",
    "    h = h / (2*np.max(h))\n",
    "    return h"
   ]
  },
  {
   "cell_type": "markdown",
   "metadata": {
    "editable": false
   },
   "source": [
    "Wenden Sie nun die neu definierte Funktion zur Berechnung der Impulsantwort $h$ aus dem Frequenzgang des Tiefpassfilters $H_{soll}$ an, der eine Grenzfrequenz bei $f_s/4$ haben soll. Für den idealen Frequenzgang $H_{soll}$ wird die erste Hälfte des Spektrums (= bis zur Nyquistfrequenz $f_s/2$) vorgegeben und der (um die y-Achse gespiegelte) Abschnitt für die negativen Frequenzen (entspricht [$f=0$ bis $f=-f_s/2$] bzw. [$f=f_s/2$ bis $f_s$], für reelle Signale) daran angehängt, d.h. er wird über den Bereich $\\Omega = [0, 2\\pi]$ festgelegt. "
   ]
  },
  {
   "cell_type": "code",
   "execution_count": null,
   "metadata": {},
   "outputs": [],
   "source": [
    "'''\n",
    "Beispiel: Endliche Impulsantwort eines Tiefpassfilters mittels inverser DFT\n",
    "'''\n",
    "\n",
    "# Initialisierung\n",
    "N = 512  # Sample Zahl\n",
    "A = 1  # Amplitude \n",
    "fs_Hz = 800\n",
    "fc_Hz = [..]        # ToDo: Legen Sie die Grenzfrequenz fest\n",
    "Wc_rad = 2*np.pi*fc_Hz/fs_Hz\n",
    "\n",
    "# Erzeugung des idealen Frequenzgangs\n",
    "W_rad = np.linspace(0, 2*np.pi, N)\n",
    "H_soll = [..]      # ToDo: Erstellen Sie den idealen Frequenzgang mit np.where des TP-Filters mit \"np.where()\"\n",
    "\n",
    "\n",
    "# Impulsantwort\n",
    "h = [..]            # ToDo: Berechnung der Impulsantwort mit der selbst definierten Funktion \"idft\".\n",
    "\n",
    "\n",
    "# Graphische Darstellung  \n",
    "plt.subplot(121)\n",
    "plt.title('Idealer Amplitudenfrequenzgang in der Grundperiode')\n",
    "plt.xlabel('Frequenz [Hz]')  \n",
    "plt.ylabel('|H(n)|') \n",
    "plt.plot(W_rad*fs_Hz/(2*np.pi), H_soll)\n",
    "plt.plot([fs_Hz/2, fs_Hz/2],[0, 1],'--k')\n",
    "\n",
    "plt.subplot(122)\n",
    "plt.title('Impulsantwort') \n",
    "plt.xlabel('Sample Nummer k') \n",
    "plt.ylabel('Amplitude h(k)') \n",
    "plt.xlim(150, 360)\n",
    "plt.stem(h)\n",
    "plt.gcf().set_size_inches(15, 5)\n",
    "plt.show()"
   ]
  },
  {
   "cell_type": "markdown",
   "metadata": {
    "editable": false
   },
   "source": [
    "Für die DFT und ihre inverse IDFT gibt es im SciPy-Paket die fertigen Objekte [fft.fft](https://docs.scipy.org/doc/scipy/reference/generated/scipy.fft.fft.html) und [fft.ifft](https://docs.scipy.org/doc/scipy/reference/generated/scipy.fft.ifft.html), wobei immer die FFT verwendet wird (generell wird in der Praxis für die Berechnung der DTF ausschließlich die FFT verwendet. Falls die Anzahl an Abtastwerten keine Zweierpotenz ist, wird das Signal bis zur nächsthöheren Zweierpotenz mit Nullen aufgefüllt). Die selbst definierte IDFT soll nun mit der ifft-Funktion des SciPy-Paketes verglichen werden. Ebenfalls sehr nützlich ist die [ifftshift()](https://docs.scipy.org/doc/scipy/reference/generated/scipy.fftpack.fftshift.html), welche das DFT/FFT Spektrum in der Mitte um $\\Omega = 0$ zentriert, indem die beiden Hälften der Impulsantwort $h(0:N/2-1)$ und $h(N/2:N-1)$ vertauscht werden."
   ]
  },
  {
   "cell_type": "code",
   "execution_count": null,
   "metadata": {},
   "outputs": [],
   "source": [
    "# Inpulsantwort mittels ifft, ifftshift \n",
    "\n",
    "# Initialisierung\n",
    "N = 512 # Länge der IFFT\n",
    "A = 1   # Amplitude \n",
    "fs_Hz = 800\n",
    "fc_Hz = [..]        # ToDo: Legen Sie die Grenzfrequenz fest\n",
    "Wc_rad = [..]       # ToDo: Bestimmen Sie die Grenzzfrequenz in [rad]\n",
    "\n",
    "\n",
    "\n",
    "\n",
    "# Berechnung des idealen Frequenzganges:\n",
    "W_rad = [..]       # ToDo: Erzeugen Sie Omega als ein Array von [0, 2π] mit 512 Punkten\n",
    "H_soll = [..]      # ToDo: Erstellen Sie den idealen Frequenzgang mit np.where des TP-Filters mit \"np.where()\"\n",
    "\n",
    "h = [..]        # ToDo: Implementierung der inversen fft von H_soll mittels externem Modul \"fft.ifft()\". (Frequenzverschiebung nicht vergessen!)\n",
    "k = np.arange(0, N)\n",
    "\n",
    "# Graphische Darstellung \n",
    "plt.subplot(121)\n",
    "plt.title('Grundperiode des idealen Frequenzganges')\n",
    "plt.xlabel('Frequenz [Hz]]') \n",
    "plt.ylabel('|H(n)|') \n",
    "plt.plot(W_rad*fs_Hz/(2*np.pi), H_soll)\n",
    "plt.plot([fs_Hz/2, fs_Hz/2],[0, 1],'--k')\n",
    "\n",
    "plt.subplot(122)\n",
    "plt.title('Impulsantwort') \n",
    "plt.xlabel('Sample Nummer k') \n",
    "plt.ylabel('h(k)') \n",
    "plt.xlim(150, 350)\n",
    "plt.stem(k, np.real(h), '-b')\n",
    "plt.stem(k, np.imag(h), '-r')\n",
    "plt.gcf().set_size_inches(15, 5)\n",
    "plt.show()"
   ]
  },
  {
   "cell_type": "markdown",
   "metadata": {
    "editable": false
   },
   "source": [
    " Wenn alles richtig gemacht wurde, sind beide Ergebnisse identisch.\n",
    "\n",
    "Nun soll (wie in Kapitel 2) die Auswirkung der Länge $L$ der berechneten Impulsantwort $h(k)$ auf den Frequenzgang des Tiefpasses und der Einfluss von verschiedenen Fensterfunktionen betrachtet werden. Zur Erzeugung des Fensters wird nun das Objekt [signal.get_window()](https://docs.scipy.org/doc/scipy/reference/generated/scipy.signal.get_window.html) genutzt, welches Funktionen für die wichtigsten Fenster zur Verfügung stellt. Die berechneten Abtastwerte der Fensterfunktion werden mit der Impulsantwort punktweise multipliziert. "
   ]
  },
  {
   "cell_type": "code",
   "execution_count": null,
   "metadata": {},
   "outputs": [],
   "source": [
    "# Fensterung mit verschiedene Länge\n",
    "\n",
    "for L in (10, 20, 50, 100):\n",
    "    \n",
    "    # Erzeugung des Fensters (Rechteckfenster = boxcar)\n",
    "    window = signal.get_window('boxcar', L+1)\n",
    "\n",
    "    # Erzeugung einer Maske, mit der nur der Bereich [-L/2, L/2] des Signals ungleich Null ist:\n",
    "    mask = np.zeros(N)\n",
    "    mask[(N-L)//2:(N+L)//2+1] = window\n",
    "    \n",
    "    # Fensterung von Impulsantwort h\n",
    "    h_ist = h * mask\n",
    "    \n",
    "    # Frequenzgang bereichnen mit der FFT:\n",
    "    H_ist = [..] # ToDo: führen Sie eine fft über die gefensterte Impulsantwort h_ist durch.\n",
    "    \n",
    "    # Graphische Darstellung\n",
    "    plt.subplot(121)\n",
    "    plt.title('Impulsantwort mit Fensterlänge L=%d' %L)\n",
    "    plt.xlabel('Sample Nummer k') \n",
    "    plt.ylabel('h(k)') \n",
    "    plt.xlim(N//2-L, N//2+L)\n",
    "    plt.xticks(np.arange(N//2-L, N//2+L+1, L//5), range(-L, L+1, L//5))\n",
    "    plt.stem(np.real(h_ist))\n",
    "    plt.plot(mask, ls=':', c='r')\n",
    "    \n",
    "    plt.subplot(122)\n",
    "    plt.title('Realer Amplitudenfrequenzgang in der Grundperiode')\n",
    "    plt.xlabel('Frequenz [Hz]') \n",
    "    plt.ylabel('|H(n)|') \n",
    "    plt.plot(W_rad*fs_Hz/(2*np.pi), H_ist)\n",
    "    \n",
    "    plt.gcf().set_size_inches(15, 5)\n",
    "    plt.show()"
   ]
  },
  {
   "cell_type": "markdown",
   "metadata": {
    "editable": false
   },
   "source": [
    "Zum Schluss sollen unterschiedliche Fenstertypen auf die Impulsantwort $h$ angewendet und die Veränderung auf den Frequenzgang gegenübergestellt werden."
   ]
  },
  {
   "cell_type": "code",
   "execution_count": null,
   "metadata": {},
   "outputs": [],
   "source": [
    "# mit verschiedenen Fenstern\n",
    "L = 50  # Hälfte der Fensterlänge um h(0) herum\n",
    "N = 512 # Länge der FFT\n",
    "for windowType in ('boxcar', 'triangle', 'blackman', 'hamming'):\n",
    "    mask = np.zeros(N)\n",
    "    mask[(N-L)//2:(N+L)//2+1] = signal.get_window(windowType, L+1)  \n",
    "    \n",
    "    # Fensterung von Impulsantwort h:\n",
    "    h_ist = [..]  # ToDo: Anwenden der Fensters \"mask\" auf Impulsantwort \"h\"\n",
    "    \n",
    "    # Frequenzgang berechnen mit der FFT:\n",
    "    H_ist = [..]  # ToDo: führen Sie eine fft über die gefensterte Impulsantwort h_ist durch.\n",
    "    \n",
    "    # Plot\n",
    "    plt.subplot(121)\n",
    "    plt.title('Impulsantwort durch %s-Fenster' %windowType) \n",
    "    plt.xlabel('Sample Nummer k') \n",
    "    plt.ylabel('Amplitude h(k)') \n",
    "    plt.xlim(150, 350)\n",
    "    plt.stem(np.real(h_ist))\n",
    "    plt.plot(mask, ls='--', c='r')\n",
    "    \n",
    "    plt.subplot(122)\n",
    "    plt.title('Frequenzgang nach Fensterung')\n",
    "    plt.xlabel('Frequenz [Hz]') \n",
    "    plt.ylabel('|H(n)|') \n",
    "    plt.plot(W_rad*fs_Hz/(2*np.pi), H_ist)\n",
    "    \n",
    "    plt.gcf().set_size_inches(15, 5)\n",
    "    plt.show()"
   ]
  },
  {
   "cell_type": "markdown",
   "metadata": {
    "editable": false
   },
   "source": [
    "---\n",
    "\n",
    "### References\n",
    "\n",
    "1. Titelbild von [Lucas Vieira](https://en.wikipedia.org/wiki/Prism#/media/File:Light_dispersion_conceptual_waves.gif)  \n",
    "2. DSP Guide: [The Scientist and Engineer's Guide to\n",
    "Digital Signal Processing](http://www.dspguide.com/pdfbook.htm)\n",
    "3. http://fourier.eng.hmc.edu/e101/lectures/Fourier_Transform_C/node1.html\n",
    "---\n",
    "<div>Notebook erstellt von <a href=\"mailto:arne-lukas.fietkau@tu-dresden.de?Subject=Frage%20zu%20Jupyter%20Notebook%201.1%20FIR%20Filterentwurf\" target=\"_top\">Arne-Lukas Fietkau</a>, Yifei Li  und Christoph Wagner </div>"
   ]
  }
 ],
 "metadata": {
  "celltoolbar": "Edit Metadata",
  "kernelspec": {
   "display_name": "Python 3 (ipykernel)",
   "language": "python",
   "name": "python3"
  },
  "language_info": {
   "codemirror_mode": {
    "name": "ipython",
    "version": 3
   },
   "file_extension": ".py",
   "mimetype": "text/x-python",
   "name": "python",
   "nbconvert_exporter": "python",
   "pygments_lexer": "ipython3",
   "version": "3.10.7"
  }
 },
 "nbformat": 4,
 "nbformat_minor": 4
}
