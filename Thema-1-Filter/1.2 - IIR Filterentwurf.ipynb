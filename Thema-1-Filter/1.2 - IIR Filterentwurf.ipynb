{
 "cells": [
  {
   "cell_type": "markdown",
   "metadata": {
    "editable": false
   },
   "source": [
    "# 1.2 - IIR-Filterentwurf"
   ]
  },
  {
   "cell_type": "markdown",
   "metadata": {
    "editable": false
   },
   "source": [
    "<img style=\"float: right; margin:5px 0px 0px 10px\" src=\"img/dsp.jpg\" width=\"400\">\n",
    "\n",
    "\n",
    "## Inhalt  \n",
    "\n",
    "<table style=\"width:256px; border: 1px solid black; display: inline-block\">\n",
    "  <tr>\n",
    "    <td  style=\"text-align:right\" width=64px><img src=\"img/IMG-intro.png\" style=\"float:left\"></td>\n",
    "      <td style=\"text-align:left\" width=256px>\n",
    "          <a style=\"color:black; font-size:14px; font-weight:bold; text-decoration:none\" href='#intro'>1. Wiederholung</a>\n",
    "    </td>\n",
    "  </tr>  \n",
    "    <tr>\n",
    "    <td  style=\"text-align:right\" width=64px><img src=\"img/IMG-butterworth.png\" style=\"float:left\"></td>\n",
    "      <td style=\"text-align:left\" width=256px>\n",
    "          <a style=\"color:black; font-size:14px; font-weight:bold; text-decoration:none\" href='#idtft'>2. Butterworh-Filter</a>\n",
    "    </td>\n",
    "  </tr>  \n",
    "    <tr>\n",
    "    <td  style=\"text-align:right\" width=64px><img src=\"img/IMG-chebyshev.png\" style=\"float:left\"></td>\n",
    "      <td style=\"text-align:left\" width=256px>\n",
    "          <a style=\"color:black; font-size:14px; font-weight:bold; text-decoration:none\" href='#idft'>3. Chebyshev-Filter</a>\n",
    "    </td>\n",
    "  </tr>\n",
    "    <tr>\n",
    "    <td  style=\"text-align:right\" width=64px><img src=\"img/IMG-emphasis.jpg\" style=\"float:left\"></td>\n",
    "      <td style=\"text-align:left\" width=256px>\n",
    "          <a style=\"color:black; font-size:14px; font-weight:bold; text-decoration:none\" href='#verz'>4. ToDo: Vorverzerrung</a>\n",
    "    </td>\n",
    "  </tr>  \n",
    "</table>\n",
    "\n",
    "---"
   ]
  },
  {
   "cell_type": "markdown",
   "metadata": {
    "editable": false
   },
   "source": [
    "<a id='intro'></a><div><img src=\"img/IMG-intro.png\" style=\"float:left\"><h2 style=\"position: relative; top: 6px; left: 6px\">1. Wiederholung </h2></div>\n",
    "\n",
    "Im Notebook 1.1 haben wir die Implementierung von FIR-Filtern diskutiert. FIR-Filter bieten viele Vorteile wie einen linearen Phasengang, außerdem sind sie immer stabil. Zur Erinnerung: eine typische FIR hat die Differenzengleichung\n",
    "\\begin{equation*}\n",
    "y_{\\text{FIR}}(k) = \\sum_{i=0}^{M}a_{i} x(k-i).\n",
    "\\end{equation*}  \n",
    "Je länger der Filter/je höher die Filterordnung ($ M\\rightarrow \\infty $), desto besser kann der ideale Amplitudenfrequenzgang angenähert werden. Die z.T. hohe Anzahl an Koeffzienten kann ein Problem werden, wenn dadurch die Einschwingzeit des Filters zu lang ist. Eine Alternative bieten die IIR-Filter (Infinite Impulse Response Filter). Der größte Unterschied zwischen IIR- und FIR-Filtern besteht darin, dass die Ausgabe $y(k)$ zum aktuellen Abtastwertindex $k$ nicht nur von der Eingabe $x(k)$, sondern auch von vorherigen Abtastwerten der Ausgabe $y(k-1), y(k-2),\\dots$ selbst abhängt. Die Standardform eines IIR-Filters lautet damit\n",
    "\\begin{equation*}\n",
    "y_{\\text{IIR}}(k) = \\sum_{i=0}^{M} a_{i} x(k-i) - \\underbrace{\\sum_{i=0}^{N} b_{i} y(k-i)}_{\\text{neuer, rekursiver Teil}}\n",
    "\\end{equation*}  \n",
    "\n",
    "Die grundlegende Struktur von IIR-Filtern und dessen Darstellungsformen sind ebenfalls zur Erinnerung in der folgenden Abbildung noch einmal zusammengefasst (siehe dazu auch die Vorlesungsfolien Thema1-Filter sowie die erste Übung)."
   ]
  },
  {
   "cell_type": "markdown",
   "metadata": {
    "editable": false
   },
   "source": [
    "![iir](img/iir.png)"
   ]
  },
  {
   "cell_type": "markdown",
   "metadata": {
    "editable": false
   },
   "source": [
    "__Der Unterschied zwischen FIR- und IIR-Systemen:__  \n",
    "\n",
    "- FIR:  \n",
    "    - Impulsantwort hat eine endliche Länge\n",
    "    - keine Rückkopplungsschleife/rekursiven Teil\n",
    "    - keine Pole (immer stabil)\n",
    "- IIR:  \n",
    "    - Impulsantwort hat eine unendliche Länge\n",
    "    - rekursive Struktur (Rückkopplungsschleife)\n",
    "    - mindestens ein Pol ( $ b_{i} \\neq  0 $ )\n",
    "\n",
    "Im Allgemeinen wird beim Entwerfen eines digitalen IIR-Filters zuerst ein entsprechender analoger Filter entworfen und dann wird der analoge Filter durch eine [bilineare Transformation](https://en.wikipedia.org/wiki/Bilinear_transform) oder [Impulsantwort-Invarianzmethode](https://en.wikipedia.org/wiki/Impulse_invariance) in einen digitalen Filter umgewandelt. Dies bedeutet, dass die Systemfunktion $H(s)$ in der komplexen s-Ebene entworfen wird. Wenn sich alle Pole von $H(s)$ in der linken Halbebene von $s$ befinden, ist der Filter stabil. Die Komplexität liegt in der Bestimmung der Übertragungsfunktion des Analogfilters. \n",
    "\n",
    "Die einzelnen Implementierungsschritte umfassen dabei:\n",
    "- Auswahl des Filtertyp, z.B. Butterworth oder Chebyshev \n",
    "- Wahl der Entwurfsparameter ($\\omega_c$, Dämpfung, u.a.), \n",
    "- Pole mit den Gleichungen für $\\phi_n$, $\\gamma$ und $p_n$ bestimmen (siehe Vorlesung Thema1-Filter)\n",
    "\n",
    "Nachfolgend soll der IIR-Filterentwurf für den Typ Butterworth und Chebychev durchgeführt und diskutiert werden. Die Gleichungen zur Bestimmung der Pole werden im Foliensatz zu Thema1-Filter erwähnt. In der Anwendung macht es mehr Sinn, die entsprechenden Funktionen aus dem Modul [`scipy.signal`](https://docs.scipy.org/doc/scipy/reference/signal.html) zu benutzen.\n",
    "\n",
    "Importieren Sie zunächst alle für dieses Notebook nötigen externen Module:"
   ]
  },
  {
   "cell_type": "code",
   "execution_count": null,
   "metadata": {},
   "outputs": [],
   "source": [
    "# Importieren Sie aus dem scipy-Modul die Teilbibliothek \"signal\"\n",
    "# Importieren Sie aus dem matplotlib-Modul die Teilbibliothek \"pyplot\" mit dem Alias \"plt\"\n",
    "# Importieren Sie das numpy-Modul mit dem Alias \"np\"\n",
    "\n",
    "[..]\n",
    "[..]\n",
    "[..]"
   ]
  },
  {
   "cell_type": "markdown",
   "metadata": {
    "editable": false
   },
   "source": [
    "<a id='butterworth'></a><div><img src=\"img/IMG-butterworth.png\" style=\"float:left\"><h2 style=\"position: relative; top: 6px; left: 6px\">2. Butterworth-Filter </h2></div>\n",
    "\n",
    "Butterworthfilter besitzen einen maximal steilen Übergang zwischen Durchlass- und Sperrbereich bei absolut glattem Amplitudengang im Duchlassbereich (kein Überschwingen). Ein analoger Butterworth-Filter besitzt keine Nullstellen (sog. \"All-Pole-Filter\"), bei der Transformation zum Digitalfilter kommen aber - abhängig von der Transformation (Bilinear, Pol-Nullstellen-Abbildung z.B.) -Nullstellen hinzu.\n",
    "\n",
    "In diesem Abschnitt soll ein Bandpassfilter mittels [`signal.butter()`](https://docs.scipy.org/doc/scipy/reference/generated/scipy.signal.butter.html) entworfen. Die Abtastfrequenz $f_s$ beträgt 1000 Hz. Frequenzkomponenten unter 130 Hz und über 440 Hz sollen herausgefiltert werden, d.h., die Grenzfrequenzen $f_{c,\\text{lower}}$ und $f_{c,\\text{upper}}$ des Bandpassfilters betragen 130 Hz bis 440 Hz. Das Passbandintervall ist dann $f_{\\text{pass}} = [130, 440]\\,\\mathrm{Hz}$. Die Einheit der Frequenzgrenzen in [`signal.butter()`](https://docs.scipy.org/doc/scipy/reference/generated/scipy.signal.butter.html) richten sich nach der Einheit der Abtastfrequenz, die als Argument übergeben wird. Oft werden sämtliche Frequenzen in $\\Omega/\\pi$ angegeben, wodurch die Frequenzachse von 0 Hz bis zur Nyquistfrequenz ($f_s/2$) auf den Bereich $[0, 1]$ normiert ist. z.T. es ist aber übersichtlicher, wenn die Frequenzachse weiterhin in Hz oder rad/s dargestellt ist. Unabhängig von der Wahl der Einheit für die Frequenzachse können die Filterpolynome jederzeit in eine andere Einheit skaliert werden, d.h. es ist nur wichtig, dass Abtast- und Grenzfrequenz(en) zusammenpassen. Gerade bei höheren Filterordnungen und hohen Abtastfrequenzwerten kann es zu numerischen Problem kommen, da die Polynomkoeffizienten schnell explodieren.\n",
    "\n",
    "Zur graphischen Darstellung werden folgende Objekte verwendet: \n",
    "1. [`signal.freqz()`](https://docs.scipy.org/doc/scipy/reference/generated/scipy.signal.freqz.html) kann dann der Frequenzgang des Filters aus dem Zähler- und Nennerpolynom aus [`signal.butter()`](https://docs.scipy.org/doc/scipy/reference/generated/scipy.signal.butter.html) berechnet werden.\n",
    "2. [`signal.tf2zpk`](https://docs.scipy.org/doc/scipy/reference/generated/scipy.signal.tf2zpk.html) rechnet das Zähler- und Nennerpolynom in Pol- und Nullstellen um."
   ]
  },
  {
   "cell_type": "code",
   "execution_count": null,
   "metadata": {},
   "outputs": [],
   "source": [
    "'''\n",
    "Beispiel: Butterworth Bandpassfilterentwurf mit verschiedenen Ordnungen\n",
    "'''\n",
    "\n",
    "for filterOrder in (2, 10, 20):  # Ordnung\n",
    "    \n",
    "    # Parameter\n",
    "    fs_Hz = 1000                      # Abtastfrequenz\n",
    "    fPass_Hz = [130/fs_Hz, 440/fs_Hz] # Grenzfrequenzen normalisiert\n",
    "    \n",
    "\n",
    "    # Filterentwurf\n",
    "    a, b = signal.butter(filterOrder, fPass_Hz, 'Bandpass', analog=False, fs=fs_Hz/fs_Hz)  # Filterkoeffizienten\n",
    "    f_Hz, H = signal.freqz(a, b, fs=fs_Hz)  # Frequenzgang des Filters\n",
    "    z, p, k = signal.tf2zpk(a, b)        # Pol-Nullstellen-Verteilung\n",
    "\n",
    "    # Graphische Darstellung\n",
    "    plt.subplot(121)\n",
    "    plt.title('Frequenzgang des Butterworth-Filters mit Ordnung=%d' %filterOrder)\n",
    "    plt.xlabel('Frequenz [Hz]')\n",
    "    plt.ylabel('$|H(e^{jΩ})|$')\n",
    "    plt.plot(f_Hz, abs(H))\n",
    "\n",
    "    \n",
    "    plt.subplot(122)\n",
    "    plt.title('Null- und Polverteilung des Butterworth-Filters mit Ordnung=%d' %filterOrder)\n",
    "    plt.xlabel('Real')\n",
    "    plt.ylabel('Image')\n",
    "    theta = np.arange(0, 2*np.pi, 0.01)\n",
    "    plt.plot(np.cos(theta), np.sin(theta), c='g', lw=0.2)  # Erzeugung des Einheitskreis\n",
    "    plt.plot(np.real(p), np.imag(p), 'x', label=u\"Pol\")    # Polstellen\n",
    "    plt.plot(np.real(z), np.imag(z), 'o', label=u\"Null\")   # Nullstellen\n",
    "    plt.axis(\"equal\")\n",
    "    plt.legend(loc=\"upper left\")                           # Erzeugung einer Legende\n",
    "    plt.gcf().set_size_inches(15, 6)\n",
    "    plt.show()"
   ]
  },
  {
   "cell_type": "markdown",
   "metadata": {
    "editable": false
   },
   "source": [
    "Zusätzlich gibt es die Funktion [signal.buttord()](https://docs.scipy.org/doc/scipy/reference/generated/scipy.signal.buttord.html) zur Auswahl einer geeigneten Filterordnung in Abhängigkeit von festgelegten Randbedingungen bezüglich der Dämpfung im Durchlass- und Sperrbereich. Nachfolgend soll ein Bandpassfilter mittels dieser Funktion entworfen werden, damit die Dämpfung im Durchlassbereich innerhalb von 10 dB von 140 Hz bis 430 Hz liegt, während sie im Sperrbereich (außerhalb von $[130, 440]$ Hz) mindestens -40 dB beträgt."
   ]
  },
  {
   "cell_type": "code",
   "execution_count": null,
   "metadata": {},
   "outputs": [],
   "source": [
    "'''\n",
    "Beispiel: Butterworth Bandpassfilterentwurf mittels Ordnungselektion\n",
    "'''\n",
    "\n",
    "# Ordnungselektion\n",
    "fs_Hz = 1000  # Abtastfrequenz\n",
    "optOrder, WPass_rad = signal.buttord([140/fs_Hz, 430/fs_Hz], [130/fs_Hz, 440/fs_Hz], 10, 40, False, fs_Hz/fs_Hz)\n",
    "\n",
    "# Filterentwurf\n",
    "b, a = signal.butter(optOrder, WPass_rad, 'Bandpass', False, fs=fs_Hz/fs_Hz)  # Filterkoeffizienten\n",
    "f_Hz, H = signal.freqz(b, a, fs=fs_Hz) # Frequenzgang des Filters\n",
    "z, p, k = signal.tf2zpk(b, a)          # Null-Pol Verteilung\n",
    "\n",
    "# Graphische Darstellung\n",
    "plt.subplot(121)\n",
    "plt.title('Frequenzgang des Butterworth-Filters mit Ordnung=%d' %optOrder)\n",
    "plt.xlabel('Frequenz [Hz]')\n",
    "plt.ylabel('$|H(e^{jΩ})|$')\n",
    "plt.plot(f_Hz, abs(H))\n",
    "\n",
    "\n",
    "plt.subplot(122)\n",
    "plt.title('Null- und Polverteilung des Butterworth-Filters mit Ordnung=%d' %optOrder)\n",
    "plt.xlabel('Real')\n",
    "plt.ylabel('Image')\n",
    "theta = np.arange(0, 2*np.pi, 0.01)\n",
    "plt.plot(np.cos(theta), np.sin(theta), c='g', lw=0.2)  # Einheitskreis\n",
    "plt.plot(np.real(p), np.imag(p), 'x', label=u\"Pol\")\n",
    "plt.plot(np.real(z), np.imag(z), 'o', label=u\"Null\")\n",
    "plt.axis(\"equal\")\n",
    "plt.legend(loc=\"upper left\")\n",
    "plt.gcf().set_size_inches(15, 6)\n",
    "plt.show()"
   ]
  },
  {
   "cell_type": "markdown",
   "metadata": {
    "editable": false
   },
   "source": [
    "---\n",
    "\n",
    "<a id='chebyshev'></a><div><img src=\"img/IMG-chebyshev.png\" style=\"float:left\"><h2 style=\"position: relative; top: 6px; left: 6px\">3. Chebyshev-Filter </h2></div>\n",
    "\n",
    "Beim Chebychev-Filter fällt die Amplitude im Übergangsbereich steiler ab als beim Butterworth-Filter. Dieser Vorteil wird durch eine gewisse\n",
    "(einstellbare) Welligkeit im Durchlassbereich erkauft (unterhalb der Grenzfrequenz). \n",
    "\n",
    "Ähnlich wie Butterworth-Filterentwurf, gibt es auch für den Chebyshev-Filterentwurf Funktionen zur Ordnungselektion, daher können diese ganz analog dazu verwenden werden. Alle Details können Sie unter [scipy.signal](https://docs.scipy.org/doc/scipy/reference/signal.html) finden.   \n",
    "\n",
    "Außerdem gibt es eine allgemeine Funktion [signal.iirfilter()](https://docs.scipy.org/doc/scipy/reference/generated/scipy.signal.iirfilter.html) zum IIR-Filterentwurf, Im Nachfolgenden sollen diese Funktionen benutzt werden, um einen Chebyshev-Typ-I und -II Digitalfilter mit einer Abtastfrequenz von $f_s = 8000$ Hz zu entwerfen. Chebyshev Filter Typ I weisen eine Welligkeit im Passband auf, während Typ II Filter die Welligkeit im Stoppband haben.\n",
    "\n",
    "- __Chebyshev Typ I__<br>\n",
    "Entwerfen Sie eine for-Schleife zur Berechnung von Chebyshev-Hochpassfiltern des Typ I mit den unterschiedlichen Ordnung 2,5 und 10 (wie es für den Butterworth-Filter in Kapitel 2 schon umgesetzt wurde). Die Grenzfrequenz $f_c$ soll dabei 1500 Hz betragen und die Abtastfrequenz $f_s$ 8000 Hz. <br>\n",
    "_Hinweis_: Der In- und Output der Objekte `signal.iirfilter()` und `signal.butter()` ähneln sich sehr. Zur Erzeugung des Chebyshev-HP-Filters benötigt es im Vergleich zu Kapitel 2 noch folgende Variableneinstellungen:  `(btype='highpass', ftype='cheby1', rp=1)`."
   ]
  },
  {
   "cell_type": "code",
   "execution_count": null,
   "metadata": {},
   "outputs": [],
   "source": [
    "'''\n",
    "Beispiel: Chebyshev Typ-I Hochpassfilterentwurf mit verschidenen Ordnungen\n",
    "'''\n",
    "\n",
    "[..]  # ToDo: for-Schleife zur Berechnung des Filters für 2., 5., und 10. Ordnung\n",
    "    \n",
    "    # Parameterinitialisierung\n",
    "    fs_Hz = [..]  # ToDo: Definition der Abtastfrequenz\n",
    "    fc_Hz = [..]  # ToDo: Definition der Grenzfrequenz\n",
    "    \n",
    "\n",
    "    # Filterentwurf\n",
    "    a, b =    [..]  # ToDo: Berechnung der Filterpolynome mittels signal.iirfilter\n",
    "    f_Hz, H = [..]  # ToDo: Berechnung des Frequenzgangs\n",
    "    z, p, k = [..]  # ToDo: Berechnung der Null- und Polstellen\n",
    "\n",
    "    # Graphische Darstellung\n",
    "    plt.subplot(121)\n",
    "    plt.title('Frequenzgang des Chebyshev-Typ-I-Filters mit Ordnung=%d' %n)\n",
    "    plt.xlabel('Frequenz [Hz]')\n",
    "    plt.ylabel('$|H(e^{jΩ})|$')\n",
    "    [..]  # ToDo: Plotten des Frequenzgangs des Filters\n",
    "    \n",
    "    plt.subplot(122)\n",
    "    plt.title('Null- und Polverteilung des Chebyshev-Typ-I-Filters mit Ordnung=%d' %n)\n",
    "    plt.xlabel('Real')\n",
    "    plt.ylabel('Image')\n",
    "    theta = np.arange(0, 2*np.pi, 0.01)\n",
    "    plt.plot(np.cos(theta), np.sin(theta), c='g', lw=0.2)  # Einheitskreis\n",
    "    [..]  # ToDo: Plotten der Polstellen\n",
    "    [..]  # ToDo: Plotten der Nullstellen\n",
    "    plt.axis(\"equal\")\n",
    "    plt.legend(loc=\"upper left\")\n",
    "    \n",
    "    plt.gcf().set_size_inches(15, 6)\n",
    "    plt.show()"
   ]
  },
  {
   "cell_type": "markdown",
   "metadata": {
    "editable": false
   },
   "source": [
    "Nachfolgend soll ein Chebyshev-Bandstopp-Filter vom Typ 1 entworfen werden. Wie in Kapitel 2 soll auch hier Ordnungsselektion durchgeführt werden. Dies wird mit dem Objekt [`signal.cheb1ord()`](https://docs.scipy.org/doc/scipy/reference/generated/scipy.signal.cheb1ord.html) umgesetzt. Die Abtastfrequenz soll wieder bei $f_s = 8000$ Hz liegen, dessen Dämpfung im Sperrbereich von 1590 Hz bis 2990 Hz mindestens 40 dB beträgt, während die Dämpfung im Durchlassbereich (außerhalb von [1500,3000] Hz) innerhalb von -10 dB liegen soll.<br>\n",
    "_Hinweis_: ändern Sie für  `signal.iirfilter()` die Variablen wie folgendermaßen:  `(btype='bandstop')`.\n"
   ]
  },
  {
   "cell_type": "code",
   "execution_count": null,
   "metadata": {},
   "outputs": [],
   "source": [
    "'''\n",
    "Beispiel: Chebyshev Typ-I Bandsperrfilterentwurf mit Ordnungsselektion\n",
    "'''\n",
    "\n",
    "# Parameterinitialisiterung\n",
    "fs_Hz =  [..]  # ToDo: Definition der Abtastfrequenz\n",
    "\n",
    "# Ordnungsselektion\n",
    "optOrder, WPass_rad = [..]  # ToDo: Berechnung der Ordnungszahl und der Grenzfrequenzen mit signal.cheb1ord() \n",
    "\n",
    " # Filterentwurf\n",
    "a, b =    [..]  # ToDo: Berechnung der Filterpolynome mittels signal.iirfilter\n",
    "f_Hz, H = [..]  # ToDo: Berechnung des Frequenzgangs\n",
    "z, p, k = [..]  # ToDo: Berechnung der Null- und Polstellen\n",
    "\n",
    "\n",
    "\n",
    "# Graphische Darstellung\n",
    "plt.subplot(121)\n",
    "plt.title('Frequenzgang des Chebyshev-Typ-I-Filters mit Ordnung=%d' %optOrder)\n",
    "plt.xlabel('Frequenz [Hz]')\n",
    "plt.ylabel('$|H(e^{jΩ})|$')\n",
    "[..]  # ToDo: Plotten des Frequenzgangs des Filters\n",
    "\n",
    "plt.subplot(122)\n",
    "plt.title('Null- und Polverteilung des Chebyshev-Typ-I-Filters mit Ordnung=%d' %optOrder)\n",
    "plt.xlabel('Real')\n",
    "plt.ylabel('Image')\n",
    "theta = np.arange(0, 2*np.pi, 0.01)\n",
    "plt.plot(np.cos(theta), np.sin(theta), c='g', lw=0.2)  # Einheitskreis\n",
    "[..]  # ToDo: Plotten der Polstellen\n",
    "[..]  # ToDo: Plotten der Nullstellen\n",
    "plt.axis(\"equal\")\n",
    "plt.legend(loc=\"upper left\")\n",
    "\n",
    "plt.gcf().set_size_inches(15, 6)\n",
    "plt.show()"
   ]
  },
  {
   "cell_type": "markdown",
   "metadata": {
    "editable": false
   },
   "source": [
    "- __Chebyshev Typ II__<br>\n",
    "Der Chebyshev-Filter des Typ 2 soll nun genutzt werden, um einen Tiefpass mit der Grenzfrequenz $f_c = 1500$ Hz bei einer Abtasfrequenz von $f_s = 8000$ Hz zu entwerfen. Es sollen analog zum vorherigen Chebyshev-Filter-Entwurf 1. Typs wieder Filter mit 2., 5. und 10. Ordnung ausgegeben werden.<br>\n",
    "_Hinweis_: Ändern Sie für  `signal.iirfilter()` die Variablen folgendermaßen:  `(rs=20, btype='lowpass', analog=False, ftype='cheby2')`."
   ]
  },
  {
   "cell_type": "code",
   "execution_count": null,
   "metadata": {},
   "outputs": [],
   "source": [
    "'''\n",
    "Aufgabe: Chebyshev Typ-II Tiefpassilterentwurf mit verschidenen Ordnungen\n",
    "'''\n",
    "\n",
    "[..]  # ToDo: for-Schleife zur Berechnung des Filters für 2., 5., und 10. Ordnung\n",
    "    \n",
    "    # Parameterinitialisierung\n",
    "    fs_Hz = [..]  # ToDo: Definition der Abtastfrequenz\n",
    "    fc_Hz = [..]  # ToDo: Definition der Grenzfrequenz\n",
    "\n",
    "    # Filterentwurf\n",
    "    a, b =    [..]  # ToDo: Berechnung der Filterpolynome mittels signal.iirfilter\n",
    "    w, H =    [..]  # ToDo: Berechnung des Frequenzgangs\n",
    "    z, p, k = [..]  # ToDo: Berechnung der Null- und Polstellen\n",
    "\n",
    "    # Plot\n",
    "    plt.subplot(121)\n",
    "    plt.title('Frequenzgang des Chebyshev-Typ-II-Filters mit Ordnung=%d' %filterOrder)\n",
    "    plt.xlabel('Frequenz [rad/s]')\n",
    "    plt.ylabel('Amplitude')\n",
    "    [..]  # ToDo: Plotten des Frequenzgangs des Filters\n",
    "\n",
    "    plt.subplot(122)\n",
    "    plt.title('Null- und Polverteilung des Chebyshev-Typ-II-Filters mit Ordnung=%d' %filterOrder)\n",
    "    plt.xlabel('Real')\n",
    "    plt.ylabel('Image')\n",
    "    theta = np.arange(0, 2*np.pi, 0.01)\n",
    "    plt.plot(np.cos(theta), np.sin(theta), c='g', lw=0.2)  # Einheitskreis\n",
    "    [..]  # ToDo: Plotten der Polstellen\n",
    "    [..]  # ToDo: Plotten der Nullstellen\n",
    "    plt.axis(\"equal\")\n",
    "    plt.legend(loc=\"upper left\")\n",
    "\n",
    "    plt.gcf().set_size_inches(15, 6)\n",
    "    plt.show()"
   ]
  },
  {
   "cell_type": "markdown",
   "metadata": {
    "editable": false
   },
   "source": [
    "Auch hier soll noch einmal die Ordnungsselektion für den Chebyshev-Filter vom Typ 2 verwendet werden. Dafür soll ein Chebyshev-Bandpass-Filter vom Typ 2 entworfen werden. Dies wird mit dem Objekt [`signal.cheb2ord()`](https://docs.scipy.org/doc/scipy/reference/generated/scipy.signal.cheb2ord.html) umgesetzt. Die Abtastfrequenz soll bei $f_s = 8000$ Hz liegen, dessen Dämpfung im Durchlassberech von 1590 Hz bis 2990 Hz  innerhalb von 10 dB, während sie im Sperrbereich (außerhalb von [1500,3000] Hz) mindestens -40 dB beträgt.<br>\n",
    "_Hinweis_: ändern Sie für  `signal.iirfilter()` die Variablen wie folgendermaßen:  `(btype='bandpass')`.\n"
   ]
  },
  {
   "cell_type": "code",
   "execution_count": null,
   "metadata": {},
   "outputs": [],
   "source": [
    "'''\n",
    "Aufgabe: Chebyshev Typ-II Bandpassfilterentwurf mit Ordnungselektion\n",
    "'''\n",
    "# Parameterinitialisiterung\n",
    "fs_Hz = [..]  # ToDo: Definition der Abtastfrequenz\n",
    "\n",
    "# Ordnungsselektion\n",
    "optOrder, wPass_rad = [..]  # ToDo: Berechnung der Ordnungszahl und der Grenzfrequenzen mit signal.cheb2ord() \n",
    "\n",
    " # Filterentwurf\n",
    "a, b =    [..]  # ToDo: Berechnung der Filterpolynome mittels signal.iirfilter\n",
    "f_Hz, H = [..]  # ToDo: Berechnung des Frequenzgangs\n",
    "z, p, k = [..]  # ToDo: Berechnung der Null- und Polstellen\n",
    "\n",
    "# Graphische Darstellung\n",
    "plt.subplot(121)\n",
    "plt.title('Frequenzgang des Chebyshev-Typ-II-Filters mit Ordnung=%d' %optOrder)\n",
    "plt.xlabel('Frequenz [rad/s]')\n",
    "plt.ylabel('Amplitude')\n",
    "[..]  # ToDo: Plotten des Frequenzgangs des Filters\n",
    "\n",
    "plt.subplot(122)\n",
    "plt.title('Null- und Polverteilung des Chebyshev-Typ-II-Filters mit Ordnung=%d' %optOrder)\n",
    "plt.xlabel('Real')\n",
    "plt.ylabel('Image')\n",
    "theta = np.arange(0, 2*np.pi, 0.01)\n",
    "plt.plot(np.cos(theta), np.sin(theta), c='g', lw=0.2)  # Einheitskreis\n",
    "[..]  # ToDo: Plotten der Polstellen\n",
    "[..]  # ToDo: Plotten der Nullstellen\n",
    "plt.axis(\"equal\")\n",
    "plt.legend(loc=\"upper left\")\n",
    "plt.gcf().set_size_inches(15, 6)\n",
    "plt.show()"
   ]
  },
  {
   "cell_type": "markdown",
   "metadata": {
    "editable": false
   },
   "source": [
    "<a id='verz'></a><div><img src=\"img/IMG-emphasis.jpg\" style=\"float:left\"><h2 style=\"position: relative; top: 6px; left: 6px\">4. Vorverzerrung </h2></div>\n",
    "\n",
    "Wenn ein analoger Filter $H_{lp}$ mit einer festgelegten Grenzfrequenz mittels der Bilineartransformation in einen digitalen Filter $Hd_{lp}$ überführt werden soll, wird diese durch die Achsenverzerrung von der s- in die z-Ebene verzerrt und die Grenzfrequenz des Digitalfilters ist u.U. deutlich daneben (die Verzerrung wird stärker für höhere Grenzfrequenzen). Aus diesem Grund wird die analoge Grenzfrequenz zunächst _vorverzerrt_, danach die Filterkoeffizienten berechnet und anschließend der analoge Filter in einen digitalen Filter transformiert. Für die Transformation in den z-Bereich kann die [signal.cont2discrete()](https://docs.scipy.org/doc/scipy/reference/generated/scipy.signal.cont2discrete.html#scipy.signal.cont2discrete) Funktion verwendet werden. \n",
    "\n",
    "Im Nachfolgenden wird zunächst ein analoger Butterworth-Filter 3. Ordnung erstellt mit der bereits kennengelernten Funktion [signal.butter()](https://docs.scipy.org/doc/scipy/reference/generated/scipy.signal.butter.html), wobei die analog=True flag gesetzt werden muss. Zum Plotten des analogen Frequenzganges eignen sich die [signal.TransferFunction()](https://docs.scipy.org/doc/scipy/reference/generated/scipy.signal.TransferFunction.html) und [signal.bode()](https://docs.scipy.org/doc/scipy/reference/generated/scipy.signal.bode.html) Funktionen.\n",
    "\n",
    "Für die Vorverzerrung wird die neue Grenzfrequenz $\\omega_c^{\\prime}$ über den in der Vorlesung kennengelernten Ausdruck\n",
    "\\begin{equation}\n",
    "\\omega_c^{\\prime} = 2f_s\\cdot \\tan\\left(\\frac{\\omega_c}{2\\cdot f_s}\\right)\n",
    "\\end{equation}\n",
    "berechnet. "
   ]
  },
  {
   "cell_type": "code",
   "execution_count": null,
   "metadata": {
    "scrolled": true
   },
   "outputs": [],
   "source": [
    "'''\n",
    "Beispiel für das Vorverzerren und der anschließenden Transformation vom Analog- zum Digitalfilter\n",
    "'''\n",
    "\n",
    "fs_Hz = 2000               # Samplingfrequenz\n",
    "ws_rad_s = 2*np.pi*fs_Hz   # Samplingfrequenz\n",
    "dt = 1/fs_Hz               # Abtastintervall\n",
    "fc_Hz = 500                # Grenzfrequenz des Filters\n",
    "wc_rad_s = fc_Hz*2*np.pi   # Grenzfrequenz des Filters\n",
    "Wc_rad = wc_rad_s/fs_Hz    # Normalisierte Grenzfrequenz \n",
    "# Inline function für Umrechnung der vorverzerrten Frequenz VOR der Transformation:\n",
    "analogFreqPreWarping = lambda wc_rad_s, fs_Hz: 2*fs_Hz*np.tan(wc_rad_s/(fs_Hz*2)) \n",
    "\n",
    "# Grenzfrequenz vorverzerren:\n",
    "wcPw_rad_s = analogFreqPreWarping(wc_rad_s, fs_Hz)\n",
    "print(\"{} {} {}\".format(\"Vorverzerrte Grenzfrequenz: \", wcPw_rad_s, \"rad/s\"))\n",
    "\n",
    "# Koeffizienten eines Butterworth-Filters berechnen:\n",
    "filterOrder = 3\n",
    "a, b = signal.butter(filterOrder, wcPw_rad_s, 'lowpass', analog=True)  # Filterkoeffizienten des analogen Tiefpasses\n",
    "Hlp = signal.TransferFunction(a, b) # Systemfunktion des Analogfilters\n",
    "\n",
    "# Analog zu diskret Transformation des Tiefpasses:\n",
    "ad, bd, dt = signal.cont2discrete((a, b), 1/fs_Hz, 'bilinear')\n",
    "ad = ad.flatten() # sonst spinnen die Dimensionen von ad...\n",
    "\n",
    "# Plotten der Frequenzgänge:\n",
    "wPlot_rad_s = np.arange(0, fs_Hz*2*np.pi, 1) # Frequenzachse zum Plotten\n",
    "w, mag, phase = Hlp.bode(w=wPlot_rad_s)      # Frequenzgang des Analogfilters\n",
    "wd, Hdlp = signal.freqz(ad, bd, fs=fs_Hz)    # Frequenzgang des Digitalfilters\n",
    "\n",
    "plt.subplot(121)\n",
    "plt.plot(wPlot_rad_s/(2*np.pi), 10**(mag/20), '-k')\n",
    "plt.plot([wc_rad_s/(2*np.pi), wc_rad_s/(2*np.pi)], [0, 1],'-b')\n",
    "plt.plot([0, ws_rad_s/(2*np.pi)], [1/np.sqrt(2), 1/np.sqrt(2)],'--b')\n",
    "plt.title('Analoger Butterworth-Tiefpassfilter %d. Ordnung' %filterOrder)\n",
    "plt.xlabel('Frequenz [Hz]')\n",
    "plt.ylabel('Amplitude')\n",
    "plt.subplot(122)\n",
    "plt.plot(wd/fs_Hz*2*np.pi, abs(Hdlp),'-k')\n",
    "plt.plot([Wc_rad, Wc_rad], [0, 1],'-b')\n",
    "plt.plot([0, np.pi], [1/np.sqrt(2), 1/np.sqrt(2)],'--b')\n",
    "plt.title('Digitaler Butterworth-Tiefpassfilter %d. Ordnung' %filterOrder)\n",
    "plt.xlabel('Frequenz [rad]')\n",
    "plt.ylabel('Amplitude')\n",
    "plt.subplots_adjust(left=0.1, right=2, top=0.9)"
   ]
  },
  {
   "cell_type": "markdown",
   "metadata": {
    "editable": false
   },
   "source": [
    "Im ersten Fall (unverzerrt) sollte der Amplitudenfrequenzgang des Analogfilters bei der Grenzfrequenz $w_c$ $1/\\sqrt(2)$ betragen, die äquivalente Grenzfrequenz des Digitalfilters aber kleiner als gewollt sein. Wenn der Digitalfilter dagegen mit der vorverzerrten Grenzfrequenz $w_{c,pw}$ berechnet wird, ist die Grenzfrequenz des Analogfilters höher als gewollt (was in diesem Falle egal ist, da ja der Digitalfilter interessiert), die des Digitalfilters passt aber genau.\n",
    "\n",
    "---\n",
    "\n",
    "### References\n",
    "\n",
    "1. Titelbild von [Avon Ampo](https://www.eeweb.com/audio-signal-processing/)  \n",
    "2. DSP Guide: [The Scientist and Engineer's Guide to\n",
    "Digital Signal Processing](http://www.dspguide.com/pdfbook.htm)\n",
    "3. Python-Modul von Signalverarbeitung: [scipy.signal](https://docs.scipy.org/doc/scipy/reference/signal.html)\n",
    "---\n",
    "<div>Notebook erstellt von <a href=\"mailto:arne-lukas.fietkau@tu-dresden.de?Subject=Frage%20zu%20Jupyter%20Notebook%201.2%20IIR%20Filterentwurf\" target=\"_top\">Arne-Lukas Fietkau</a>, Yifei Li  und Christoph Wagner </div>"
   ]
  }
 ],
 "metadata": {
  "celltoolbar": "Edit Metadata",
  "kernelspec": {
   "display_name": "Python 3 (ipykernel)",
   "language": "python",
   "name": "python3"
  },
  "language_info": {
   "codemirror_mode": {
    "name": "ipython",
    "version": 3
   },
   "file_extension": ".py",
   "mimetype": "text/x-python",
   "name": "python",
   "nbconvert_exporter": "python",
   "pygments_lexer": "ipython3",
   "version": "3.10.7"
  }
 },
 "nbformat": 4,
 "nbformat_minor": 4
}
